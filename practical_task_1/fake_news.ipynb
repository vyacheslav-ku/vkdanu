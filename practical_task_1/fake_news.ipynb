{
 "cells": [
  {
   "cell_type": "code",
   "execution_count": 1,
   "id": "initial_id",
   "metadata": {
    "collapsed": true,
    "ExecuteTime": {
     "end_time": "2024-03-04T19:12:18.166869Z",
     "start_time": "2024-03-04T19:12:15.347454Z"
    }
   },
   "outputs": [
    {
     "data": {
      "text/html": "        <script type=\"text/javascript\">\n        window.PlotlyConfig = {MathJaxConfig: 'local'};\n        if (window.MathJax && window.MathJax.Hub && window.MathJax.Hub.Config) {window.MathJax.Hub.Config({SVG: {font: \"STIX-Web\"}});}\n        if (typeof require !== 'undefined') {\n        require.undef(\"plotly\");\n        requirejs.config({\n            paths: {\n                'plotly': ['https://cdn.plot.ly/plotly-2.29.1.min']\n            }\n        });\n        require(['plotly'], function(Plotly) {\n            window._Plotly = Plotly;\n        });\n        }\n        </script>\n        "
     },
     "metadata": {},
     "output_type": "display_data"
    }
   ],
   "source": [
    "import pandas as pd\n",
    "from sklearn.model_selection import train_test_split\n",
    "import numpy\n",
    "from tfIdfInheritVectorizer.feature_extraction.vectorizer import TFIDFVectorizer\n",
    "from sklearn.linear_model import PassiveAggressiveClassifier\n",
    "import plotly.express as px\n",
    "import plotly.graph_objs as go\n",
    "from plotly.offline import download_plotlyjs, init_notebook_mode, plot, iplot\n",
    "init_notebook_mode(connected=True)\n"
   ]
  },
  {
   "cell_type": "code",
   "outputs": [
    {
     "name": "stdout",
     "output_type": "stream",
     "text": [
      "  % Total    % Received % Xferd  Average Speed   Time    Time     Time  Current\r\n",
      "                                 Dload  Upload   Total   Spent    Left  Speed\r\n",
      "100 29.2M  100 29.2M    0     0  9667k      0  0:00:03  0:00:03 --:--:-- 9673k\r\n"
     ]
    }
   ],
   "source": [
    "! curl https://storage.yandexcloud.net/academy.ai/practica/fake_news.csv > fake_news.csv"
   ],
   "metadata": {
    "collapsed": false,
    "ExecuteTime": {
     "end_time": "2024-03-04T17:44:38.703837Z",
     "start_time": "2024-03-04T17:44:35.372112Z"
    }
   },
   "id": "f84102cac007269",
   "execution_count": 2
  },
  {
   "cell_type": "code",
   "outputs": [],
   "source": [
    "df = pd.read_csv(\"fake_news.csv\")"
   ],
   "metadata": {
    "collapsed": false,
    "ExecuteTime": {
     "end_time": "2024-03-04T19:12:32.604194Z",
     "start_time": "2024-03-04T19:12:31.780597Z"
    }
   },
   "id": "2e2008b8139b1693",
   "execution_count": 2
  },
  {
   "cell_type": "code",
   "outputs": [
    {
     "data": {
      "text/plain": "   Unnamed: 0                                              title  \\\n0        8476                       You Can Smell Hillary’s Fear   \n1       10294  Watch The Exact Moment Paul Ryan Committed Pol...   \n2        3608        Kerry to go to Paris in gesture of sympathy   \n\n                                                text label  \n0  Daniel Greenfield, a Shillman Journalism Fello...  FAKE  \n1  Google Pinterest Digg Linkedin Reddit Stumbleu...  FAKE  \n2  U.S. Secretary of State John F. Kerry said Mon...  REAL  ",
      "text/html": "<div>\n<style scoped>\n    .dataframe tbody tr th:only-of-type {\n        vertical-align: middle;\n    }\n\n    .dataframe tbody tr th {\n        vertical-align: top;\n    }\n\n    .dataframe thead th {\n        text-align: right;\n    }\n</style>\n<table border=\"1\" class=\"dataframe\">\n  <thead>\n    <tr style=\"text-align: right;\">\n      <th></th>\n      <th>Unnamed: 0</th>\n      <th>title</th>\n      <th>text</th>\n      <th>label</th>\n    </tr>\n  </thead>\n  <tbody>\n    <tr>\n      <th>0</th>\n      <td>8476</td>\n      <td>You Can Smell Hillary’s Fear</td>\n      <td>Daniel Greenfield, a Shillman Journalism Fello...</td>\n      <td>FAKE</td>\n    </tr>\n    <tr>\n      <th>1</th>\n      <td>10294</td>\n      <td>Watch The Exact Moment Paul Ryan Committed Pol...</td>\n      <td>Google Pinterest Digg Linkedin Reddit Stumbleu...</td>\n      <td>FAKE</td>\n    </tr>\n    <tr>\n      <th>2</th>\n      <td>3608</td>\n      <td>Kerry to go to Paris in gesture of sympathy</td>\n      <td>U.S. Secretary of State John F. Kerry said Mon...</td>\n      <td>REAL</td>\n    </tr>\n  </tbody>\n</table>\n</div>"
     },
     "execution_count": 3,
     "metadata": {},
     "output_type": "execute_result"
    }
   ],
   "source": [
    "df.head(3)"
   ],
   "metadata": {
    "collapsed": false,
    "ExecuteTime": {
     "end_time": "2024-03-04T19:12:32.637266Z",
     "start_time": "2024-03-04T19:12:32.613933Z"
    }
   },
   "id": "816ebf8e4f3bd4ac",
   "execution_count": 3
  },
  {
   "cell_type": "code",
   "outputs": [
    {
     "data": {
      "text/plain": "(6335, 4)"
     },
     "execution_count": 4,
     "metadata": {},
     "output_type": "execute_result"
    }
   ],
   "source": [
    "df.shape"
   ],
   "metadata": {
    "collapsed": false,
    "ExecuteTime": {
     "end_time": "2024-03-04T19:12:49.941460Z",
     "start_time": "2024-03-04T19:12:49.901393Z"
    }
   },
   "id": "d9e53969273d2b6b",
   "execution_count": 4
  },
  {
   "cell_type": "code",
   "outputs": [],
   "source": [
    "X = df['text'].values\n",
    "y = df['label'].values\n"
   ],
   "metadata": {
    "collapsed": false,
    "ExecuteTime": {
     "end_time": "2024-03-04T19:12:51.917899Z",
     "start_time": "2024-03-04T19:12:51.853397Z"
    }
   },
   "id": "b65e81241d8c3c53",
   "execution_count": 5
  },
  {
   "cell_type": "code",
   "outputs": [],
   "source": [
    "X_train, X_test, y_train, y_test = train_test_split(X, y, test_size=0.33, random_state=42, stratify=y)"
   ],
   "metadata": {
    "collapsed": false,
    "ExecuteTime": {
     "end_time": "2024-03-04T19:13:16.116585Z",
     "start_time": "2024-03-04T19:13:16.096255Z"
    }
   },
   "id": "3f37905a187441fb",
   "execution_count": 6
  },
  {
   "cell_type": "code",
   "outputs": [
    {
     "name": "stdout",
     "output_type": "stream",
     "text": [
      "distributioon for train dataset : {'FAKE': 2120, 'REAL': 2124}\n",
      "distributioon for test dataset : {'FAKE': 1044, 'REAL': 1047}\n"
     ]
    }
   ],
   "source": [
    "unique, counts = numpy.unique(y_train, return_counts=True)\n",
    "print(f\"distributioon for train dataset : {dict(zip(unique, counts))}\")\n",
    "unique, counts = numpy.unique(y_test, return_counts=True)\n",
    "print(f\"distributioon for test dataset : {dict(zip(unique, counts))}\")"
   ],
   "metadata": {
    "collapsed": false,
    "ExecuteTime": {
     "end_time": "2024-03-04T19:13:18.455700Z",
     "start_time": "2024-03-04T19:13:18.420106Z"
    }
   },
   "id": "71c14c85ba61066e",
   "execution_count": 7
  },
  {
   "cell_type": "code",
   "outputs": [],
   "source": [],
   "metadata": {
    "collapsed": false,
    "ExecuteTime": {
     "end_time": "2024-03-04T19:13:18.490399Z",
     "start_time": "2024-03-04T19:13:18.444649Z"
    }
   },
   "id": "55d3bc3353275972",
   "execution_count": 7
  },
  {
   "cell_type": "code",
   "outputs": [],
   "source": [],
   "metadata": {
    "collapsed": false,
    "ExecuteTime": {
     "end_time": "2024-03-04T19:13:21.079934Z",
     "start_time": "2024-03-04T19:13:21.066639Z"
    }
   },
   "id": "63a1cb66d43b0164",
   "execution_count": 7
  },
  {
   "cell_type": "code",
   "outputs": [],
   "source": [
    "vectorizer = TFIDFVectorizer()\n",
    "train_tfidf = vectorizer.fit_transform(X_train)\n",
    "test_tfidf = vectorizer.transform(X_test)\n"
   ],
   "metadata": {
    "collapsed": false,
    "ExecuteTime": {
     "end_time": "2024-03-04T19:13:50.058813Z",
     "start_time": "2024-03-04T19:13:43.578162Z"
    }
   },
   "id": "f09d7912311682c",
   "execution_count": 8
  },
  {
   "cell_type": "code",
   "outputs": [],
   "source": [
    "clf = PassiveAggressiveClassifier(max_iter=1000, random_state=0, tol=1e-3)"
   ],
   "metadata": {
    "collapsed": false,
    "ExecuteTime": {
     "end_time": "2024-03-04T19:13:51.685376Z",
     "start_time": "2024-03-04T19:13:51.669492Z"
    }
   },
   "id": "23e1759a08bd5aa3",
   "execution_count": 9
  },
  {
   "cell_type": "code",
   "outputs": [
    {
     "data": {
      "text/plain": "PassiveAggressiveClassifier(random_state=0)",
      "text/html": "<style>#sk-container-id-1 {\n  /* Definition of color scheme common for light and dark mode */\n  --sklearn-color-text: black;\n  --sklearn-color-line: gray;\n  /* Definition of color scheme for unfitted estimators */\n  --sklearn-color-unfitted-level-0: #fff5e6;\n  --sklearn-color-unfitted-level-1: #f6e4d2;\n  --sklearn-color-unfitted-level-2: #ffe0b3;\n  --sklearn-color-unfitted-level-3: chocolate;\n  /* Definition of color scheme for fitted estimators */\n  --sklearn-color-fitted-level-0: #f0f8ff;\n  --sklearn-color-fitted-level-1: #d4ebff;\n  --sklearn-color-fitted-level-2: #b3dbfd;\n  --sklearn-color-fitted-level-3: cornflowerblue;\n\n  /* Specific color for light theme */\n  --sklearn-color-text-on-default-background: var(--sg-text-color, var(--theme-code-foreground, var(--jp-content-font-color1, black)));\n  --sklearn-color-background: var(--sg-background-color, var(--theme-background, var(--jp-layout-color0, white)));\n  --sklearn-color-border-box: var(--sg-text-color, var(--theme-code-foreground, var(--jp-content-font-color1, black)));\n  --sklearn-color-icon: #696969;\n\n  @media (prefers-color-scheme: dark) {\n    /* Redefinition of color scheme for dark theme */\n    --sklearn-color-text-on-default-background: var(--sg-text-color, var(--theme-code-foreground, var(--jp-content-font-color1, white)));\n    --sklearn-color-background: var(--sg-background-color, var(--theme-background, var(--jp-layout-color0, #111)));\n    --sklearn-color-border-box: var(--sg-text-color, var(--theme-code-foreground, var(--jp-content-font-color1, white)));\n    --sklearn-color-icon: #878787;\n  }\n}\n\n#sk-container-id-1 {\n  color: var(--sklearn-color-text);\n}\n\n#sk-container-id-1 pre {\n  padding: 0;\n}\n\n#sk-container-id-1 input.sk-hidden--visually {\n  border: 0;\n  clip: rect(1px 1px 1px 1px);\n  clip: rect(1px, 1px, 1px, 1px);\n  height: 1px;\n  margin: -1px;\n  overflow: hidden;\n  padding: 0;\n  position: absolute;\n  width: 1px;\n}\n\n#sk-container-id-1 div.sk-dashed-wrapped {\n  border: 1px dashed var(--sklearn-color-line);\n  margin: 0 0.4em 0.5em 0.4em;\n  box-sizing: border-box;\n  padding-bottom: 0.4em;\n  background-color: var(--sklearn-color-background);\n}\n\n#sk-container-id-1 div.sk-container {\n  /* jupyter's `normalize.less` sets `[hidden] { display: none; }`\n     but bootstrap.min.css set `[hidden] { display: none !important; }`\n     so we also need the `!important` here to be able to override the\n     default hidden behavior on the sphinx rendered scikit-learn.org.\n     See: https://github.com/scikit-learn/scikit-learn/issues/21755 */\n  display: inline-block !important;\n  position: relative;\n}\n\n#sk-container-id-1 div.sk-text-repr-fallback {\n  display: none;\n}\n\ndiv.sk-parallel-item,\ndiv.sk-serial,\ndiv.sk-item {\n  /* draw centered vertical line to link estimators */\n  background-image: linear-gradient(var(--sklearn-color-text-on-default-background), var(--sklearn-color-text-on-default-background));\n  background-size: 2px 100%;\n  background-repeat: no-repeat;\n  background-position: center center;\n}\n\n/* Parallel-specific style estimator block */\n\n#sk-container-id-1 div.sk-parallel-item::after {\n  content: \"\";\n  width: 100%;\n  border-bottom: 2px solid var(--sklearn-color-text-on-default-background);\n  flex-grow: 1;\n}\n\n#sk-container-id-1 div.sk-parallel {\n  display: flex;\n  align-items: stretch;\n  justify-content: center;\n  background-color: var(--sklearn-color-background);\n  position: relative;\n}\n\n#sk-container-id-1 div.sk-parallel-item {\n  display: flex;\n  flex-direction: column;\n}\n\n#sk-container-id-1 div.sk-parallel-item:first-child::after {\n  align-self: flex-end;\n  width: 50%;\n}\n\n#sk-container-id-1 div.sk-parallel-item:last-child::after {\n  align-self: flex-start;\n  width: 50%;\n}\n\n#sk-container-id-1 div.sk-parallel-item:only-child::after {\n  width: 0;\n}\n\n/* Serial-specific style estimator block */\n\n#sk-container-id-1 div.sk-serial {\n  display: flex;\n  flex-direction: column;\n  align-items: center;\n  background-color: var(--sklearn-color-background);\n  padding-right: 1em;\n  padding-left: 1em;\n}\n\n\n/* Toggleable style: style used for estimator/Pipeline/ColumnTransformer box that is\nclickable and can be expanded/collapsed.\n- Pipeline and ColumnTransformer use this feature and define the default style\n- Estimators will overwrite some part of the style using the `sk-estimator` class\n*/\n\n/* Pipeline and ColumnTransformer style (default) */\n\n#sk-container-id-1 div.sk-toggleable {\n  /* Default theme specific background. It is overwritten whether we have a\n  specific estimator or a Pipeline/ColumnTransformer */\n  background-color: var(--sklearn-color-background);\n}\n\n/* Toggleable label */\n#sk-container-id-1 label.sk-toggleable__label {\n  cursor: pointer;\n  display: block;\n  width: 100%;\n  margin-bottom: 0;\n  padding: 0.5em;\n  box-sizing: border-box;\n  text-align: center;\n}\n\n#sk-container-id-1 label.sk-toggleable__label-arrow:before {\n  /* Arrow on the left of the label */\n  content: \"▸\";\n  float: left;\n  margin-right: 0.25em;\n  color: var(--sklearn-color-icon);\n}\n\n#sk-container-id-1 label.sk-toggleable__label-arrow:hover:before {\n  color: var(--sklearn-color-text);\n}\n\n/* Toggleable content - dropdown */\n\n#sk-container-id-1 div.sk-toggleable__content {\n  max-height: 0;\n  max-width: 0;\n  overflow: hidden;\n  text-align: left;\n  /* unfitted */\n  background-color: var(--sklearn-color-unfitted-level-0);\n}\n\n#sk-container-id-1 div.sk-toggleable__content.fitted {\n  /* fitted */\n  background-color: var(--sklearn-color-fitted-level-0);\n}\n\n#sk-container-id-1 div.sk-toggleable__content pre {\n  margin: 0.2em;\n  border-radius: 0.25em;\n  color: var(--sklearn-color-text);\n  /* unfitted */\n  background-color: var(--sklearn-color-unfitted-level-0);\n}\n\n#sk-container-id-1 div.sk-toggleable__content.fitted pre {\n  /* unfitted */\n  background-color: var(--sklearn-color-fitted-level-0);\n}\n\n#sk-container-id-1 input.sk-toggleable__control:checked~div.sk-toggleable__content {\n  /* Expand drop-down */\n  max-height: 200px;\n  max-width: 100%;\n  overflow: auto;\n}\n\n#sk-container-id-1 input.sk-toggleable__control:checked~label.sk-toggleable__label-arrow:before {\n  content: \"▾\";\n}\n\n/* Pipeline/ColumnTransformer-specific style */\n\n#sk-container-id-1 div.sk-label input.sk-toggleable__control:checked~label.sk-toggleable__label {\n  color: var(--sklearn-color-text);\n  background-color: var(--sklearn-color-unfitted-level-2);\n}\n\n#sk-container-id-1 div.sk-label.fitted input.sk-toggleable__control:checked~label.sk-toggleable__label {\n  background-color: var(--sklearn-color-fitted-level-2);\n}\n\n/* Estimator-specific style */\n\n/* Colorize estimator box */\n#sk-container-id-1 div.sk-estimator input.sk-toggleable__control:checked~label.sk-toggleable__label {\n  /* unfitted */\n  background-color: var(--sklearn-color-unfitted-level-2);\n}\n\n#sk-container-id-1 div.sk-estimator.fitted input.sk-toggleable__control:checked~label.sk-toggleable__label {\n  /* fitted */\n  background-color: var(--sklearn-color-fitted-level-2);\n}\n\n#sk-container-id-1 div.sk-label label.sk-toggleable__label,\n#sk-container-id-1 div.sk-label label {\n  /* The background is the default theme color */\n  color: var(--sklearn-color-text-on-default-background);\n}\n\n/* On hover, darken the color of the background */\n#sk-container-id-1 div.sk-label:hover label.sk-toggleable__label {\n  color: var(--sklearn-color-text);\n  background-color: var(--sklearn-color-unfitted-level-2);\n}\n\n/* Label box, darken color on hover, fitted */\n#sk-container-id-1 div.sk-label.fitted:hover label.sk-toggleable__label.fitted {\n  color: var(--sklearn-color-text);\n  background-color: var(--sklearn-color-fitted-level-2);\n}\n\n/* Estimator label */\n\n#sk-container-id-1 div.sk-label label {\n  font-family: monospace;\n  font-weight: bold;\n  display: inline-block;\n  line-height: 1.2em;\n}\n\n#sk-container-id-1 div.sk-label-container {\n  text-align: center;\n}\n\n/* Estimator-specific */\n#sk-container-id-1 div.sk-estimator {\n  font-family: monospace;\n  border: 1px dotted var(--sklearn-color-border-box);\n  border-radius: 0.25em;\n  box-sizing: border-box;\n  margin-bottom: 0.5em;\n  /* unfitted */\n  background-color: var(--sklearn-color-unfitted-level-0);\n}\n\n#sk-container-id-1 div.sk-estimator.fitted {\n  /* fitted */\n  background-color: var(--sklearn-color-fitted-level-0);\n}\n\n/* on hover */\n#sk-container-id-1 div.sk-estimator:hover {\n  /* unfitted */\n  background-color: var(--sklearn-color-unfitted-level-2);\n}\n\n#sk-container-id-1 div.sk-estimator.fitted:hover {\n  /* fitted */\n  background-color: var(--sklearn-color-fitted-level-2);\n}\n\n/* Specification for estimator info (e.g. \"i\" and \"?\") */\n\n/* Common style for \"i\" and \"?\" */\n\n.sk-estimator-doc-link,\na:link.sk-estimator-doc-link,\na:visited.sk-estimator-doc-link {\n  float: right;\n  font-size: smaller;\n  line-height: 1em;\n  font-family: monospace;\n  background-color: var(--sklearn-color-background);\n  border-radius: 1em;\n  height: 1em;\n  width: 1em;\n  text-decoration: none !important;\n  margin-left: 1ex;\n  /* unfitted */\n  border: var(--sklearn-color-unfitted-level-1) 1pt solid;\n  color: var(--sklearn-color-unfitted-level-1);\n}\n\n.sk-estimator-doc-link.fitted,\na:link.sk-estimator-doc-link.fitted,\na:visited.sk-estimator-doc-link.fitted {\n  /* fitted */\n  border: var(--sklearn-color-fitted-level-1) 1pt solid;\n  color: var(--sklearn-color-fitted-level-1);\n}\n\n/* On hover */\ndiv.sk-estimator:hover .sk-estimator-doc-link:hover,\n.sk-estimator-doc-link:hover,\ndiv.sk-label-container:hover .sk-estimator-doc-link:hover,\n.sk-estimator-doc-link:hover {\n  /* unfitted */\n  background-color: var(--sklearn-color-unfitted-level-3);\n  color: var(--sklearn-color-background);\n  text-decoration: none;\n}\n\ndiv.sk-estimator.fitted:hover .sk-estimator-doc-link.fitted:hover,\n.sk-estimator-doc-link.fitted:hover,\ndiv.sk-label-container:hover .sk-estimator-doc-link.fitted:hover,\n.sk-estimator-doc-link.fitted:hover {\n  /* fitted */\n  background-color: var(--sklearn-color-fitted-level-3);\n  color: var(--sklearn-color-background);\n  text-decoration: none;\n}\n\n/* Span, style for the box shown on hovering the info icon */\n.sk-estimator-doc-link span {\n  display: none;\n  z-index: 9999;\n  position: relative;\n  font-weight: normal;\n  right: .2ex;\n  padding: .5ex;\n  margin: .5ex;\n  width: min-content;\n  min-width: 20ex;\n  max-width: 50ex;\n  color: var(--sklearn-color-text);\n  box-shadow: 2pt 2pt 4pt #999;\n  /* unfitted */\n  background: var(--sklearn-color-unfitted-level-0);\n  border: .5pt solid var(--sklearn-color-unfitted-level-3);\n}\n\n.sk-estimator-doc-link.fitted span {\n  /* fitted */\n  background: var(--sklearn-color-fitted-level-0);\n  border: var(--sklearn-color-fitted-level-3);\n}\n\n.sk-estimator-doc-link:hover span {\n  display: block;\n}\n\n/* \"?\"-specific style due to the `<a>` HTML tag */\n\n#sk-container-id-1 a.estimator_doc_link {\n  float: right;\n  font-size: 1rem;\n  line-height: 1em;\n  font-family: monospace;\n  background-color: var(--sklearn-color-background);\n  border-radius: 1rem;\n  height: 1rem;\n  width: 1rem;\n  text-decoration: none;\n  /* unfitted */\n  color: var(--sklearn-color-unfitted-level-1);\n  border: var(--sklearn-color-unfitted-level-1) 1pt solid;\n}\n\n#sk-container-id-1 a.estimator_doc_link.fitted {\n  /* fitted */\n  border: var(--sklearn-color-fitted-level-1) 1pt solid;\n  color: var(--sklearn-color-fitted-level-1);\n}\n\n/* On hover */\n#sk-container-id-1 a.estimator_doc_link:hover {\n  /* unfitted */\n  background-color: var(--sklearn-color-unfitted-level-3);\n  color: var(--sklearn-color-background);\n  text-decoration: none;\n}\n\n#sk-container-id-1 a.estimator_doc_link.fitted:hover {\n  /* fitted */\n  background-color: var(--sklearn-color-fitted-level-3);\n}\n</style><div id=\"sk-container-id-1\" class=\"sk-top-container\"><div class=\"sk-text-repr-fallback\"><pre>PassiveAggressiveClassifier(random_state=0)</pre><b>In a Jupyter environment, please rerun this cell to show the HTML representation or trust the notebook. <br />On GitHub, the HTML representation is unable to render, please try loading this page with nbviewer.org.</b></div><div class=\"sk-container\" hidden><div class=\"sk-item\"><div class=\"sk-estimator fitted sk-toggleable\"><input class=\"sk-toggleable__control sk-hidden--visually\" id=\"sk-estimator-id-1\" type=\"checkbox\" checked><label for=\"sk-estimator-id-1\" class=\"sk-toggleable__label fitted sk-toggleable__label-arrow fitted\">&nbsp;&nbsp;PassiveAggressiveClassifier<a class=\"sk-estimator-doc-link fitted\" rel=\"noreferrer\" target=\"_blank\" href=\"https://scikit-learn.org/1.4/modules/generated/sklearn.linear_model.PassiveAggressiveClassifier.html\">?<span>Documentation for PassiveAggressiveClassifier</span></a><span class=\"sk-estimator-doc-link fitted\">i<span>Fitted</span></span></label><div class=\"sk-toggleable__content fitted\"><pre>PassiveAggressiveClassifier(random_state=0)</pre></div> </div></div></div></div>"
     },
     "execution_count": 10,
     "metadata": {},
     "output_type": "execute_result"
    }
   ],
   "source": [
    "clf.fit(train_tfidf, y_train)"
   ],
   "metadata": {
    "collapsed": false,
    "ExecuteTime": {
     "end_time": "2024-03-04T19:13:54.205342Z",
     "start_time": "2024-03-04T19:13:54.107774Z"
    }
   },
   "id": "510869cee34fea9a",
   "execution_count": 10
  },
  {
   "cell_type": "code",
   "outputs": [
    {
     "data": {
      "text/plain": "1.0"
     },
     "execution_count": 11,
     "metadata": {},
     "output_type": "execute_result"
    }
   ],
   "source": [
    "clf.score(train_tfidf, y_train)"
   ],
   "metadata": {
    "collapsed": false,
    "ExecuteTime": {
     "end_time": "2024-03-04T19:14:04.566589Z",
     "start_time": "2024-03-04T19:14:04.534561Z"
    }
   },
   "id": "99d0aa25fa467cf2",
   "execution_count": 11
  },
  {
   "cell_type": "code",
   "outputs": [
    {
     "data": {
      "text/plain": "0.9459588713534194"
     },
     "execution_count": 12,
     "metadata": {},
     "output_type": "execute_result"
    }
   ],
   "source": [
    "base_line = clf.score(test_tfidf, y_test)\n",
    "base_line"
   ],
   "metadata": {
    "collapsed": false,
    "ExecuteTime": {
     "end_time": "2024-03-04T19:14:11.103969Z",
     "start_time": "2024-03-04T19:14:11.075129Z"
    }
   },
   "id": "8bca614c3c54007b",
   "execution_count": 12
  },
  {
   "cell_type": "code",
   "outputs": [],
   "source": [
    "t_shape= train_tfidf.shape"
   ],
   "metadata": {
    "collapsed": false,
    "ExecuteTime": {
     "end_time": "2024-03-04T19:36:02.584982Z",
     "start_time": "2024-03-04T19:36:02.560931Z"
    }
   },
   "id": "57f8b010edaca60",
   "execution_count": 35
  },
  {
   "cell_type": "code",
   "outputs": [
    {
     "name": "stdout",
     "output_type": "stream",
     "text": [
      "1700 1.0 0.9076996652319465\n",
      "1750 1.0 0.9091343854615017\n",
      "1800 1.0 0.9096126255380201\n",
      "1850 1.0 0.9143950263032042\n",
      "1900 1.0 0.9120038259206121\n",
      "1950 1.0 0.9172644667623147\n",
      "2000 1.0 0.9172644667623147\n",
      "2050 1.0 0.9196556671449068\n",
      "2100 1.0 0.9215686274509803\n",
      "2150 1.0 0.9215686274509803\n",
      "2200 1.0 0.9220468675274988\n",
      "2250 1.0 0.921090387374462\n",
      "2300 1.0 0.921090387374462\n",
      "2350 1.0 0.921090387374462\n",
      "2400 1.0 0.9215686274509803\n",
      "2450 1.0 0.9191774270683883\n",
      "2500 1.0 0.921090387374462\n",
      "2550 1.0 0.9225251076040172\n",
      "2600 1.0 0.9196556671449068\n",
      "2650 1.0 0.9196556671449068\n",
      "2700 1.0 0.9191774270683883\n",
      "2750 1.0 0.9206121472979436\n",
      "2800 1.0 0.9215686274509803\n",
      "2850 1.0 0.9206121472979436\n"
     ]
    }
   ],
   "source": [
    "def max_features_cals(max_features):\n",
    "    vectorizer = TFIDFVectorizer(max_features=max_features)\n",
    "    train_tfidf = vectorizer.fit_transform(X_train)\n",
    "    test_tfidf = vectorizer.transform(X_test)\n",
    "    clf = PassiveAggressiveClassifier(max_iter=1000, random_state=0, tol=1e-3)\n",
    "    clf.fit(train_tfidf, y_train)\n",
    "    return clf.score(train_tfidf, y_train), clf.score(test_tfidf, y_test)\n",
    "score_train_lst = []\n",
    "score_test_lst = []\n",
    "max_value = 2900\n",
    "min_value = 1700\n",
    "step_value = 50\n",
    "for i in range(min_value,max_value, step_value):\n",
    "    score_train, score_test = max_features_cals(i)\n",
    "    score_test_lst.append(score_test)\n",
    "    score_train_lst.append(score_train)\n",
    "    print(i, score_train, score_test)"
   ],
   "metadata": {
    "collapsed": false,
    "ExecuteTime": {
     "end_time": "2024-03-04T19:33:43.744803Z",
     "start_time": "2024-03-04T19:32:03.653583Z"
    }
   },
   "id": "cea386f94d732e7e",
   "execution_count": 31
  },
  {
   "cell_type": "code",
   "outputs": [
    {
     "data": {
      "application/vnd.plotly.v1+json": {
       "data": [
        {
         "mode": "lines",
         "name": "Test score",
         "x": [
          1700,
          1750,
          1800,
          1850,
          1900,
          1950,
          2000,
          2050,
          2100,
          2150,
          2200,
          2250,
          2300,
          2350,
          2400,
          2450,
          2500,
          2550,
          2600,
          2650,
          2700,
          2750,
          2800,
          2850
         ],
         "y": [
          0.9076996652319465,
          0.9091343854615017,
          0.9096126255380201,
          0.9143950263032042,
          0.9120038259206121,
          0.9172644667623147,
          0.9172644667623147,
          0.9196556671449068,
          0.9215686274509803,
          0.9215686274509803,
          0.9220468675274988,
          0.921090387374462,
          0.921090387374462,
          0.921090387374462,
          0.9215686274509803,
          0.9191774270683883,
          0.921090387374462,
          0.9225251076040172,
          0.9196556671449068,
          0.9196556671449068,
          0.9191774270683883,
          0.9206121472979436,
          0.9215686274509803,
          0.9206121472979436
         ],
         "type": "scatter"
        },
        {
         "mode": "lines+markers",
         "name": "Train score",
         "x": [
          1700,
          1750,
          1800,
          1850,
          1900,
          1950,
          2000,
          2050,
          2100,
          2150,
          2200,
          2250,
          2300,
          2350,
          2400,
          2450,
          2500,
          2550,
          2600,
          2650,
          2700,
          2750,
          2800,
          2850
         ],
         "y": [
          1.0,
          1.0,
          1.0,
          1.0,
          1.0,
          1.0,
          1.0,
          1.0,
          1.0,
          1.0,
          1.0,
          1.0,
          1.0,
          1.0,
          1.0,
          1.0,
          1.0,
          1.0,
          1.0,
          1.0,
          1.0,
          1.0,
          1.0,
          1.0
         ],
         "type": "scatter"
        },
        {
         "mode": "lines+markers",
         "name": "Baseline score",
         "x": [
          1700,
          1750,
          1800,
          1850,
          1900,
          1950,
          2000,
          2050,
          2100,
          2150,
          2200,
          2250,
          2300,
          2350,
          2400,
          2450,
          2500,
          2550,
          2600,
          2650,
          2700,
          2750,
          2800,
          2850
         ],
         "y": [
          0.9459588713534194,
          0.9459588713534194,
          0.9459588713534194,
          0.9459588713534194,
          0.9459588713534194,
          0.9459588713534194,
          0.9459588713534194,
          0.9459588713534194,
          0.9459588713534194,
          0.9459588713534194,
          0.9459588713534194,
          0.9459588713534194,
          0.9459588713534194,
          0.9459588713534194,
          0.9459588713534194,
          0.9459588713534194,
          0.9459588713534194,
          0.9459588713534194,
          0.9459588713534194,
          0.9459588713534194,
          0.9459588713534194,
          0.9459588713534194,
          0.9459588713534194,
          0.9459588713534194,
          0.9459588713534194,
          0.9459588713534194,
          0.9459588713534194,
          0.9459588713534194,
          0.9459588713534194,
          0.9459588713534194,
          0.9459588713534194,
          0.9459588713534194,
          0.9459588713534194,
          0.9459588713534194,
          0.9459588713534194,
          0.9459588713534194,
          0.9459588713534194,
          0.9459588713534194,
          0.9459588713534194,
          0.9459588713534194,
          0.9459588713534194,
          0.9459588713534194,
          0.9459588713534194,
          0.9459588713534194,
          0.9459588713534194,
          0.9459588713534194,
          0.9459588713534194,
          0.9459588713534194,
          0.9459588713534194,
          0.9459588713534194,
          0.9459588713534194,
          0.9459588713534194,
          0.9459588713534194,
          0.9459588713534194,
          0.9459588713534194,
          0.9459588713534194,
          0.9459588713534194,
          0.9459588713534194,
          0.9459588713534194,
          0.9459588713534194,
          0.9459588713534194,
          0.9459588713534194,
          0.9459588713534194,
          0.9459588713534194,
          0.9459588713534194,
          0.9459588713534194,
          0.9459588713534194,
          0.9459588713534194,
          0.9459588713534194,
          0.9459588713534194,
          0.9459588713534194,
          0.9459588713534194,
          0.9459588713534194,
          0.9459588713534194,
          0.9459588713534194,
          0.9459588713534194,
          0.9459588713534194,
          0.9459588713534194,
          0.9459588713534194,
          0.9459588713534194,
          0.9459588713534194,
          0.9459588713534194,
          0.9459588713534194,
          0.9459588713534194,
          0.9459588713534194,
          0.9459588713534194,
          0.9459588713534194,
          0.9459588713534194,
          0.9459588713534194,
          0.9459588713534194,
          0.9459588713534194,
          0.9459588713534194,
          0.9459588713534194,
          0.9459588713534194,
          0.9459588713534194,
          0.9459588713534194,
          0.9459588713534194,
          0.9459588713534194,
          0.9459588713534194,
          0.9459588713534194
         ],
         "type": "scatter"
        }
       ],
       "layout": {
        "template": {
         "data": {
          "histogram2dcontour": [
           {
            "type": "histogram2dcontour",
            "colorbar": {
             "outlinewidth": 0,
             "ticks": ""
            },
            "colorscale": [
             [
              0.0,
              "#0d0887"
             ],
             [
              0.1111111111111111,
              "#46039f"
             ],
             [
              0.2222222222222222,
              "#7201a8"
             ],
             [
              0.3333333333333333,
              "#9c179e"
             ],
             [
              0.4444444444444444,
              "#bd3786"
             ],
             [
              0.5555555555555556,
              "#d8576b"
             ],
             [
              0.6666666666666666,
              "#ed7953"
             ],
             [
              0.7777777777777778,
              "#fb9f3a"
             ],
             [
              0.8888888888888888,
              "#fdca26"
             ],
             [
              1.0,
              "#f0f921"
             ]
            ]
           }
          ],
          "choropleth": [
           {
            "type": "choropleth",
            "colorbar": {
             "outlinewidth": 0,
             "ticks": ""
            }
           }
          ],
          "histogram2d": [
           {
            "type": "histogram2d",
            "colorbar": {
             "outlinewidth": 0,
             "ticks": ""
            },
            "colorscale": [
             [
              0.0,
              "#0d0887"
             ],
             [
              0.1111111111111111,
              "#46039f"
             ],
             [
              0.2222222222222222,
              "#7201a8"
             ],
             [
              0.3333333333333333,
              "#9c179e"
             ],
             [
              0.4444444444444444,
              "#bd3786"
             ],
             [
              0.5555555555555556,
              "#d8576b"
             ],
             [
              0.6666666666666666,
              "#ed7953"
             ],
             [
              0.7777777777777778,
              "#fb9f3a"
             ],
             [
              0.8888888888888888,
              "#fdca26"
             ],
             [
              1.0,
              "#f0f921"
             ]
            ]
           }
          ],
          "heatmap": [
           {
            "type": "heatmap",
            "colorbar": {
             "outlinewidth": 0,
             "ticks": ""
            },
            "colorscale": [
             [
              0.0,
              "#0d0887"
             ],
             [
              0.1111111111111111,
              "#46039f"
             ],
             [
              0.2222222222222222,
              "#7201a8"
             ],
             [
              0.3333333333333333,
              "#9c179e"
             ],
             [
              0.4444444444444444,
              "#bd3786"
             ],
             [
              0.5555555555555556,
              "#d8576b"
             ],
             [
              0.6666666666666666,
              "#ed7953"
             ],
             [
              0.7777777777777778,
              "#fb9f3a"
             ],
             [
              0.8888888888888888,
              "#fdca26"
             ],
             [
              1.0,
              "#f0f921"
             ]
            ]
           }
          ],
          "heatmapgl": [
           {
            "type": "heatmapgl",
            "colorbar": {
             "outlinewidth": 0,
             "ticks": ""
            },
            "colorscale": [
             [
              0.0,
              "#0d0887"
             ],
             [
              0.1111111111111111,
              "#46039f"
             ],
             [
              0.2222222222222222,
              "#7201a8"
             ],
             [
              0.3333333333333333,
              "#9c179e"
             ],
             [
              0.4444444444444444,
              "#bd3786"
             ],
             [
              0.5555555555555556,
              "#d8576b"
             ],
             [
              0.6666666666666666,
              "#ed7953"
             ],
             [
              0.7777777777777778,
              "#fb9f3a"
             ],
             [
              0.8888888888888888,
              "#fdca26"
             ],
             [
              1.0,
              "#f0f921"
             ]
            ]
           }
          ],
          "contourcarpet": [
           {
            "type": "contourcarpet",
            "colorbar": {
             "outlinewidth": 0,
             "ticks": ""
            }
           }
          ],
          "contour": [
           {
            "type": "contour",
            "colorbar": {
             "outlinewidth": 0,
             "ticks": ""
            },
            "colorscale": [
             [
              0.0,
              "#0d0887"
             ],
             [
              0.1111111111111111,
              "#46039f"
             ],
             [
              0.2222222222222222,
              "#7201a8"
             ],
             [
              0.3333333333333333,
              "#9c179e"
             ],
             [
              0.4444444444444444,
              "#bd3786"
             ],
             [
              0.5555555555555556,
              "#d8576b"
             ],
             [
              0.6666666666666666,
              "#ed7953"
             ],
             [
              0.7777777777777778,
              "#fb9f3a"
             ],
             [
              0.8888888888888888,
              "#fdca26"
             ],
             [
              1.0,
              "#f0f921"
             ]
            ]
           }
          ],
          "surface": [
           {
            "type": "surface",
            "colorbar": {
             "outlinewidth": 0,
             "ticks": ""
            },
            "colorscale": [
             [
              0.0,
              "#0d0887"
             ],
             [
              0.1111111111111111,
              "#46039f"
             ],
             [
              0.2222222222222222,
              "#7201a8"
             ],
             [
              0.3333333333333333,
              "#9c179e"
             ],
             [
              0.4444444444444444,
              "#bd3786"
             ],
             [
              0.5555555555555556,
              "#d8576b"
             ],
             [
              0.6666666666666666,
              "#ed7953"
             ],
             [
              0.7777777777777778,
              "#fb9f3a"
             ],
             [
              0.8888888888888888,
              "#fdca26"
             ],
             [
              1.0,
              "#f0f921"
             ]
            ]
           }
          ],
          "mesh3d": [
           {
            "type": "mesh3d",
            "colorbar": {
             "outlinewidth": 0,
             "ticks": ""
            }
           }
          ],
          "scatter": [
           {
            "marker": {
             "line": {
              "color": "#283442"
             }
            },
            "type": "scatter"
           }
          ],
          "parcoords": [
           {
            "type": "parcoords",
            "line": {
             "colorbar": {
              "outlinewidth": 0,
              "ticks": ""
             }
            }
           }
          ],
          "scatterpolargl": [
           {
            "type": "scatterpolargl",
            "marker": {
             "colorbar": {
              "outlinewidth": 0,
              "ticks": ""
             }
            }
           }
          ],
          "bar": [
           {
            "error_x": {
             "color": "#f2f5fa"
            },
            "error_y": {
             "color": "#f2f5fa"
            },
            "marker": {
             "line": {
              "color": "rgb(17,17,17)",
              "width": 0.5
             },
             "pattern": {
              "fillmode": "overlay",
              "size": 10,
              "solidity": 0.2
             }
            },
            "type": "bar"
           }
          ],
          "scattergeo": [
           {
            "type": "scattergeo",
            "marker": {
             "colorbar": {
              "outlinewidth": 0,
              "ticks": ""
             }
            }
           }
          ],
          "scatterpolar": [
           {
            "type": "scatterpolar",
            "marker": {
             "colorbar": {
              "outlinewidth": 0,
              "ticks": ""
             }
            }
           }
          ],
          "histogram": [
           {
            "marker": {
             "pattern": {
              "fillmode": "overlay",
              "size": 10,
              "solidity": 0.2
             }
            },
            "type": "histogram"
           }
          ],
          "scattergl": [
           {
            "marker": {
             "line": {
              "color": "#283442"
             }
            },
            "type": "scattergl"
           }
          ],
          "scatter3d": [
           {
            "type": "scatter3d",
            "line": {
             "colorbar": {
              "outlinewidth": 0,
              "ticks": ""
             }
            },
            "marker": {
             "colorbar": {
              "outlinewidth": 0,
              "ticks": ""
             }
            }
           }
          ],
          "scattermapbox": [
           {
            "type": "scattermapbox",
            "marker": {
             "colorbar": {
              "outlinewidth": 0,
              "ticks": ""
             }
            }
           }
          ],
          "scatterternary": [
           {
            "type": "scatterternary",
            "marker": {
             "colorbar": {
              "outlinewidth": 0,
              "ticks": ""
             }
            }
           }
          ],
          "scattercarpet": [
           {
            "type": "scattercarpet",
            "marker": {
             "colorbar": {
              "outlinewidth": 0,
              "ticks": ""
             }
            }
           }
          ],
          "carpet": [
           {
            "aaxis": {
             "endlinecolor": "#A2B1C6",
             "gridcolor": "#506784",
             "linecolor": "#506784",
             "minorgridcolor": "#506784",
             "startlinecolor": "#A2B1C6"
            },
            "baxis": {
             "endlinecolor": "#A2B1C6",
             "gridcolor": "#506784",
             "linecolor": "#506784",
             "minorgridcolor": "#506784",
             "startlinecolor": "#A2B1C6"
            },
            "type": "carpet"
           }
          ],
          "table": [
           {
            "cells": {
             "fill": {
              "color": "#506784"
             },
             "line": {
              "color": "rgb(17,17,17)"
             }
            },
            "header": {
             "fill": {
              "color": "#2a3f5f"
             },
             "line": {
              "color": "rgb(17,17,17)"
             }
            },
            "type": "table"
           }
          ],
          "barpolar": [
           {
            "marker": {
             "line": {
              "color": "rgb(17,17,17)",
              "width": 0.5
             },
             "pattern": {
              "fillmode": "overlay",
              "size": 10,
              "solidity": 0.2
             }
            },
            "type": "barpolar"
           }
          ],
          "pie": [
           {
            "automargin": true,
            "type": "pie"
           }
          ]
         },
         "layout": {
          "autotypenumbers": "strict",
          "colorway": [
           "#636efa",
           "#EF553B",
           "#00cc96",
           "#ab63fa",
           "#FFA15A",
           "#19d3f3",
           "#FF6692",
           "#B6E880",
           "#FF97FF",
           "#FECB52"
          ],
          "font": {
           "color": "#f2f5fa"
          },
          "hovermode": "closest",
          "hoverlabel": {
           "align": "left"
          },
          "paper_bgcolor": "rgb(17,17,17)",
          "plot_bgcolor": "rgb(17,17,17)",
          "polar": {
           "bgcolor": "rgb(17,17,17)",
           "angularaxis": {
            "gridcolor": "#506784",
            "linecolor": "#506784",
            "ticks": ""
           },
           "radialaxis": {
            "gridcolor": "#506784",
            "linecolor": "#506784",
            "ticks": ""
           }
          },
          "ternary": {
           "bgcolor": "rgb(17,17,17)",
           "aaxis": {
            "gridcolor": "#506784",
            "linecolor": "#506784",
            "ticks": ""
           },
           "baxis": {
            "gridcolor": "#506784",
            "linecolor": "#506784",
            "ticks": ""
           },
           "caxis": {
            "gridcolor": "#506784",
            "linecolor": "#506784",
            "ticks": ""
           }
          },
          "coloraxis": {
           "colorbar": {
            "outlinewidth": 0,
            "ticks": ""
           }
          },
          "colorscale": {
           "sequential": [
            [
             0.0,
             "#0d0887"
            ],
            [
             0.1111111111111111,
             "#46039f"
            ],
            [
             0.2222222222222222,
             "#7201a8"
            ],
            [
             0.3333333333333333,
             "#9c179e"
            ],
            [
             0.4444444444444444,
             "#bd3786"
            ],
            [
             0.5555555555555556,
             "#d8576b"
            ],
            [
             0.6666666666666666,
             "#ed7953"
            ],
            [
             0.7777777777777778,
             "#fb9f3a"
            ],
            [
             0.8888888888888888,
             "#fdca26"
            ],
            [
             1.0,
             "#f0f921"
            ]
           ],
           "sequentialminus": [
            [
             0.0,
             "#0d0887"
            ],
            [
             0.1111111111111111,
             "#46039f"
            ],
            [
             0.2222222222222222,
             "#7201a8"
            ],
            [
             0.3333333333333333,
             "#9c179e"
            ],
            [
             0.4444444444444444,
             "#bd3786"
            ],
            [
             0.5555555555555556,
             "#d8576b"
            ],
            [
             0.6666666666666666,
             "#ed7953"
            ],
            [
             0.7777777777777778,
             "#fb9f3a"
            ],
            [
             0.8888888888888888,
             "#fdca26"
            ],
            [
             1.0,
             "#f0f921"
            ]
           ],
           "diverging": [
            [
             0,
             "#8e0152"
            ],
            [
             0.1,
             "#c51b7d"
            ],
            [
             0.2,
             "#de77ae"
            ],
            [
             0.3,
             "#f1b6da"
            ],
            [
             0.4,
             "#fde0ef"
            ],
            [
             0.5,
             "#f7f7f7"
            ],
            [
             0.6,
             "#e6f5d0"
            ],
            [
             0.7,
             "#b8e186"
            ],
            [
             0.8,
             "#7fbc41"
            ],
            [
             0.9,
             "#4d9221"
            ],
            [
             1,
             "#276419"
            ]
           ]
          },
          "xaxis": {
           "gridcolor": "#283442",
           "linecolor": "#506784",
           "ticks": "",
           "title": {
            "standoff": 15
           },
           "zerolinecolor": "#283442",
           "automargin": true,
           "zerolinewidth": 2
          },
          "yaxis": {
           "gridcolor": "#283442",
           "linecolor": "#506784",
           "ticks": "",
           "title": {
            "standoff": 15
           },
           "zerolinecolor": "#283442",
           "automargin": true,
           "zerolinewidth": 2
          },
          "scene": {
           "xaxis": {
            "backgroundcolor": "rgb(17,17,17)",
            "gridcolor": "#506784",
            "linecolor": "#506784",
            "showbackground": true,
            "ticks": "",
            "zerolinecolor": "#C8D4E3",
            "gridwidth": 2
           },
           "yaxis": {
            "backgroundcolor": "rgb(17,17,17)",
            "gridcolor": "#506784",
            "linecolor": "#506784",
            "showbackground": true,
            "ticks": "",
            "zerolinecolor": "#C8D4E3",
            "gridwidth": 2
           },
           "zaxis": {
            "backgroundcolor": "rgb(17,17,17)",
            "gridcolor": "#506784",
            "linecolor": "#506784",
            "showbackground": true,
            "ticks": "",
            "zerolinecolor": "#C8D4E3",
            "gridwidth": 2
           }
          },
          "shapedefaults": {
           "line": {
            "color": "#f2f5fa"
           }
          },
          "annotationdefaults": {
           "arrowcolor": "#f2f5fa",
           "arrowhead": 0,
           "arrowwidth": 1
          },
          "geo": {
           "bgcolor": "rgb(17,17,17)",
           "landcolor": "rgb(17,17,17)",
           "subunitcolor": "#506784",
           "showland": true,
           "showlakes": true,
           "lakecolor": "rgb(17,17,17)"
          },
          "title": {
           "x": 0.05
          },
          "updatemenudefaults": {
           "bgcolor": "#506784",
           "borderwidth": 0
          },
          "sliderdefaults": {
           "bgcolor": "#C8D4E3",
           "borderwidth": 1,
           "bordercolor": "rgb(17,17,17)",
           "tickwidth": 0
          },
          "mapbox": {
           "style": "dark"
          }
         }
        },
        "title": {
         "text": "How the result score depends on max_features for TFIDFVectorizer. without STOPWORDs"
        },
        "xaxis": {
         "title": {
          "text": "max_features"
         }
        },
        "yaxis": {
         "title": {
          "text": "Score"
         }
        }
       },
       "config": {
        "plotlyServerURL": "https://plot.ly"
       }
      },
      "text/html": "<div>                            <div id=\"db32a4db-e96b-42b3-ac93-c9bccacd191b\" class=\"plotly-graph-div\" style=\"height:525px; width:100%;\"></div>            <script type=\"text/javascript\">                require([\"plotly\"], function(Plotly) {                    window.PLOTLYENV=window.PLOTLYENV || {};                                    if (document.getElementById(\"db32a4db-e96b-42b3-ac93-c9bccacd191b\")) {                    Plotly.newPlot(                        \"db32a4db-e96b-42b3-ac93-c9bccacd191b\",                        [{\"mode\":\"lines\",\"name\":\"Test score\",\"x\":[1700,1750,1800,1850,1900,1950,2000,2050,2100,2150,2200,2250,2300,2350,2400,2450,2500,2550,2600,2650,2700,2750,2800,2850],\"y\":[0.9076996652319465,0.9091343854615017,0.9096126255380201,0.9143950263032042,0.9120038259206121,0.9172644667623147,0.9172644667623147,0.9196556671449068,0.9215686274509803,0.9215686274509803,0.9220468675274988,0.921090387374462,0.921090387374462,0.921090387374462,0.9215686274509803,0.9191774270683883,0.921090387374462,0.9225251076040172,0.9196556671449068,0.9196556671449068,0.9191774270683883,0.9206121472979436,0.9215686274509803,0.9206121472979436],\"type\":\"scatter\"},{\"mode\":\"lines+markers\",\"name\":\"Train score\",\"x\":[1700,1750,1800,1850,1900,1950,2000,2050,2100,2150,2200,2250,2300,2350,2400,2450,2500,2550,2600,2650,2700,2750,2800,2850],\"y\":[1.0,1.0,1.0,1.0,1.0,1.0,1.0,1.0,1.0,1.0,1.0,1.0,1.0,1.0,1.0,1.0,1.0,1.0,1.0,1.0,1.0,1.0,1.0,1.0],\"type\":\"scatter\"},{\"mode\":\"lines+markers\",\"name\":\"Baseline score\",\"x\":[1700,1750,1800,1850,1900,1950,2000,2050,2100,2150,2200,2250,2300,2350,2400,2450,2500,2550,2600,2650,2700,2750,2800,2850],\"y\":[0.9459588713534194,0.9459588713534194,0.9459588713534194,0.9459588713534194,0.9459588713534194,0.9459588713534194,0.9459588713534194,0.9459588713534194,0.9459588713534194,0.9459588713534194,0.9459588713534194,0.9459588713534194,0.9459588713534194,0.9459588713534194,0.9459588713534194,0.9459588713534194,0.9459588713534194,0.9459588713534194,0.9459588713534194,0.9459588713534194,0.9459588713534194,0.9459588713534194,0.9459588713534194,0.9459588713534194,0.9459588713534194,0.9459588713534194,0.9459588713534194,0.9459588713534194,0.9459588713534194,0.9459588713534194,0.9459588713534194,0.9459588713534194,0.9459588713534194,0.9459588713534194,0.9459588713534194,0.9459588713534194,0.9459588713534194,0.9459588713534194,0.9459588713534194,0.9459588713534194,0.9459588713534194,0.9459588713534194,0.9459588713534194,0.9459588713534194,0.9459588713534194,0.9459588713534194,0.9459588713534194,0.9459588713534194,0.9459588713534194,0.9459588713534194,0.9459588713534194,0.9459588713534194,0.9459588713534194,0.9459588713534194,0.9459588713534194,0.9459588713534194,0.9459588713534194,0.9459588713534194,0.9459588713534194,0.9459588713534194,0.9459588713534194,0.9459588713534194,0.9459588713534194,0.9459588713534194,0.9459588713534194,0.9459588713534194,0.9459588713534194,0.9459588713534194,0.9459588713534194,0.9459588713534194,0.9459588713534194,0.9459588713534194,0.9459588713534194,0.9459588713534194,0.9459588713534194,0.9459588713534194,0.9459588713534194,0.9459588713534194,0.9459588713534194,0.9459588713534194,0.9459588713534194,0.9459588713534194,0.9459588713534194,0.9459588713534194,0.9459588713534194,0.9459588713534194,0.9459588713534194,0.9459588713534194,0.9459588713534194,0.9459588713534194,0.9459588713534194,0.9459588713534194,0.9459588713534194,0.9459588713534194,0.9459588713534194,0.9459588713534194,0.9459588713534194,0.9459588713534194,0.9459588713534194,0.9459588713534194],\"type\":\"scatter\"}],                        {\"template\":{\"data\":{\"histogram2dcontour\":[{\"type\":\"histogram2dcontour\",\"colorbar\":{\"outlinewidth\":0,\"ticks\":\"\"},\"colorscale\":[[0.0,\"#0d0887\"],[0.1111111111111111,\"#46039f\"],[0.2222222222222222,\"#7201a8\"],[0.3333333333333333,\"#9c179e\"],[0.4444444444444444,\"#bd3786\"],[0.5555555555555556,\"#d8576b\"],[0.6666666666666666,\"#ed7953\"],[0.7777777777777778,\"#fb9f3a\"],[0.8888888888888888,\"#fdca26\"],[1.0,\"#f0f921\"]]}],\"choropleth\":[{\"type\":\"choropleth\",\"colorbar\":{\"outlinewidth\":0,\"ticks\":\"\"}}],\"histogram2d\":[{\"type\":\"histogram2d\",\"colorbar\":{\"outlinewidth\":0,\"ticks\":\"\"},\"colorscale\":[[0.0,\"#0d0887\"],[0.1111111111111111,\"#46039f\"],[0.2222222222222222,\"#7201a8\"],[0.3333333333333333,\"#9c179e\"],[0.4444444444444444,\"#bd3786\"],[0.5555555555555556,\"#d8576b\"],[0.6666666666666666,\"#ed7953\"],[0.7777777777777778,\"#fb9f3a\"],[0.8888888888888888,\"#fdca26\"],[1.0,\"#f0f921\"]]}],\"heatmap\":[{\"type\":\"heatmap\",\"colorbar\":{\"outlinewidth\":0,\"ticks\":\"\"},\"colorscale\":[[0.0,\"#0d0887\"],[0.1111111111111111,\"#46039f\"],[0.2222222222222222,\"#7201a8\"],[0.3333333333333333,\"#9c179e\"],[0.4444444444444444,\"#bd3786\"],[0.5555555555555556,\"#d8576b\"],[0.6666666666666666,\"#ed7953\"],[0.7777777777777778,\"#fb9f3a\"],[0.8888888888888888,\"#fdca26\"],[1.0,\"#f0f921\"]]}],\"heatmapgl\":[{\"type\":\"heatmapgl\",\"colorbar\":{\"outlinewidth\":0,\"ticks\":\"\"},\"colorscale\":[[0.0,\"#0d0887\"],[0.1111111111111111,\"#46039f\"],[0.2222222222222222,\"#7201a8\"],[0.3333333333333333,\"#9c179e\"],[0.4444444444444444,\"#bd3786\"],[0.5555555555555556,\"#d8576b\"],[0.6666666666666666,\"#ed7953\"],[0.7777777777777778,\"#fb9f3a\"],[0.8888888888888888,\"#fdca26\"],[1.0,\"#f0f921\"]]}],\"contourcarpet\":[{\"type\":\"contourcarpet\",\"colorbar\":{\"outlinewidth\":0,\"ticks\":\"\"}}],\"contour\":[{\"type\":\"contour\",\"colorbar\":{\"outlinewidth\":0,\"ticks\":\"\"},\"colorscale\":[[0.0,\"#0d0887\"],[0.1111111111111111,\"#46039f\"],[0.2222222222222222,\"#7201a8\"],[0.3333333333333333,\"#9c179e\"],[0.4444444444444444,\"#bd3786\"],[0.5555555555555556,\"#d8576b\"],[0.6666666666666666,\"#ed7953\"],[0.7777777777777778,\"#fb9f3a\"],[0.8888888888888888,\"#fdca26\"],[1.0,\"#f0f921\"]]}],\"surface\":[{\"type\":\"surface\",\"colorbar\":{\"outlinewidth\":0,\"ticks\":\"\"},\"colorscale\":[[0.0,\"#0d0887\"],[0.1111111111111111,\"#46039f\"],[0.2222222222222222,\"#7201a8\"],[0.3333333333333333,\"#9c179e\"],[0.4444444444444444,\"#bd3786\"],[0.5555555555555556,\"#d8576b\"],[0.6666666666666666,\"#ed7953\"],[0.7777777777777778,\"#fb9f3a\"],[0.8888888888888888,\"#fdca26\"],[1.0,\"#f0f921\"]]}],\"mesh3d\":[{\"type\":\"mesh3d\",\"colorbar\":{\"outlinewidth\":0,\"ticks\":\"\"}}],\"scatter\":[{\"marker\":{\"line\":{\"color\":\"#283442\"}},\"type\":\"scatter\"}],\"parcoords\":[{\"type\":\"parcoords\",\"line\":{\"colorbar\":{\"outlinewidth\":0,\"ticks\":\"\"}}}],\"scatterpolargl\":[{\"type\":\"scatterpolargl\",\"marker\":{\"colorbar\":{\"outlinewidth\":0,\"ticks\":\"\"}}}],\"bar\":[{\"error_x\":{\"color\":\"#f2f5fa\"},\"error_y\":{\"color\":\"#f2f5fa\"},\"marker\":{\"line\":{\"color\":\"rgb(17,17,17)\",\"width\":0.5},\"pattern\":{\"fillmode\":\"overlay\",\"size\":10,\"solidity\":0.2}},\"type\":\"bar\"}],\"scattergeo\":[{\"type\":\"scattergeo\",\"marker\":{\"colorbar\":{\"outlinewidth\":0,\"ticks\":\"\"}}}],\"scatterpolar\":[{\"type\":\"scatterpolar\",\"marker\":{\"colorbar\":{\"outlinewidth\":0,\"ticks\":\"\"}}}],\"histogram\":[{\"marker\":{\"pattern\":{\"fillmode\":\"overlay\",\"size\":10,\"solidity\":0.2}},\"type\":\"histogram\"}],\"scattergl\":[{\"marker\":{\"line\":{\"color\":\"#283442\"}},\"type\":\"scattergl\"}],\"scatter3d\":[{\"type\":\"scatter3d\",\"line\":{\"colorbar\":{\"outlinewidth\":0,\"ticks\":\"\"}},\"marker\":{\"colorbar\":{\"outlinewidth\":0,\"ticks\":\"\"}}}],\"scattermapbox\":[{\"type\":\"scattermapbox\",\"marker\":{\"colorbar\":{\"outlinewidth\":0,\"ticks\":\"\"}}}],\"scatterternary\":[{\"type\":\"scatterternary\",\"marker\":{\"colorbar\":{\"outlinewidth\":0,\"ticks\":\"\"}}}],\"scattercarpet\":[{\"type\":\"scattercarpet\",\"marker\":{\"colorbar\":{\"outlinewidth\":0,\"ticks\":\"\"}}}],\"carpet\":[{\"aaxis\":{\"endlinecolor\":\"#A2B1C6\",\"gridcolor\":\"#506784\",\"linecolor\":\"#506784\",\"minorgridcolor\":\"#506784\",\"startlinecolor\":\"#A2B1C6\"},\"baxis\":{\"endlinecolor\":\"#A2B1C6\",\"gridcolor\":\"#506784\",\"linecolor\":\"#506784\",\"minorgridcolor\":\"#506784\",\"startlinecolor\":\"#A2B1C6\"},\"type\":\"carpet\"}],\"table\":[{\"cells\":{\"fill\":{\"color\":\"#506784\"},\"line\":{\"color\":\"rgb(17,17,17)\"}},\"header\":{\"fill\":{\"color\":\"#2a3f5f\"},\"line\":{\"color\":\"rgb(17,17,17)\"}},\"type\":\"table\"}],\"barpolar\":[{\"marker\":{\"line\":{\"color\":\"rgb(17,17,17)\",\"width\":0.5},\"pattern\":{\"fillmode\":\"overlay\",\"size\":10,\"solidity\":0.2}},\"type\":\"barpolar\"}],\"pie\":[{\"automargin\":true,\"type\":\"pie\"}]},\"layout\":{\"autotypenumbers\":\"strict\",\"colorway\":[\"#636efa\",\"#EF553B\",\"#00cc96\",\"#ab63fa\",\"#FFA15A\",\"#19d3f3\",\"#FF6692\",\"#B6E880\",\"#FF97FF\",\"#FECB52\"],\"font\":{\"color\":\"#f2f5fa\"},\"hovermode\":\"closest\",\"hoverlabel\":{\"align\":\"left\"},\"paper_bgcolor\":\"rgb(17,17,17)\",\"plot_bgcolor\":\"rgb(17,17,17)\",\"polar\":{\"bgcolor\":\"rgb(17,17,17)\",\"angularaxis\":{\"gridcolor\":\"#506784\",\"linecolor\":\"#506784\",\"ticks\":\"\"},\"radialaxis\":{\"gridcolor\":\"#506784\",\"linecolor\":\"#506784\",\"ticks\":\"\"}},\"ternary\":{\"bgcolor\":\"rgb(17,17,17)\",\"aaxis\":{\"gridcolor\":\"#506784\",\"linecolor\":\"#506784\",\"ticks\":\"\"},\"baxis\":{\"gridcolor\":\"#506784\",\"linecolor\":\"#506784\",\"ticks\":\"\"},\"caxis\":{\"gridcolor\":\"#506784\",\"linecolor\":\"#506784\",\"ticks\":\"\"}},\"coloraxis\":{\"colorbar\":{\"outlinewidth\":0,\"ticks\":\"\"}},\"colorscale\":{\"sequential\":[[0.0,\"#0d0887\"],[0.1111111111111111,\"#46039f\"],[0.2222222222222222,\"#7201a8\"],[0.3333333333333333,\"#9c179e\"],[0.4444444444444444,\"#bd3786\"],[0.5555555555555556,\"#d8576b\"],[0.6666666666666666,\"#ed7953\"],[0.7777777777777778,\"#fb9f3a\"],[0.8888888888888888,\"#fdca26\"],[1.0,\"#f0f921\"]],\"sequentialminus\":[[0.0,\"#0d0887\"],[0.1111111111111111,\"#46039f\"],[0.2222222222222222,\"#7201a8\"],[0.3333333333333333,\"#9c179e\"],[0.4444444444444444,\"#bd3786\"],[0.5555555555555556,\"#d8576b\"],[0.6666666666666666,\"#ed7953\"],[0.7777777777777778,\"#fb9f3a\"],[0.8888888888888888,\"#fdca26\"],[1.0,\"#f0f921\"]],\"diverging\":[[0,\"#8e0152\"],[0.1,\"#c51b7d\"],[0.2,\"#de77ae\"],[0.3,\"#f1b6da\"],[0.4,\"#fde0ef\"],[0.5,\"#f7f7f7\"],[0.6,\"#e6f5d0\"],[0.7,\"#b8e186\"],[0.8,\"#7fbc41\"],[0.9,\"#4d9221\"],[1,\"#276419\"]]},\"xaxis\":{\"gridcolor\":\"#283442\",\"linecolor\":\"#506784\",\"ticks\":\"\",\"title\":{\"standoff\":15},\"zerolinecolor\":\"#283442\",\"automargin\":true,\"zerolinewidth\":2},\"yaxis\":{\"gridcolor\":\"#283442\",\"linecolor\":\"#506784\",\"ticks\":\"\",\"title\":{\"standoff\":15},\"zerolinecolor\":\"#283442\",\"automargin\":true,\"zerolinewidth\":2},\"scene\":{\"xaxis\":{\"backgroundcolor\":\"rgb(17,17,17)\",\"gridcolor\":\"#506784\",\"linecolor\":\"#506784\",\"showbackground\":true,\"ticks\":\"\",\"zerolinecolor\":\"#C8D4E3\",\"gridwidth\":2},\"yaxis\":{\"backgroundcolor\":\"rgb(17,17,17)\",\"gridcolor\":\"#506784\",\"linecolor\":\"#506784\",\"showbackground\":true,\"ticks\":\"\",\"zerolinecolor\":\"#C8D4E3\",\"gridwidth\":2},\"zaxis\":{\"backgroundcolor\":\"rgb(17,17,17)\",\"gridcolor\":\"#506784\",\"linecolor\":\"#506784\",\"showbackground\":true,\"ticks\":\"\",\"zerolinecolor\":\"#C8D4E3\",\"gridwidth\":2}},\"shapedefaults\":{\"line\":{\"color\":\"#f2f5fa\"}},\"annotationdefaults\":{\"arrowcolor\":\"#f2f5fa\",\"arrowhead\":0,\"arrowwidth\":1},\"geo\":{\"bgcolor\":\"rgb(17,17,17)\",\"landcolor\":\"rgb(17,17,17)\",\"subunitcolor\":\"#506784\",\"showland\":true,\"showlakes\":true,\"lakecolor\":\"rgb(17,17,17)\"},\"title\":{\"x\":0.05},\"updatemenudefaults\":{\"bgcolor\":\"#506784\",\"borderwidth\":0},\"sliderdefaults\":{\"bgcolor\":\"#C8D4E3\",\"borderwidth\":1,\"bordercolor\":\"rgb(17,17,17)\",\"tickwidth\":0},\"mapbox\":{\"style\":\"dark\"}}},\"title\":{\"text\":\"How the result score depends on max_features for TFIDFVectorizer. without STOPWORDs\"},\"xaxis\":{\"title\":{\"text\":\"max_features\"}},\"yaxis\":{\"title\":{\"text\":\"Score\"}}},                        {\"responsive\": true}                    ).then(function(){\n                            \nvar gd = document.getElementById('db32a4db-e96b-42b3-ac93-c9bccacd191b');\nvar x = new MutationObserver(function (mutations, observer) {{\n        var display = window.getComputedStyle(gd).display;\n        if (!display || display === 'none') {{\n            console.log([gd, 'removed!']);\n            Plotly.purge(gd);\n            observer.disconnect();\n        }}\n}});\n\n// Listen for the removal of the full notebook cells\nvar notebookContainer = gd.closest('#notebook-container');\nif (notebookContainer) {{\n    x.observe(notebookContainer, {childList: true});\n}}\n\n// Listen for the clearing of the current output cell\nvar outputEl = gd.closest('.output');\nif (outputEl) {{\n    x.observe(outputEl, {childList: true});\n}}\n\n                        })                };                });            </script>        </div>"
     },
     "metadata": {},
     "output_type": "display_data"
    }
   ],
   "source": [
    "import plotly.graph_objects as go\n",
    "\n",
    "fig = go.Figure()\n",
    "fig.add_trace(go.Scatter(x=list(range(min_value,max_value, step_value)), y=score_test_lst,\n",
    "                    mode='lines',\n",
    "                    name='Test score'))\n",
    "fig.add_trace(go.Scatter(x=list(range(min_value,max_value, step_value)), y=score_train_lst,\n",
    "                    mode='lines+markers',\n",
    "                    name='Train score'))\n",
    "fig.add_trace(go.Scatter(x=list(range(min_value,max_value, step_value)), y=[base_line]*100,\n",
    "                    mode='lines+markers',\n",
    "                    name='Baseline score'))\n",
    "\n",
    "fig.update_layout(title='How the result score depends on max_features for TFIDFVectorizer. without STOPWORDs',\n",
    "                   xaxis_title='max_features',\n",
    "                   yaxis_title='Score')\n",
    "fig.show()"
   ],
   "metadata": {
    "collapsed": false,
    "ExecuteTime": {
     "end_time": "2024-03-04T19:33:54.336221Z",
     "start_time": "2024-03-04T19:33:54.209003Z"
    }
   },
   "id": "ae262936c6cf4c5b",
   "execution_count": 32
  },
  {
   "cell_type": "code",
   "outputs": [
    {
     "name": "stderr",
     "output_type": "stream",
     "text": [
      "[nltk_data] Downloading package stopwords to\n",
      "[nltk_data]     /Users/vyacheslav/nltk_data...\n",
      "[nltk_data]   Package stopwords is already up-to-date!\n"
     ]
    }
   ],
   "source": [
    "import nltk\n",
    "from nltk.corpus import stopwords\n",
    "nltk.download('stopwords')\n",
    "stops = list(set(stopwords.words('english')))"
   ],
   "metadata": {
    "collapsed": false,
    "ExecuteTime": {
     "end_time": "2024-03-04T19:19:42.873167Z",
     "start_time": "2024-03-04T19:19:40.314287Z"
    }
   },
   "id": "1b5eedb47a3b3235",
   "execution_count": 19
  },
  {
   "cell_type": "code",
   "outputs": [],
   "source": [
    "score_train_lst2 = []\n",
    "score_test_lst2 = []\n",
    "max_value = 2900\n",
    "min_value = 1700\n",
    "step_value = 50"
   ],
   "metadata": {
    "collapsed": false,
    "ExecuteTime": {
     "end_time": "2024-03-04T19:21:58.745786Z",
     "start_time": "2024-03-04T19:21:58.707333Z"
    }
   },
   "id": "8f28a939b01cd260",
   "execution_count": 23
  },
  {
   "cell_type": "code",
   "outputs": [
    {
     "name": "stdout",
     "output_type": "stream",
     "text": [
      "1700 1.0 0.8971783835485414\n",
      "1750 1.0 0.8971783835485414\n",
      "1800 1.0 0.9005260640841702\n",
      "1850 1.0 0.9005260640841702\n",
      "1900 1.0 0.9029172644667623\n",
      "1950 1.0 0.9024390243902439\n",
      "2000 1.0 0.9033955045432808\n",
      "2050 1.0 0.9086561453849833\n",
      "2100 1.0 0.9062649450023912\n",
      "2150 1.0 0.9062649450023912\n",
      "2200 1.0 0.9053084648493543\n",
      "2250 1.0 0.907221425155428\n",
      "2300 1.0 0.9124820659971306\n",
      "2350 1.0 0.9115255858440937\n",
      "2400 1.0 0.912960306073649\n",
      "2450 1.0 0.9110473457675753\n",
      "2500 1.0 0.9096126255380201\n",
      "2550 1.0 0.9124820659971306\n",
      "2600 1.0 0.9110473457675753\n",
      "2650 1.0 0.9143950263032042\n",
      "2700 1.0 0.9153515064562411\n",
      "2750 1.0 0.9139167862266858\n",
      "2800 1.0 0.9120038259206121\n",
      "2850 1.0 0.9134385461501674\n"
     ]
    }
   ],
   "source": [
    "\n",
    "def max_features_cals2(max_features):\n",
    "    vectorizer = TFIDFVectorizer(max_features=max_features, stop_words=stops,\n",
    "                                 # max_df=0.5,\n",
    "                                 # min_df=5\n",
    "                                 )\n",
    "    train_tfidf = vectorizer.fit_transform(X_train)\n",
    "    test_tfidf = vectorizer.transform(X_test)\n",
    "    clf = PassiveAggressiveClassifier(max_iter=1000, random_state=0, tol=1e-3)\n",
    "    clf.fit(train_tfidf, y_train)\n",
    "    return clf.score(train_tfidf, y_train), clf.score(test_tfidf, y_test)\n",
    "\n",
    "for i in range(min_value,max_value, step_value):\n",
    "    score_train, score_test = max_features_cals2(i)\n",
    "    score_test_lst2.append(score_test)\n",
    "    score_train_lst2.append(score_train)\n",
    "    print(i, score_train, score_test)\n",
    "    \n",
    "\n"
   ],
   "metadata": {
    "collapsed": false,
    "ExecuteTime": {
     "end_time": "2024-03-04T19:23:48.032574Z",
     "start_time": "2024-03-04T19:22:01.783439Z"
    }
   },
   "id": "b11e97ec7ce7a242",
   "execution_count": 24
  },
  {
   "cell_type": "code",
   "outputs": [
    {
     "data": {
      "application/vnd.plotly.v1+json": {
       "data": [
        {
         "mode": "lines",
         "name": "Test score stopwords",
         "x": [
          1700,
          1750,
          1800,
          1850,
          1900,
          1950,
          2000,
          2050,
          2100,
          2150,
          2200,
          2250,
          2300,
          2350,
          2400,
          2450,
          2500,
          2550,
          2600,
          2650,
          2700,
          2750,
          2800,
          2850
         ],
         "y": [
          0.8971783835485414,
          0.8971783835485414,
          0.9005260640841702,
          0.9005260640841702,
          0.9029172644667623,
          0.9024390243902439,
          0.9033955045432808,
          0.9086561453849833,
          0.9062649450023912,
          0.9062649450023912,
          0.9053084648493543,
          0.907221425155428,
          0.9124820659971306,
          0.9115255858440937,
          0.912960306073649,
          0.9110473457675753,
          0.9096126255380201,
          0.9124820659971306,
          0.9110473457675753,
          0.9143950263032042,
          0.9153515064562411,
          0.9139167862266858,
          0.9120038259206121,
          0.9134385461501674
         ],
         "type": "scatter"
        },
        {
         "mode": "lines+markers",
         "name": "Train score stopwords",
         "x": [
          1700,
          1750,
          1800,
          1850,
          1900,
          1950,
          2000,
          2050,
          2100,
          2150,
          2200,
          2250,
          2300,
          2350,
          2400,
          2450,
          2500,
          2550,
          2600,
          2650,
          2700,
          2750,
          2800,
          2850
         ],
         "y": [
          1.0,
          1.0,
          1.0,
          1.0,
          1.0,
          1.0,
          1.0,
          1.0,
          1.0,
          1.0,
          1.0,
          1.0,
          1.0,
          1.0,
          1.0,
          1.0,
          1.0,
          1.0,
          1.0,
          1.0,
          1.0,
          1.0,
          1.0,
          1.0
         ],
         "type": "scatter"
        },
        {
         "mode": "lines+markers",
         "name": "Baseline score",
         "x": [
          1700,
          1750,
          1800,
          1850,
          1900,
          1950,
          2000,
          2050,
          2100,
          2150,
          2200,
          2250,
          2300,
          2350,
          2400,
          2450,
          2500,
          2550,
          2600,
          2650,
          2700,
          2750,
          2800,
          2850
         ],
         "y": [
          0.9459588713534194,
          0.9459588713534194,
          0.9459588713534194,
          0.9459588713534194,
          0.9459588713534194,
          0.9459588713534194,
          0.9459588713534194,
          0.9459588713534194,
          0.9459588713534194,
          0.9459588713534194,
          0.9459588713534194,
          0.9459588713534194,
          0.9459588713534194,
          0.9459588713534194,
          0.9459588713534194,
          0.9459588713534194,
          0.9459588713534194,
          0.9459588713534194,
          0.9459588713534194,
          0.9459588713534194,
          0.9459588713534194,
          0.9459588713534194,
          0.9459588713534194,
          0.9459588713534194,
          0.9459588713534194,
          0.9459588713534194,
          0.9459588713534194,
          0.9459588713534194,
          0.9459588713534194,
          0.9459588713534194,
          0.9459588713534194,
          0.9459588713534194,
          0.9459588713534194,
          0.9459588713534194,
          0.9459588713534194,
          0.9459588713534194,
          0.9459588713534194,
          0.9459588713534194,
          0.9459588713534194,
          0.9459588713534194,
          0.9459588713534194,
          0.9459588713534194,
          0.9459588713534194,
          0.9459588713534194,
          0.9459588713534194,
          0.9459588713534194,
          0.9459588713534194,
          0.9459588713534194,
          0.9459588713534194,
          0.9459588713534194,
          0.9459588713534194,
          0.9459588713534194,
          0.9459588713534194,
          0.9459588713534194,
          0.9459588713534194,
          0.9459588713534194,
          0.9459588713534194,
          0.9459588713534194,
          0.9459588713534194,
          0.9459588713534194,
          0.9459588713534194,
          0.9459588713534194,
          0.9459588713534194,
          0.9459588713534194,
          0.9459588713534194,
          0.9459588713534194,
          0.9459588713534194,
          0.9459588713534194,
          0.9459588713534194,
          0.9459588713534194,
          0.9459588713534194,
          0.9459588713534194,
          0.9459588713534194,
          0.9459588713534194,
          0.9459588713534194,
          0.9459588713534194,
          0.9459588713534194,
          0.9459588713534194,
          0.9459588713534194,
          0.9459588713534194,
          0.9459588713534194,
          0.9459588713534194,
          0.9459588713534194,
          0.9459588713534194,
          0.9459588713534194,
          0.9459588713534194,
          0.9459588713534194,
          0.9459588713534194,
          0.9459588713534194,
          0.9459588713534194,
          0.9459588713534194,
          0.9459588713534194,
          0.9459588713534194,
          0.9459588713534194,
          0.9459588713534194,
          0.9459588713534194,
          0.9459588713534194,
          0.9459588713534194,
          0.9459588713534194,
          0.9459588713534194,
          0.9459588713534194,
          0.9459588713534194,
          0.9459588713534194,
          0.9459588713534194,
          0.9459588713534194,
          0.9459588713534194,
          0.9459588713534194,
          0.9459588713534194,
          0.9459588713534194,
          0.9459588713534194,
          0.9459588713534194,
          0.9459588713534194,
          0.9459588713534194,
          0.9459588713534194,
          0.9459588713534194,
          0.9459588713534194,
          0.9459588713534194,
          0.9459588713534194,
          0.9459588713534194,
          0.9459588713534194,
          0.9459588713534194,
          0.9459588713534194,
          0.9459588713534194,
          0.9459588713534194,
          0.9459588713534194,
          0.9459588713534194,
          0.9459588713534194,
          0.9459588713534194,
          0.9459588713534194,
          0.9459588713534194,
          0.9459588713534194,
          0.9459588713534194,
          0.9459588713534194,
          0.9459588713534194,
          0.9459588713534194,
          0.9459588713534194,
          0.9459588713534194,
          0.9459588713534194,
          0.9459588713534194,
          0.9459588713534194,
          0.9459588713534194,
          0.9459588713534194,
          0.9459588713534194,
          0.9459588713534194,
          0.9459588713534194,
          0.9459588713534194,
          0.9459588713534194,
          0.9459588713534194,
          0.9459588713534194,
          0.9459588713534194,
          0.9459588713534194,
          0.9459588713534194,
          0.9459588713534194,
          0.9459588713534194,
          0.9459588713534194,
          0.9459588713534194,
          0.9459588713534194,
          0.9459588713534194,
          0.9459588713534194,
          0.9459588713534194,
          0.9459588713534194,
          0.9459588713534194,
          0.9459588713534194,
          0.9459588713534194,
          0.9459588713534194,
          0.9459588713534194,
          0.9459588713534194,
          0.9459588713534194,
          0.9459588713534194,
          0.9459588713534194,
          0.9459588713534194,
          0.9459588713534194,
          0.9459588713534194,
          0.9459588713534194,
          0.9459588713534194,
          0.9459588713534194,
          0.9459588713534194,
          0.9459588713534194,
          0.9459588713534194,
          0.9459588713534194,
          0.9459588713534194,
          0.9459588713534194,
          0.9459588713534194,
          0.9459588713534194,
          0.9459588713534194,
          0.9459588713534194,
          0.9459588713534194,
          0.9459588713534194,
          0.9459588713534194,
          0.9459588713534194,
          0.9459588713534194,
          0.9459588713534194,
          0.9459588713534194,
          0.9459588713534194,
          0.9459588713534194,
          0.9459588713534194,
          0.9459588713534194,
          0.9459588713534194,
          0.9459588713534194,
          0.9459588713534194,
          0.9459588713534194,
          0.9459588713534194,
          0.9459588713534194,
          0.9459588713534194,
          0.9459588713534194,
          0.9459588713534194,
          0.9459588713534194,
          0.9459588713534194,
          0.9459588713534194,
          0.9459588713534194,
          0.9459588713534194,
          0.9459588713534194,
          0.9459588713534194,
          0.9459588713534194,
          0.9459588713534194,
          0.9459588713534194,
          0.9459588713534194,
          0.9459588713534194,
          0.9459588713534194,
          0.9459588713534194,
          0.9459588713534194,
          0.9459588713534194,
          0.9459588713534194,
          0.9459588713534194,
          0.9459588713534194,
          0.9459588713534194,
          0.9459588713534194,
          0.9459588713534194,
          0.9459588713534194,
          0.9459588713534194,
          0.9459588713534194,
          0.9459588713534194,
          0.9459588713534194,
          0.9459588713534194,
          0.9459588713534194,
          0.9459588713534194,
          0.9459588713534194,
          0.9459588713534194,
          0.9459588713534194,
          0.9459588713534194,
          0.9459588713534194,
          0.9459588713534194,
          0.9459588713534194,
          0.9459588713534194,
          0.9459588713534194,
          0.9459588713534194,
          0.9459588713534194,
          0.9459588713534194,
          0.9459588713534194,
          0.9459588713534194,
          0.9459588713534194,
          0.9459588713534194,
          0.9459588713534194,
          0.9459588713534194,
          0.9459588713534194,
          0.9459588713534194,
          0.9459588713534194,
          0.9459588713534194,
          0.9459588713534194,
          0.9459588713534194,
          0.9459588713534194,
          0.9459588713534194,
          0.9459588713534194,
          0.9459588713534194,
          0.9459588713534194,
          0.9459588713534194,
          0.9459588713534194,
          0.9459588713534194,
          0.9459588713534194,
          0.9459588713534194,
          0.9459588713534194,
          0.9459588713534194,
          0.9459588713534194,
          0.9459588713534194,
          0.9459588713534194,
          0.9459588713534194,
          0.9459588713534194,
          0.9459588713534194,
          0.9459588713534194,
          0.9459588713534194,
          0.9459588713534194,
          0.9459588713534194,
          0.9459588713534194,
          0.9459588713534194,
          0.9459588713534194,
          0.9459588713534194,
          0.9459588713534194,
          0.9459588713534194,
          0.9459588713534194,
          0.9459588713534194,
          0.9459588713534194,
          0.9459588713534194,
          0.9459588713534194,
          0.9459588713534194,
          0.9459588713534194,
          0.9459588713534194,
          0.9459588713534194,
          0.9459588713534194,
          0.9459588713534194,
          0.9459588713534194,
          0.9459588713534194,
          0.9459588713534194,
          0.9459588713534194,
          0.9459588713534194,
          0.9459588713534194,
          0.9459588713534194,
          0.9459588713534194,
          0.9459588713534194,
          0.9459588713534194,
          0.9459588713534194,
          0.9459588713534194,
          0.9459588713534194,
          0.9459588713534194,
          0.9459588713534194,
          0.9459588713534194,
          0.9459588713534194,
          0.9459588713534194,
          0.9459588713534194,
          0.9459588713534194,
          0.9459588713534194,
          0.9459588713534194,
          0.9459588713534194,
          0.9459588713534194,
          0.9459588713534194,
          0.9459588713534194,
          0.9459588713534194,
          0.9459588713534194,
          0.9459588713534194,
          0.9459588713534194,
          0.9459588713534194,
          0.9459588713534194,
          0.9459588713534194,
          0.9459588713534194,
          0.9459588713534194,
          0.9459588713534194,
          0.9459588713534194,
          0.9459588713534194,
          0.9459588713534194,
          0.9459588713534194,
          0.9459588713534194,
          0.9459588713534194,
          0.9459588713534194,
          0.9459588713534194,
          0.9459588713534194,
          0.9459588713534194,
          0.9459588713534194,
          0.9459588713534194,
          0.9459588713534194,
          0.9459588713534194,
          0.9459588713534194,
          0.9459588713534194,
          0.9459588713534194,
          0.9459588713534194,
          0.9459588713534194,
          0.9459588713534194,
          0.9459588713534194,
          0.9459588713534194,
          0.9459588713534194,
          0.9459588713534194,
          0.9459588713534194,
          0.9459588713534194,
          0.9459588713534194,
          0.9459588713534194,
          0.9459588713534194,
          0.9459588713534194,
          0.9459588713534194,
          0.9459588713534194,
          0.9459588713534194,
          0.9459588713534194,
          0.9459588713534194,
          0.9459588713534194,
          0.9459588713534194,
          0.9459588713534194,
          0.9459588713534194,
          0.9459588713534194,
          0.9459588713534194,
          0.9459588713534194,
          0.9459588713534194,
          0.9459588713534194,
          0.9459588713534194,
          0.9459588713534194,
          0.9459588713534194,
          0.9459588713534194,
          0.9459588713534194,
          0.9459588713534194,
          0.9459588713534194,
          0.9459588713534194,
          0.9459588713534194,
          0.9459588713534194,
          0.9459588713534194,
          0.9459588713534194,
          0.9459588713534194,
          0.9459588713534194,
          0.9459588713534194,
          0.9459588713534194,
          0.9459588713534194,
          0.9459588713534194,
          0.9459588713534194,
          0.9459588713534194,
          0.9459588713534194,
          0.9459588713534194,
          0.9459588713534194,
          0.9459588713534194,
          0.9459588713534194,
          0.9459588713534194,
          0.9459588713534194,
          0.9459588713534194,
          0.9459588713534194,
          0.9459588713534194,
          0.9459588713534194,
          0.9459588713534194,
          0.9459588713534194,
          0.9459588713534194,
          0.9459588713534194,
          0.9459588713534194,
          0.9459588713534194,
          0.9459588713534194,
          0.9459588713534194,
          0.9459588713534194,
          0.9459588713534194,
          0.9459588713534194,
          0.9459588713534194,
          0.9459588713534194,
          0.9459588713534194,
          0.9459588713534194,
          0.9459588713534194,
          0.9459588713534194,
          0.9459588713534194,
          0.9459588713534194,
          0.9459588713534194,
          0.9459588713534194,
          0.9459588713534194,
          0.9459588713534194,
          0.9459588713534194,
          0.9459588713534194,
          0.9459588713534194,
          0.9459588713534194,
          0.9459588713534194,
          0.9459588713534194,
          0.9459588713534194,
          0.9459588713534194,
          0.9459588713534194,
          0.9459588713534194,
          0.9459588713534194,
          0.9459588713534194,
          0.9459588713534194,
          0.9459588713534194,
          0.9459588713534194,
          0.9459588713534194,
          0.9459588713534194,
          0.9459588713534194,
          0.9459588713534194,
          0.9459588713534194,
          0.9459588713534194,
          0.9459588713534194,
          0.9459588713534194,
          0.9459588713534194,
          0.9459588713534194,
          0.9459588713534194,
          0.9459588713534194,
          0.9459588713534194,
          0.9459588713534194,
          0.9459588713534194,
          0.9459588713534194,
          0.9459588713534194,
          0.9459588713534194,
          0.9459588713534194,
          0.9459588713534194,
          0.9459588713534194,
          0.9459588713534194,
          0.9459588713534194,
          0.9459588713534194,
          0.9459588713534194,
          0.9459588713534194,
          0.9459588713534194,
          0.9459588713534194,
          0.9459588713534194,
          0.9459588713534194,
          0.9459588713534194,
          0.9459588713534194,
          0.9459588713534194,
          0.9459588713534194,
          0.9459588713534194,
          0.9459588713534194,
          0.9459588713534194,
          0.9459588713534194,
          0.9459588713534194,
          0.9459588713534194,
          0.9459588713534194,
          0.9459588713534194,
          0.9459588713534194,
          0.9459588713534194,
          0.9459588713534194,
          0.9459588713534194,
          0.9459588713534194,
          0.9459588713534194,
          0.9459588713534194,
          0.9459588713534194,
          0.9459588713534194,
          0.9459588713534194,
          0.9459588713534194,
          0.9459588713534194,
          0.9459588713534194,
          0.9459588713534194,
          0.9459588713534194,
          0.9459588713534194,
          0.9459588713534194,
          0.9459588713534194,
          0.9459588713534194,
          0.9459588713534194,
          0.9459588713534194,
          0.9459588713534194,
          0.9459588713534194,
          0.9459588713534194,
          0.9459588713534194,
          0.9459588713534194,
          0.9459588713534194,
          0.9459588713534194,
          0.9459588713534194,
          0.9459588713534194,
          0.9459588713534194,
          0.9459588713534194,
          0.9459588713534194,
          0.9459588713534194,
          0.9459588713534194,
          0.9459588713534194,
          0.9459588713534194,
          0.9459588713534194,
          0.9459588713534194,
          0.9459588713534194,
          0.9459588713534194,
          0.9459588713534194,
          0.9459588713534194,
          0.9459588713534194,
          0.9459588713534194,
          0.9459588713534194,
          0.9459588713534194,
          0.9459588713534194,
          0.9459588713534194,
          0.9459588713534194,
          0.9459588713534194,
          0.9459588713534194,
          0.9459588713534194,
          0.9459588713534194,
          0.9459588713534194,
          0.9459588713534194,
          0.9459588713534194,
          0.9459588713534194,
          0.9459588713534194,
          0.9459588713534194,
          0.9459588713534194,
          0.9459588713534194,
          0.9459588713534194,
          0.9459588713534194,
          0.9459588713534194,
          0.9459588713534194,
          0.9459588713534194,
          0.9459588713534194,
          0.9459588713534194,
          0.9459588713534194,
          0.9459588713534194,
          0.9459588713534194,
          0.9459588713534194,
          0.9459588713534194,
          0.9459588713534194,
          0.9459588713534194,
          0.9459588713534194,
          0.9459588713534194,
          0.9459588713534194,
          0.9459588713534194,
          0.9459588713534194,
          0.9459588713534194,
          0.9459588713534194,
          0.9459588713534194,
          0.9459588713534194,
          0.9459588713534194,
          0.9459588713534194,
          0.9459588713534194,
          0.9459588713534194,
          0.9459588713534194,
          0.9459588713534194,
          0.9459588713534194,
          0.9459588713534194,
          0.9459588713534194,
          0.9459588713534194,
          0.9459588713534194,
          0.9459588713534194,
          0.9459588713534194,
          0.9459588713534194,
          0.9459588713534194,
          0.9459588713534194,
          0.9459588713534194,
          0.9459588713534194,
          0.9459588713534194,
          0.9459588713534194,
          0.9459588713534194,
          0.9459588713534194,
          0.9459588713534194,
          0.9459588713534194,
          0.9459588713534194,
          0.9459588713534194,
          0.9459588713534194,
          0.9459588713534194,
          0.9459588713534194,
          0.9459588713534194,
          0.9459588713534194,
          0.9459588713534194,
          0.9459588713534194,
          0.9459588713534194,
          0.9459588713534194,
          0.9459588713534194,
          0.9459588713534194,
          0.9459588713534194,
          0.9459588713534194,
          0.9459588713534194,
          0.9459588713534194,
          0.9459588713534194,
          0.9459588713534194,
          0.9459588713534194,
          0.9459588713534194,
          0.9459588713534194,
          0.9459588713534194,
          0.9459588713534194,
          0.9459588713534194,
          0.9459588713534194,
          0.9459588713534194,
          0.9459588713534194,
          0.9459588713534194,
          0.9459588713534194,
          0.9459588713534194,
          0.9459588713534194,
          0.9459588713534194,
          0.9459588713534194,
          0.9459588713534194,
          0.9459588713534194,
          0.9459588713534194,
          0.9459588713534194,
          0.9459588713534194,
          0.9459588713534194,
          0.9459588713534194,
          0.9459588713534194,
          0.9459588713534194,
          0.9459588713534194,
          0.9459588713534194,
          0.9459588713534194,
          0.9459588713534194,
          0.9459588713534194,
          0.9459588713534194,
          0.9459588713534194,
          0.9459588713534194,
          0.9459588713534194,
          0.9459588713534194,
          0.9459588713534194,
          0.9459588713534194,
          0.9459588713534194,
          0.9459588713534194,
          0.9459588713534194,
          0.9459588713534194,
          0.9459588713534194,
          0.9459588713534194,
          0.9459588713534194,
          0.9459588713534194,
          0.9459588713534194,
          0.9459588713534194,
          0.9459588713534194,
          0.9459588713534194,
          0.9459588713534194,
          0.9459588713534194,
          0.9459588713534194,
          0.9459588713534194,
          0.9459588713534194,
          0.9459588713534194,
          0.9459588713534194,
          0.9459588713534194,
          0.9459588713534194,
          0.9459588713534194,
          0.9459588713534194,
          0.9459588713534194,
          0.9459588713534194,
          0.9459588713534194,
          0.9459588713534194,
          0.9459588713534194,
          0.9459588713534194,
          0.9459588713534194,
          0.9459588713534194,
          0.9459588713534194,
          0.9459588713534194,
          0.9459588713534194,
          0.9459588713534194,
          0.9459588713534194,
          0.9459588713534194,
          0.9459588713534194,
          0.9459588713534194,
          0.9459588713534194,
          0.9459588713534194,
          0.9459588713534194,
          0.9459588713534194,
          0.9459588713534194,
          0.9459588713534194,
          0.9459588713534194,
          0.9459588713534194,
          0.9459588713534194,
          0.9459588713534194,
          0.9459588713534194,
          0.9459588713534194,
          0.9459588713534194,
          0.9459588713534194,
          0.9459588713534194,
          0.9459588713534194,
          0.9459588713534194,
          0.9459588713534194,
          0.9459588713534194,
          0.9459588713534194,
          0.9459588713534194,
          0.9459588713534194,
          0.9459588713534194,
          0.9459588713534194,
          0.9459588713534194,
          0.9459588713534194,
          0.9459588713534194,
          0.9459588713534194,
          0.9459588713534194,
          0.9459588713534194,
          0.9459588713534194,
          0.9459588713534194,
          0.9459588713534194,
          0.9459588713534194,
          0.9459588713534194,
          0.9459588713534194,
          0.9459588713534194,
          0.9459588713534194,
          0.9459588713534194,
          0.9459588713534194,
          0.9459588713534194,
          0.9459588713534194,
          0.9459588713534194,
          0.9459588713534194,
          0.9459588713534194,
          0.9459588713534194,
          0.9459588713534194,
          0.9459588713534194,
          0.9459588713534194,
          0.9459588713534194,
          0.9459588713534194,
          0.9459588713534194,
          0.9459588713534194,
          0.9459588713534194,
          0.9459588713534194,
          0.9459588713534194,
          0.9459588713534194,
          0.9459588713534194,
          0.9459588713534194,
          0.9459588713534194,
          0.9459588713534194,
          0.9459588713534194,
          0.9459588713534194,
          0.9459588713534194,
          0.9459588713534194,
          0.9459588713534194,
          0.9459588713534194,
          0.9459588713534194,
          0.9459588713534194,
          0.9459588713534194,
          0.9459588713534194,
          0.9459588713534194,
          0.9459588713534194,
          0.9459588713534194,
          0.9459588713534194,
          0.9459588713534194,
          0.9459588713534194,
          0.9459588713534194,
          0.9459588713534194,
          0.9459588713534194,
          0.9459588713534194,
          0.9459588713534194,
          0.9459588713534194,
          0.9459588713534194,
          0.9459588713534194,
          0.9459588713534194,
          0.9459588713534194,
          0.9459588713534194,
          0.9459588713534194,
          0.9459588713534194,
          0.9459588713534194,
          0.9459588713534194,
          0.9459588713534194,
          0.9459588713534194,
          0.9459588713534194,
          0.9459588713534194,
          0.9459588713534194,
          0.9459588713534194,
          0.9459588713534194,
          0.9459588713534194,
          0.9459588713534194,
          0.9459588713534194,
          0.9459588713534194,
          0.9459588713534194,
          0.9459588713534194,
          0.9459588713534194,
          0.9459588713534194,
          0.9459588713534194,
          0.9459588713534194,
          0.9459588713534194,
          0.9459588713534194,
          0.9459588713534194,
          0.9459588713534194,
          0.9459588713534194,
          0.9459588713534194,
          0.9459588713534194,
          0.9459588713534194,
          0.9459588713534194,
          0.9459588713534194,
          0.9459588713534194,
          0.9459588713534194,
          0.9459588713534194,
          0.9459588713534194,
          0.9459588713534194,
          0.9459588713534194,
          0.9459588713534194,
          0.9459588713534194,
          0.9459588713534194,
          0.9459588713534194,
          0.9459588713534194,
          0.9459588713534194,
          0.9459588713534194,
          0.9459588713534194,
          0.9459588713534194,
          0.9459588713534194,
          0.9459588713534194,
          0.9459588713534194,
          0.9459588713534194,
          0.9459588713534194,
          0.9459588713534194,
          0.9459588713534194,
          0.9459588713534194,
          0.9459588713534194,
          0.9459588713534194,
          0.9459588713534194,
          0.9459588713534194,
          0.9459588713534194,
          0.9459588713534194,
          0.9459588713534194,
          0.9459588713534194,
          0.9459588713534194,
          0.9459588713534194,
          0.9459588713534194,
          0.9459588713534194,
          0.9459588713534194,
          0.9459588713534194,
          0.9459588713534194,
          0.9459588713534194,
          0.9459588713534194,
          0.9459588713534194,
          0.9459588713534194,
          0.9459588713534194,
          0.9459588713534194,
          0.9459588713534194,
          0.9459588713534194,
          0.9459588713534194,
          0.9459588713534194,
          0.9459588713534194,
          0.9459588713534194,
          0.9459588713534194,
          0.9459588713534194,
          0.9459588713534194,
          0.9459588713534194,
          0.9459588713534194,
          0.9459588713534194,
          0.9459588713534194,
          0.9459588713534194,
          0.9459588713534194,
          0.9459588713534194,
          0.9459588713534194,
          0.9459588713534194,
          0.9459588713534194,
          0.9459588713534194,
          0.9459588713534194,
          0.9459588713534194,
          0.9459588713534194,
          0.9459588713534194,
          0.9459588713534194,
          0.9459588713534194,
          0.9459588713534194,
          0.9459588713534194,
          0.9459588713534194,
          0.9459588713534194,
          0.9459588713534194,
          0.9459588713534194,
          0.9459588713534194,
          0.9459588713534194,
          0.9459588713534194,
          0.9459588713534194,
          0.9459588713534194,
          0.9459588713534194,
          0.9459588713534194,
          0.9459588713534194,
          0.9459588713534194,
          0.9459588713534194,
          0.9459588713534194,
          0.9459588713534194,
          0.9459588713534194,
          0.9459588713534194,
          0.9459588713534194,
          0.9459588713534194,
          0.9459588713534194,
          0.9459588713534194,
          0.9459588713534194,
          0.9459588713534194,
          0.9459588713534194,
          0.9459588713534194,
          0.9459588713534194,
          0.9459588713534194,
          0.9459588713534194,
          0.9459588713534194,
          0.9459588713534194,
          0.9459588713534194,
          0.9459588713534194,
          0.9459588713534194,
          0.9459588713534194,
          0.9459588713534194,
          0.9459588713534194,
          0.9459588713534194,
          0.9459588713534194,
          0.9459588713534194,
          0.9459588713534194,
          0.9459588713534194,
          0.9459588713534194,
          0.9459588713534194,
          0.9459588713534194,
          0.9459588713534194,
          0.9459588713534194,
          0.9459588713534194,
          0.9459588713534194,
          0.9459588713534194,
          0.9459588713534194,
          0.9459588713534194,
          0.9459588713534194,
          0.9459588713534194,
          0.9459588713534194,
          0.9459588713534194,
          0.9459588713534194,
          0.9459588713534194,
          0.9459588713534194,
          0.9459588713534194,
          0.9459588713534194,
          0.9459588713534194,
          0.9459588713534194,
          0.9459588713534194,
          0.9459588713534194,
          0.9459588713534194,
          0.9459588713534194,
          0.9459588713534194,
          0.9459588713534194,
          0.9459588713534194,
          0.9459588713534194,
          0.9459588713534194,
          0.9459588713534194,
          0.9459588713534194,
          0.9459588713534194,
          0.9459588713534194,
          0.9459588713534194,
          0.9459588713534194,
          0.9459588713534194,
          0.9459588713534194,
          0.9459588713534194,
          0.9459588713534194,
          0.9459588713534194,
          0.9459588713534194,
          0.9459588713534194,
          0.9459588713534194,
          0.9459588713534194,
          0.9459588713534194,
          0.9459588713534194,
          0.9459588713534194,
          0.9459588713534194,
          0.9459588713534194,
          0.9459588713534194,
          0.9459588713534194,
          0.9459588713534194,
          0.9459588713534194,
          0.9459588713534194,
          0.9459588713534194,
          0.9459588713534194,
          0.9459588713534194,
          0.9459588713534194,
          0.9459588713534194,
          0.9459588713534194,
          0.9459588713534194,
          0.9459588713534194,
          0.9459588713534194,
          0.9459588713534194,
          0.9459588713534194,
          0.9459588713534194,
          0.9459588713534194,
          0.9459588713534194,
          0.9459588713534194,
          0.9459588713534194,
          0.9459588713534194,
          0.9459588713534194,
          0.9459588713534194,
          0.9459588713534194,
          0.9459588713534194,
          0.9459588713534194,
          0.9459588713534194,
          0.9459588713534194,
          0.9459588713534194,
          0.9459588713534194,
          0.9459588713534194,
          0.9459588713534194,
          0.9459588713534194,
          0.9459588713534194,
          0.9459588713534194,
          0.9459588713534194,
          0.9459588713534194,
          0.9459588713534194,
          0.9459588713534194,
          0.9459588713534194,
          0.9459588713534194,
          0.9459588713534194,
          0.9459588713534194,
          0.9459588713534194,
          0.9459588713534194,
          0.9459588713534194,
          0.9459588713534194,
          0.9459588713534194,
          0.9459588713534194,
          0.9459588713534194,
          0.9459588713534194,
          0.9459588713534194,
          0.9459588713534194,
          0.9459588713534194,
          0.9459588713534194,
          0.9459588713534194,
          0.9459588713534194,
          0.9459588713534194,
          0.9459588713534194,
          0.9459588713534194,
          0.9459588713534194,
          0.9459588713534194,
          0.9459588713534194,
          0.9459588713534194,
          0.9459588713534194,
          0.9459588713534194,
          0.9459588713534194,
          0.9459588713534194,
          0.9459588713534194,
          0.9459588713534194,
          0.9459588713534194,
          0.9459588713534194,
          0.9459588713534194,
          0.9459588713534194,
          0.9459588713534194,
          0.9459588713534194,
          0.9459588713534194,
          0.9459588713534194,
          0.9459588713534194,
          0.9459588713534194,
          0.9459588713534194,
          0.9459588713534194,
          0.9459588713534194,
          0.9459588713534194,
          0.9459588713534194,
          0.9459588713534194,
          0.9459588713534194,
          0.9459588713534194,
          0.9459588713534194,
          0.9459588713534194,
          0.9459588713534194,
          0.9459588713534194,
          0.9459588713534194,
          0.9459588713534194,
          0.9459588713534194,
          0.9459588713534194,
          0.9459588713534194,
          0.9459588713534194,
          0.9459588713534194,
          0.9459588713534194,
          0.9459588713534194,
          0.9459588713534194,
          0.9459588713534194,
          0.9459588713534194,
          0.9459588713534194,
          0.9459588713534194,
          0.9459588713534194,
          0.9459588713534194,
          0.9459588713534194,
          0.9459588713534194,
          0.9459588713534194,
          0.9459588713534194,
          0.9459588713534194,
          0.9459588713534194,
          0.9459588713534194,
          0.9459588713534194,
          0.9459588713534194,
          0.9459588713534194,
          0.9459588713534194,
          0.9459588713534194,
          0.9459588713534194,
          0.9459588713534194,
          0.9459588713534194,
          0.9459588713534194,
          0.9459588713534194,
          0.9459588713534194,
          0.9459588713534194,
          0.9459588713534194,
          0.9459588713534194,
          0.9459588713534194,
          0.9459588713534194,
          0.9459588713534194,
          0.9459588713534194,
          0.9459588713534194,
          0.9459588713534194,
          0.9459588713534194,
          0.9459588713534194,
          0.9459588713534194,
          0.9459588713534194,
          0.9459588713534194,
          0.9459588713534194,
          0.9459588713534194,
          0.9459588713534194,
          0.9459588713534194,
          0.9459588713534194,
          0.9459588713534194,
          0.9459588713534194,
          0.9459588713534194,
          0.9459588713534194,
          0.9459588713534194,
          0.9459588713534194,
          0.9459588713534194,
          0.9459588713534194,
          0.9459588713534194,
          0.9459588713534194,
          0.9459588713534194,
          0.9459588713534194,
          0.9459588713534194,
          0.9459588713534194,
          0.9459588713534194,
          0.9459588713534194,
          0.9459588713534194,
          0.9459588713534194,
          0.9459588713534194,
          0.9459588713534194,
          0.9459588713534194,
          0.9459588713534194,
          0.9459588713534194,
          0.9459588713534194,
          0.9459588713534194,
          0.9459588713534194,
          0.9459588713534194,
          0.9459588713534194,
          0.9459588713534194,
          0.9459588713534194,
          0.9459588713534194,
          0.9459588713534194,
          0.9459588713534194,
          0.9459588713534194,
          0.9459588713534194,
          0.9459588713534194,
          0.9459588713534194,
          0.9459588713534194,
          0.9459588713534194,
          0.9459588713534194,
          0.9459588713534194,
          0.9459588713534194,
          0.9459588713534194,
          0.9459588713534194,
          0.9459588713534194,
          0.9459588713534194,
          0.9459588713534194,
          0.9459588713534194,
          0.9459588713534194,
          0.9459588713534194,
          0.9459588713534194,
          0.9459588713534194,
          0.9459588713534194,
          0.9459588713534194,
          0.9459588713534194,
          0.9459588713534194,
          0.9459588713534194,
          0.9459588713534194,
          0.9459588713534194,
          0.9459588713534194,
          0.9459588713534194,
          0.9459588713534194,
          0.9459588713534194,
          0.9459588713534194,
          0.9459588713534194,
          0.9459588713534194,
          0.9459588713534194,
          0.9459588713534194,
          0.9459588713534194,
          0.9459588713534194,
          0.9459588713534194,
          0.9459588713534194,
          0.9459588713534194,
          0.9459588713534194,
          0.9459588713534194,
          0.9459588713534194,
          0.9459588713534194,
          0.9459588713534194
         ],
         "type": "scatter"
        }
       ],
       "layout": {
        "template": {
         "data": {
          "histogram2dcontour": [
           {
            "type": "histogram2dcontour",
            "colorbar": {
             "outlinewidth": 0,
             "ticks": ""
            },
            "colorscale": [
             [
              0.0,
              "#0d0887"
             ],
             [
              0.1111111111111111,
              "#46039f"
             ],
             [
              0.2222222222222222,
              "#7201a8"
             ],
             [
              0.3333333333333333,
              "#9c179e"
             ],
             [
              0.4444444444444444,
              "#bd3786"
             ],
             [
              0.5555555555555556,
              "#d8576b"
             ],
             [
              0.6666666666666666,
              "#ed7953"
             ],
             [
              0.7777777777777778,
              "#fb9f3a"
             ],
             [
              0.8888888888888888,
              "#fdca26"
             ],
             [
              1.0,
              "#f0f921"
             ]
            ]
           }
          ],
          "choropleth": [
           {
            "type": "choropleth",
            "colorbar": {
             "outlinewidth": 0,
             "ticks": ""
            }
           }
          ],
          "histogram2d": [
           {
            "type": "histogram2d",
            "colorbar": {
             "outlinewidth": 0,
             "ticks": ""
            },
            "colorscale": [
             [
              0.0,
              "#0d0887"
             ],
             [
              0.1111111111111111,
              "#46039f"
             ],
             [
              0.2222222222222222,
              "#7201a8"
             ],
             [
              0.3333333333333333,
              "#9c179e"
             ],
             [
              0.4444444444444444,
              "#bd3786"
             ],
             [
              0.5555555555555556,
              "#d8576b"
             ],
             [
              0.6666666666666666,
              "#ed7953"
             ],
             [
              0.7777777777777778,
              "#fb9f3a"
             ],
             [
              0.8888888888888888,
              "#fdca26"
             ],
             [
              1.0,
              "#f0f921"
             ]
            ]
           }
          ],
          "heatmap": [
           {
            "type": "heatmap",
            "colorbar": {
             "outlinewidth": 0,
             "ticks": ""
            },
            "colorscale": [
             [
              0.0,
              "#0d0887"
             ],
             [
              0.1111111111111111,
              "#46039f"
             ],
             [
              0.2222222222222222,
              "#7201a8"
             ],
             [
              0.3333333333333333,
              "#9c179e"
             ],
             [
              0.4444444444444444,
              "#bd3786"
             ],
             [
              0.5555555555555556,
              "#d8576b"
             ],
             [
              0.6666666666666666,
              "#ed7953"
             ],
             [
              0.7777777777777778,
              "#fb9f3a"
             ],
             [
              0.8888888888888888,
              "#fdca26"
             ],
             [
              1.0,
              "#f0f921"
             ]
            ]
           }
          ],
          "heatmapgl": [
           {
            "type": "heatmapgl",
            "colorbar": {
             "outlinewidth": 0,
             "ticks": ""
            },
            "colorscale": [
             [
              0.0,
              "#0d0887"
             ],
             [
              0.1111111111111111,
              "#46039f"
             ],
             [
              0.2222222222222222,
              "#7201a8"
             ],
             [
              0.3333333333333333,
              "#9c179e"
             ],
             [
              0.4444444444444444,
              "#bd3786"
             ],
             [
              0.5555555555555556,
              "#d8576b"
             ],
             [
              0.6666666666666666,
              "#ed7953"
             ],
             [
              0.7777777777777778,
              "#fb9f3a"
             ],
             [
              0.8888888888888888,
              "#fdca26"
             ],
             [
              1.0,
              "#f0f921"
             ]
            ]
           }
          ],
          "contourcarpet": [
           {
            "type": "contourcarpet",
            "colorbar": {
             "outlinewidth": 0,
             "ticks": ""
            }
           }
          ],
          "contour": [
           {
            "type": "contour",
            "colorbar": {
             "outlinewidth": 0,
             "ticks": ""
            },
            "colorscale": [
             [
              0.0,
              "#0d0887"
             ],
             [
              0.1111111111111111,
              "#46039f"
             ],
             [
              0.2222222222222222,
              "#7201a8"
             ],
             [
              0.3333333333333333,
              "#9c179e"
             ],
             [
              0.4444444444444444,
              "#bd3786"
             ],
             [
              0.5555555555555556,
              "#d8576b"
             ],
             [
              0.6666666666666666,
              "#ed7953"
             ],
             [
              0.7777777777777778,
              "#fb9f3a"
             ],
             [
              0.8888888888888888,
              "#fdca26"
             ],
             [
              1.0,
              "#f0f921"
             ]
            ]
           }
          ],
          "surface": [
           {
            "type": "surface",
            "colorbar": {
             "outlinewidth": 0,
             "ticks": ""
            },
            "colorscale": [
             [
              0.0,
              "#0d0887"
             ],
             [
              0.1111111111111111,
              "#46039f"
             ],
             [
              0.2222222222222222,
              "#7201a8"
             ],
             [
              0.3333333333333333,
              "#9c179e"
             ],
             [
              0.4444444444444444,
              "#bd3786"
             ],
             [
              0.5555555555555556,
              "#d8576b"
             ],
             [
              0.6666666666666666,
              "#ed7953"
             ],
             [
              0.7777777777777778,
              "#fb9f3a"
             ],
             [
              0.8888888888888888,
              "#fdca26"
             ],
             [
              1.0,
              "#f0f921"
             ]
            ]
           }
          ],
          "mesh3d": [
           {
            "type": "mesh3d",
            "colorbar": {
             "outlinewidth": 0,
             "ticks": ""
            }
           }
          ],
          "scatter": [
           {
            "marker": {
             "line": {
              "color": "#283442"
             }
            },
            "type": "scatter"
           }
          ],
          "parcoords": [
           {
            "type": "parcoords",
            "line": {
             "colorbar": {
              "outlinewidth": 0,
              "ticks": ""
             }
            }
           }
          ],
          "scatterpolargl": [
           {
            "type": "scatterpolargl",
            "marker": {
             "colorbar": {
              "outlinewidth": 0,
              "ticks": ""
             }
            }
           }
          ],
          "bar": [
           {
            "error_x": {
             "color": "#f2f5fa"
            },
            "error_y": {
             "color": "#f2f5fa"
            },
            "marker": {
             "line": {
              "color": "rgb(17,17,17)",
              "width": 0.5
             },
             "pattern": {
              "fillmode": "overlay",
              "size": 10,
              "solidity": 0.2
             }
            },
            "type": "bar"
           }
          ],
          "scattergeo": [
           {
            "type": "scattergeo",
            "marker": {
             "colorbar": {
              "outlinewidth": 0,
              "ticks": ""
             }
            }
           }
          ],
          "scatterpolar": [
           {
            "type": "scatterpolar",
            "marker": {
             "colorbar": {
              "outlinewidth": 0,
              "ticks": ""
             }
            }
           }
          ],
          "histogram": [
           {
            "marker": {
             "pattern": {
              "fillmode": "overlay",
              "size": 10,
              "solidity": 0.2
             }
            },
            "type": "histogram"
           }
          ],
          "scattergl": [
           {
            "marker": {
             "line": {
              "color": "#283442"
             }
            },
            "type": "scattergl"
           }
          ],
          "scatter3d": [
           {
            "type": "scatter3d",
            "line": {
             "colorbar": {
              "outlinewidth": 0,
              "ticks": ""
             }
            },
            "marker": {
             "colorbar": {
              "outlinewidth": 0,
              "ticks": ""
             }
            }
           }
          ],
          "scattermapbox": [
           {
            "type": "scattermapbox",
            "marker": {
             "colorbar": {
              "outlinewidth": 0,
              "ticks": ""
             }
            }
           }
          ],
          "scatterternary": [
           {
            "type": "scatterternary",
            "marker": {
             "colorbar": {
              "outlinewidth": 0,
              "ticks": ""
             }
            }
           }
          ],
          "scattercarpet": [
           {
            "type": "scattercarpet",
            "marker": {
             "colorbar": {
              "outlinewidth": 0,
              "ticks": ""
             }
            }
           }
          ],
          "carpet": [
           {
            "aaxis": {
             "endlinecolor": "#A2B1C6",
             "gridcolor": "#506784",
             "linecolor": "#506784",
             "minorgridcolor": "#506784",
             "startlinecolor": "#A2B1C6"
            },
            "baxis": {
             "endlinecolor": "#A2B1C6",
             "gridcolor": "#506784",
             "linecolor": "#506784",
             "minorgridcolor": "#506784",
             "startlinecolor": "#A2B1C6"
            },
            "type": "carpet"
           }
          ],
          "table": [
           {
            "cells": {
             "fill": {
              "color": "#506784"
             },
             "line": {
              "color": "rgb(17,17,17)"
             }
            },
            "header": {
             "fill": {
              "color": "#2a3f5f"
             },
             "line": {
              "color": "rgb(17,17,17)"
             }
            },
            "type": "table"
           }
          ],
          "barpolar": [
           {
            "marker": {
             "line": {
              "color": "rgb(17,17,17)",
              "width": 0.5
             },
             "pattern": {
              "fillmode": "overlay",
              "size": 10,
              "solidity": 0.2
             }
            },
            "type": "barpolar"
           }
          ],
          "pie": [
           {
            "automargin": true,
            "type": "pie"
           }
          ]
         },
         "layout": {
          "autotypenumbers": "strict",
          "colorway": [
           "#636efa",
           "#EF553B",
           "#00cc96",
           "#ab63fa",
           "#FFA15A",
           "#19d3f3",
           "#FF6692",
           "#B6E880",
           "#FF97FF",
           "#FECB52"
          ],
          "font": {
           "color": "#f2f5fa"
          },
          "hovermode": "closest",
          "hoverlabel": {
           "align": "left"
          },
          "paper_bgcolor": "rgb(17,17,17)",
          "plot_bgcolor": "rgb(17,17,17)",
          "polar": {
           "bgcolor": "rgb(17,17,17)",
           "angularaxis": {
            "gridcolor": "#506784",
            "linecolor": "#506784",
            "ticks": ""
           },
           "radialaxis": {
            "gridcolor": "#506784",
            "linecolor": "#506784",
            "ticks": ""
           }
          },
          "ternary": {
           "bgcolor": "rgb(17,17,17)",
           "aaxis": {
            "gridcolor": "#506784",
            "linecolor": "#506784",
            "ticks": ""
           },
           "baxis": {
            "gridcolor": "#506784",
            "linecolor": "#506784",
            "ticks": ""
           },
           "caxis": {
            "gridcolor": "#506784",
            "linecolor": "#506784",
            "ticks": ""
           }
          },
          "coloraxis": {
           "colorbar": {
            "outlinewidth": 0,
            "ticks": ""
           }
          },
          "colorscale": {
           "sequential": [
            [
             0.0,
             "#0d0887"
            ],
            [
             0.1111111111111111,
             "#46039f"
            ],
            [
             0.2222222222222222,
             "#7201a8"
            ],
            [
             0.3333333333333333,
             "#9c179e"
            ],
            [
             0.4444444444444444,
             "#bd3786"
            ],
            [
             0.5555555555555556,
             "#d8576b"
            ],
            [
             0.6666666666666666,
             "#ed7953"
            ],
            [
             0.7777777777777778,
             "#fb9f3a"
            ],
            [
             0.8888888888888888,
             "#fdca26"
            ],
            [
             1.0,
             "#f0f921"
            ]
           ],
           "sequentialminus": [
            [
             0.0,
             "#0d0887"
            ],
            [
             0.1111111111111111,
             "#46039f"
            ],
            [
             0.2222222222222222,
             "#7201a8"
            ],
            [
             0.3333333333333333,
             "#9c179e"
            ],
            [
             0.4444444444444444,
             "#bd3786"
            ],
            [
             0.5555555555555556,
             "#d8576b"
            ],
            [
             0.6666666666666666,
             "#ed7953"
            ],
            [
             0.7777777777777778,
             "#fb9f3a"
            ],
            [
             0.8888888888888888,
             "#fdca26"
            ],
            [
             1.0,
             "#f0f921"
            ]
           ],
           "diverging": [
            [
             0,
             "#8e0152"
            ],
            [
             0.1,
             "#c51b7d"
            ],
            [
             0.2,
             "#de77ae"
            ],
            [
             0.3,
             "#f1b6da"
            ],
            [
             0.4,
             "#fde0ef"
            ],
            [
             0.5,
             "#f7f7f7"
            ],
            [
             0.6,
             "#e6f5d0"
            ],
            [
             0.7,
             "#b8e186"
            ],
            [
             0.8,
             "#7fbc41"
            ],
            [
             0.9,
             "#4d9221"
            ],
            [
             1,
             "#276419"
            ]
           ]
          },
          "xaxis": {
           "gridcolor": "#283442",
           "linecolor": "#506784",
           "ticks": "",
           "title": {
            "standoff": 15
           },
           "zerolinecolor": "#283442",
           "automargin": true,
           "zerolinewidth": 2
          },
          "yaxis": {
           "gridcolor": "#283442",
           "linecolor": "#506784",
           "ticks": "",
           "title": {
            "standoff": 15
           },
           "zerolinecolor": "#283442",
           "automargin": true,
           "zerolinewidth": 2
          },
          "scene": {
           "xaxis": {
            "backgroundcolor": "rgb(17,17,17)",
            "gridcolor": "#506784",
            "linecolor": "#506784",
            "showbackground": true,
            "ticks": "",
            "zerolinecolor": "#C8D4E3",
            "gridwidth": 2
           },
           "yaxis": {
            "backgroundcolor": "rgb(17,17,17)",
            "gridcolor": "#506784",
            "linecolor": "#506784",
            "showbackground": true,
            "ticks": "",
            "zerolinecolor": "#C8D4E3",
            "gridwidth": 2
           },
           "zaxis": {
            "backgroundcolor": "rgb(17,17,17)",
            "gridcolor": "#506784",
            "linecolor": "#506784",
            "showbackground": true,
            "ticks": "",
            "zerolinecolor": "#C8D4E3",
            "gridwidth": 2
           }
          },
          "shapedefaults": {
           "line": {
            "color": "#f2f5fa"
           }
          },
          "annotationdefaults": {
           "arrowcolor": "#f2f5fa",
           "arrowhead": 0,
           "arrowwidth": 1
          },
          "geo": {
           "bgcolor": "rgb(17,17,17)",
           "landcolor": "rgb(17,17,17)",
           "subunitcolor": "#506784",
           "showland": true,
           "showlakes": true,
           "lakecolor": "rgb(17,17,17)"
          },
          "title": {
           "x": 0.05
          },
          "updatemenudefaults": {
           "bgcolor": "#506784",
           "borderwidth": 0
          },
          "sliderdefaults": {
           "bgcolor": "#C8D4E3",
           "borderwidth": 1,
           "bordercolor": "rgb(17,17,17)",
           "tickwidth": 0
          },
          "mapbox": {
           "style": "dark"
          }
         }
        },
        "title": {
         "text": "How the result score depends on max_features for TFIDFVectorizer with STOPWORDs"
        },
        "xaxis": {
         "title": {
          "text": "max_features"
         }
        },
        "yaxis": {
         "title": {
          "text": "Score"
         }
        }
       },
       "config": {
        "plotlyServerURL": "https://plot.ly"
       }
      },
      "text/html": "<div>                            <div id=\"6d05f04d-008a-4d6a-8c51-63b5d782b835\" class=\"plotly-graph-div\" style=\"height:525px; width:100%;\"></div>            <script type=\"text/javascript\">                require([\"plotly\"], function(Plotly) {                    window.PLOTLYENV=window.PLOTLYENV || {};                                    if (document.getElementById(\"6d05f04d-008a-4d6a-8c51-63b5d782b835\")) {                    Plotly.newPlot(                        \"6d05f04d-008a-4d6a-8c51-63b5d782b835\",                        [{\"mode\":\"lines\",\"name\":\"Test score stopwords\",\"x\":[1700,1750,1800,1850,1900,1950,2000,2050,2100,2150,2200,2250,2300,2350,2400,2450,2500,2550,2600,2650,2700,2750,2800,2850],\"y\":[0.8971783835485414,0.8971783835485414,0.9005260640841702,0.9005260640841702,0.9029172644667623,0.9024390243902439,0.9033955045432808,0.9086561453849833,0.9062649450023912,0.9062649450023912,0.9053084648493543,0.907221425155428,0.9124820659971306,0.9115255858440937,0.912960306073649,0.9110473457675753,0.9096126255380201,0.9124820659971306,0.9110473457675753,0.9143950263032042,0.9153515064562411,0.9139167862266858,0.9120038259206121,0.9134385461501674],\"type\":\"scatter\"},{\"mode\":\"lines+markers\",\"name\":\"Train score stopwords\",\"x\":[1700,1750,1800,1850,1900,1950,2000,2050,2100,2150,2200,2250,2300,2350,2400,2450,2500,2550,2600,2650,2700,2750,2800,2850],\"y\":[1.0,1.0,1.0,1.0,1.0,1.0,1.0,1.0,1.0,1.0,1.0,1.0,1.0,1.0,1.0,1.0,1.0,1.0,1.0,1.0,1.0,1.0,1.0,1.0],\"type\":\"scatter\"},{\"mode\":\"lines+markers\",\"name\":\"Baseline score\",\"x\":[1700,1750,1800,1850,1900,1950,2000,2050,2100,2150,2200,2250,2300,2350,2400,2450,2500,2550,2600,2650,2700,2750,2800,2850],\"y\":[0.9459588713534194,0.9459588713534194,0.9459588713534194,0.9459588713534194,0.9459588713534194,0.9459588713534194,0.9459588713534194,0.9459588713534194,0.9459588713534194,0.9459588713534194,0.9459588713534194,0.9459588713534194,0.9459588713534194,0.9459588713534194,0.9459588713534194,0.9459588713534194,0.9459588713534194,0.9459588713534194,0.9459588713534194,0.9459588713534194,0.9459588713534194,0.9459588713534194,0.9459588713534194,0.9459588713534194,0.9459588713534194,0.9459588713534194,0.9459588713534194,0.9459588713534194,0.9459588713534194,0.9459588713534194,0.9459588713534194,0.9459588713534194,0.9459588713534194,0.9459588713534194,0.9459588713534194,0.9459588713534194,0.9459588713534194,0.9459588713534194,0.9459588713534194,0.9459588713534194,0.9459588713534194,0.9459588713534194,0.9459588713534194,0.9459588713534194,0.9459588713534194,0.9459588713534194,0.9459588713534194,0.9459588713534194,0.9459588713534194,0.9459588713534194,0.9459588713534194,0.9459588713534194,0.9459588713534194,0.9459588713534194,0.9459588713534194,0.9459588713534194,0.9459588713534194,0.9459588713534194,0.9459588713534194,0.9459588713534194,0.9459588713534194,0.9459588713534194,0.9459588713534194,0.9459588713534194,0.9459588713534194,0.9459588713534194,0.9459588713534194,0.9459588713534194,0.9459588713534194,0.9459588713534194,0.9459588713534194,0.9459588713534194,0.9459588713534194,0.9459588713534194,0.9459588713534194,0.9459588713534194,0.9459588713534194,0.9459588713534194,0.9459588713534194,0.9459588713534194,0.9459588713534194,0.9459588713534194,0.9459588713534194,0.9459588713534194,0.9459588713534194,0.9459588713534194,0.9459588713534194,0.9459588713534194,0.9459588713534194,0.9459588713534194,0.9459588713534194,0.9459588713534194,0.9459588713534194,0.9459588713534194,0.9459588713534194,0.9459588713534194,0.9459588713534194,0.9459588713534194,0.9459588713534194,0.9459588713534194,0.9459588713534194,0.9459588713534194,0.9459588713534194,0.9459588713534194,0.9459588713534194,0.9459588713534194,0.9459588713534194,0.9459588713534194,0.9459588713534194,0.9459588713534194,0.9459588713534194,0.9459588713534194,0.9459588713534194,0.9459588713534194,0.9459588713534194,0.9459588713534194,0.9459588713534194,0.9459588713534194,0.9459588713534194,0.9459588713534194,0.9459588713534194,0.9459588713534194,0.9459588713534194,0.9459588713534194,0.9459588713534194,0.9459588713534194,0.9459588713534194,0.9459588713534194,0.9459588713534194,0.9459588713534194,0.9459588713534194,0.9459588713534194,0.9459588713534194,0.9459588713534194,0.9459588713534194,0.9459588713534194,0.9459588713534194,0.9459588713534194,0.9459588713534194,0.9459588713534194,0.9459588713534194,0.9459588713534194,0.9459588713534194,0.9459588713534194,0.9459588713534194,0.9459588713534194,0.9459588713534194,0.9459588713534194,0.9459588713534194,0.9459588713534194,0.9459588713534194,0.9459588713534194,0.9459588713534194,0.9459588713534194,0.9459588713534194,0.9459588713534194,0.9459588713534194,0.9459588713534194,0.9459588713534194,0.9459588713534194,0.9459588713534194,0.9459588713534194,0.9459588713534194,0.9459588713534194,0.9459588713534194,0.9459588713534194,0.9459588713534194,0.9459588713534194,0.9459588713534194,0.9459588713534194,0.9459588713534194,0.9459588713534194,0.9459588713534194,0.9459588713534194,0.9459588713534194,0.9459588713534194,0.9459588713534194,0.9459588713534194,0.9459588713534194,0.9459588713534194,0.9459588713534194,0.9459588713534194,0.9459588713534194,0.9459588713534194,0.9459588713534194,0.9459588713534194,0.9459588713534194,0.9459588713534194,0.9459588713534194,0.9459588713534194,0.9459588713534194,0.9459588713534194,0.9459588713534194,0.9459588713534194,0.9459588713534194,0.9459588713534194,0.9459588713534194,0.9459588713534194,0.9459588713534194,0.9459588713534194,0.9459588713534194,0.9459588713534194,0.9459588713534194,0.9459588713534194,0.9459588713534194,0.9459588713534194,0.9459588713534194,0.9459588713534194,0.9459588713534194,0.9459588713534194,0.9459588713534194,0.9459588713534194,0.9459588713534194,0.9459588713534194,0.9459588713534194,0.9459588713534194,0.9459588713534194,0.9459588713534194,0.9459588713534194,0.9459588713534194,0.9459588713534194,0.9459588713534194,0.9459588713534194,0.9459588713534194,0.9459588713534194,0.9459588713534194,0.9459588713534194,0.9459588713534194,0.9459588713534194,0.9459588713534194,0.9459588713534194,0.9459588713534194,0.9459588713534194,0.9459588713534194,0.9459588713534194,0.9459588713534194,0.9459588713534194,0.9459588713534194,0.9459588713534194,0.9459588713534194,0.9459588713534194,0.9459588713534194,0.9459588713534194,0.9459588713534194,0.9459588713534194,0.9459588713534194,0.9459588713534194,0.9459588713534194,0.9459588713534194,0.9459588713534194,0.9459588713534194,0.9459588713534194,0.9459588713534194,0.9459588713534194,0.9459588713534194,0.9459588713534194,0.9459588713534194,0.9459588713534194,0.9459588713534194,0.9459588713534194,0.9459588713534194,0.9459588713534194,0.9459588713534194,0.9459588713534194,0.9459588713534194,0.9459588713534194,0.9459588713534194,0.9459588713534194,0.9459588713534194,0.9459588713534194,0.9459588713534194,0.9459588713534194,0.9459588713534194,0.9459588713534194,0.9459588713534194,0.9459588713534194,0.9459588713534194,0.9459588713534194,0.9459588713534194,0.9459588713534194,0.9459588713534194,0.9459588713534194,0.9459588713534194,0.9459588713534194,0.9459588713534194,0.9459588713534194,0.9459588713534194,0.9459588713534194,0.9459588713534194,0.9459588713534194,0.9459588713534194,0.9459588713534194,0.9459588713534194,0.9459588713534194,0.9459588713534194,0.9459588713534194,0.9459588713534194,0.9459588713534194,0.9459588713534194,0.9459588713534194,0.9459588713534194,0.9459588713534194,0.9459588713534194,0.9459588713534194,0.9459588713534194,0.9459588713534194,0.9459588713534194,0.9459588713534194,0.9459588713534194,0.9459588713534194,0.9459588713534194,0.9459588713534194,0.9459588713534194,0.9459588713534194,0.9459588713534194,0.9459588713534194,0.9459588713534194,0.9459588713534194,0.9459588713534194,0.9459588713534194,0.9459588713534194,0.9459588713534194,0.9459588713534194,0.9459588713534194,0.9459588713534194,0.9459588713534194,0.9459588713534194,0.9459588713534194,0.9459588713534194,0.9459588713534194,0.9459588713534194,0.9459588713534194,0.9459588713534194,0.9459588713534194,0.9459588713534194,0.9459588713534194,0.9459588713534194,0.9459588713534194,0.9459588713534194,0.9459588713534194,0.9459588713534194,0.9459588713534194,0.9459588713534194,0.9459588713534194,0.9459588713534194,0.9459588713534194,0.9459588713534194,0.9459588713534194,0.9459588713534194,0.9459588713534194,0.9459588713534194,0.9459588713534194,0.9459588713534194,0.9459588713534194,0.9459588713534194,0.9459588713534194,0.9459588713534194,0.9459588713534194,0.9459588713534194,0.9459588713534194,0.9459588713534194,0.9459588713534194,0.9459588713534194,0.9459588713534194,0.9459588713534194,0.9459588713534194,0.9459588713534194,0.9459588713534194,0.9459588713534194,0.9459588713534194,0.9459588713534194,0.9459588713534194,0.9459588713534194,0.9459588713534194,0.9459588713534194,0.9459588713534194,0.9459588713534194,0.9459588713534194,0.9459588713534194,0.9459588713534194,0.9459588713534194,0.9459588713534194,0.9459588713534194,0.9459588713534194,0.9459588713534194,0.9459588713534194,0.9459588713534194,0.9459588713534194,0.9459588713534194,0.9459588713534194,0.9459588713534194,0.9459588713534194,0.9459588713534194,0.9459588713534194,0.9459588713534194,0.9459588713534194,0.9459588713534194,0.9459588713534194,0.9459588713534194,0.9459588713534194,0.9459588713534194,0.9459588713534194,0.9459588713534194,0.9459588713534194,0.9459588713534194,0.9459588713534194,0.9459588713534194,0.9459588713534194,0.9459588713534194,0.9459588713534194,0.9459588713534194,0.9459588713534194,0.9459588713534194,0.9459588713534194,0.9459588713534194,0.9459588713534194,0.9459588713534194,0.9459588713534194,0.9459588713534194,0.9459588713534194,0.9459588713534194,0.9459588713534194,0.9459588713534194,0.9459588713534194,0.9459588713534194,0.9459588713534194,0.9459588713534194,0.9459588713534194,0.9459588713534194,0.9459588713534194,0.9459588713534194,0.9459588713534194,0.9459588713534194,0.9459588713534194,0.9459588713534194,0.9459588713534194,0.9459588713534194,0.9459588713534194,0.9459588713534194,0.9459588713534194,0.9459588713534194,0.9459588713534194,0.9459588713534194,0.9459588713534194,0.9459588713534194,0.9459588713534194,0.9459588713534194,0.9459588713534194,0.9459588713534194,0.9459588713534194,0.9459588713534194,0.9459588713534194,0.9459588713534194,0.9459588713534194,0.9459588713534194,0.9459588713534194,0.9459588713534194,0.9459588713534194,0.9459588713534194,0.9459588713534194,0.9459588713534194,0.9459588713534194,0.9459588713534194,0.9459588713534194,0.9459588713534194,0.9459588713534194,0.9459588713534194,0.9459588713534194,0.9459588713534194,0.9459588713534194,0.9459588713534194,0.9459588713534194,0.9459588713534194,0.9459588713534194,0.9459588713534194,0.9459588713534194,0.9459588713534194,0.9459588713534194,0.9459588713534194,0.9459588713534194,0.9459588713534194,0.9459588713534194,0.9459588713534194,0.9459588713534194,0.9459588713534194,0.9459588713534194,0.9459588713534194,0.9459588713534194,0.9459588713534194,0.9459588713534194,0.9459588713534194,0.9459588713534194,0.9459588713534194,0.9459588713534194,0.9459588713534194,0.9459588713534194,0.9459588713534194,0.9459588713534194,0.9459588713534194,0.9459588713534194,0.9459588713534194,0.9459588713534194,0.9459588713534194,0.9459588713534194,0.9459588713534194,0.9459588713534194,0.9459588713534194,0.9459588713534194,0.9459588713534194,0.9459588713534194,0.9459588713534194,0.9459588713534194,0.9459588713534194,0.9459588713534194,0.9459588713534194,0.9459588713534194,0.9459588713534194,0.9459588713534194,0.9459588713534194,0.9459588713534194,0.9459588713534194,0.9459588713534194,0.9459588713534194,0.9459588713534194,0.9459588713534194,0.9459588713534194,0.9459588713534194,0.9459588713534194,0.9459588713534194,0.9459588713534194,0.9459588713534194,0.9459588713534194,0.9459588713534194,0.9459588713534194,0.9459588713534194,0.9459588713534194,0.9459588713534194,0.9459588713534194,0.9459588713534194,0.9459588713534194,0.9459588713534194,0.9459588713534194,0.9459588713534194,0.9459588713534194,0.9459588713534194,0.9459588713534194,0.9459588713534194,0.9459588713534194,0.9459588713534194,0.9459588713534194,0.9459588713534194,0.9459588713534194,0.9459588713534194,0.9459588713534194,0.9459588713534194,0.9459588713534194,0.9459588713534194,0.9459588713534194,0.9459588713534194,0.9459588713534194,0.9459588713534194,0.9459588713534194,0.9459588713534194,0.9459588713534194,0.9459588713534194,0.9459588713534194,0.9459588713534194,0.9459588713534194,0.9459588713534194,0.9459588713534194,0.9459588713534194,0.9459588713534194,0.9459588713534194,0.9459588713534194,0.9459588713534194,0.9459588713534194,0.9459588713534194,0.9459588713534194,0.9459588713534194,0.9459588713534194,0.9459588713534194,0.9459588713534194,0.9459588713534194,0.9459588713534194,0.9459588713534194,0.9459588713534194,0.9459588713534194,0.9459588713534194,0.9459588713534194,0.9459588713534194,0.9459588713534194,0.9459588713534194,0.9459588713534194,0.9459588713534194,0.9459588713534194,0.9459588713534194,0.9459588713534194,0.9459588713534194,0.9459588713534194,0.9459588713534194,0.9459588713534194,0.9459588713534194,0.9459588713534194,0.9459588713534194,0.9459588713534194,0.9459588713534194,0.9459588713534194,0.9459588713534194,0.9459588713534194,0.9459588713534194,0.9459588713534194,0.9459588713534194,0.9459588713534194,0.9459588713534194,0.9459588713534194,0.9459588713534194,0.9459588713534194,0.9459588713534194,0.9459588713534194,0.9459588713534194,0.9459588713534194,0.9459588713534194,0.9459588713534194,0.9459588713534194,0.9459588713534194,0.9459588713534194,0.9459588713534194,0.9459588713534194,0.9459588713534194,0.9459588713534194,0.9459588713534194,0.9459588713534194,0.9459588713534194,0.9459588713534194,0.9459588713534194,0.9459588713534194,0.9459588713534194,0.9459588713534194,0.9459588713534194,0.9459588713534194,0.9459588713534194,0.9459588713534194,0.9459588713534194,0.9459588713534194,0.9459588713534194,0.9459588713534194,0.9459588713534194,0.9459588713534194,0.9459588713534194,0.9459588713534194,0.9459588713534194,0.9459588713534194,0.9459588713534194,0.9459588713534194,0.9459588713534194,0.9459588713534194,0.9459588713534194,0.9459588713534194,0.9459588713534194,0.9459588713534194,0.9459588713534194,0.9459588713534194,0.9459588713534194,0.9459588713534194,0.9459588713534194,0.9459588713534194,0.9459588713534194,0.9459588713534194,0.9459588713534194,0.9459588713534194,0.9459588713534194,0.9459588713534194,0.9459588713534194,0.9459588713534194,0.9459588713534194,0.9459588713534194,0.9459588713534194,0.9459588713534194,0.9459588713534194,0.9459588713534194,0.9459588713534194,0.9459588713534194,0.9459588713534194,0.9459588713534194,0.9459588713534194,0.9459588713534194,0.9459588713534194,0.9459588713534194,0.9459588713534194,0.9459588713534194,0.9459588713534194,0.9459588713534194,0.9459588713534194,0.9459588713534194,0.9459588713534194,0.9459588713534194,0.9459588713534194,0.9459588713534194,0.9459588713534194,0.9459588713534194,0.9459588713534194,0.9459588713534194,0.9459588713534194,0.9459588713534194,0.9459588713534194,0.9459588713534194,0.9459588713534194,0.9459588713534194,0.9459588713534194,0.9459588713534194,0.9459588713534194,0.9459588713534194,0.9459588713534194,0.9459588713534194,0.9459588713534194,0.9459588713534194,0.9459588713534194,0.9459588713534194,0.9459588713534194,0.9459588713534194,0.9459588713534194,0.9459588713534194,0.9459588713534194,0.9459588713534194,0.9459588713534194,0.9459588713534194,0.9459588713534194,0.9459588713534194,0.9459588713534194,0.9459588713534194,0.9459588713534194,0.9459588713534194,0.9459588713534194,0.9459588713534194,0.9459588713534194,0.9459588713534194,0.9459588713534194,0.9459588713534194,0.9459588713534194,0.9459588713534194,0.9459588713534194,0.9459588713534194,0.9459588713534194,0.9459588713534194,0.9459588713534194,0.9459588713534194,0.9459588713534194,0.9459588713534194,0.9459588713534194,0.9459588713534194,0.9459588713534194,0.9459588713534194,0.9459588713534194,0.9459588713534194,0.9459588713534194,0.9459588713534194,0.9459588713534194,0.9459588713534194,0.9459588713534194,0.9459588713534194,0.9459588713534194,0.9459588713534194,0.9459588713534194,0.9459588713534194,0.9459588713534194,0.9459588713534194,0.9459588713534194,0.9459588713534194,0.9459588713534194,0.9459588713534194,0.9459588713534194,0.9459588713534194,0.9459588713534194,0.9459588713534194,0.9459588713534194,0.9459588713534194,0.9459588713534194,0.9459588713534194,0.9459588713534194,0.9459588713534194,0.9459588713534194,0.9459588713534194,0.9459588713534194,0.9459588713534194,0.9459588713534194,0.9459588713534194,0.9459588713534194,0.9459588713534194,0.9459588713534194,0.9459588713534194,0.9459588713534194,0.9459588713534194,0.9459588713534194,0.9459588713534194,0.9459588713534194,0.9459588713534194,0.9459588713534194,0.9459588713534194,0.9459588713534194,0.9459588713534194,0.9459588713534194,0.9459588713534194,0.9459588713534194,0.9459588713534194,0.9459588713534194,0.9459588713534194,0.9459588713534194,0.9459588713534194,0.9459588713534194,0.9459588713534194,0.9459588713534194,0.9459588713534194,0.9459588713534194,0.9459588713534194,0.9459588713534194,0.9459588713534194,0.9459588713534194,0.9459588713534194,0.9459588713534194,0.9459588713534194,0.9459588713534194,0.9459588713534194,0.9459588713534194,0.9459588713534194,0.9459588713534194,0.9459588713534194,0.9459588713534194,0.9459588713534194,0.9459588713534194,0.9459588713534194,0.9459588713534194,0.9459588713534194,0.9459588713534194,0.9459588713534194,0.9459588713534194,0.9459588713534194,0.9459588713534194,0.9459588713534194,0.9459588713534194,0.9459588713534194,0.9459588713534194,0.9459588713534194,0.9459588713534194,0.9459588713534194,0.9459588713534194,0.9459588713534194,0.9459588713534194,0.9459588713534194,0.9459588713534194,0.9459588713534194,0.9459588713534194,0.9459588713534194,0.9459588713534194,0.9459588713534194,0.9459588713534194,0.9459588713534194,0.9459588713534194,0.9459588713534194,0.9459588713534194,0.9459588713534194,0.9459588713534194,0.9459588713534194,0.9459588713534194,0.9459588713534194,0.9459588713534194,0.9459588713534194,0.9459588713534194,0.9459588713534194,0.9459588713534194,0.9459588713534194,0.9459588713534194,0.9459588713534194,0.9459588713534194,0.9459588713534194,0.9459588713534194,0.9459588713534194,0.9459588713534194,0.9459588713534194,0.9459588713534194,0.9459588713534194,0.9459588713534194,0.9459588713534194,0.9459588713534194,0.9459588713534194,0.9459588713534194,0.9459588713534194,0.9459588713534194,0.9459588713534194,0.9459588713534194,0.9459588713534194,0.9459588713534194,0.9459588713534194,0.9459588713534194,0.9459588713534194,0.9459588713534194,0.9459588713534194,0.9459588713534194,0.9459588713534194,0.9459588713534194,0.9459588713534194,0.9459588713534194,0.9459588713534194,0.9459588713534194,0.9459588713534194,0.9459588713534194,0.9459588713534194,0.9459588713534194,0.9459588713534194,0.9459588713534194,0.9459588713534194,0.9459588713534194,0.9459588713534194,0.9459588713534194,0.9459588713534194,0.9459588713534194,0.9459588713534194,0.9459588713534194,0.9459588713534194,0.9459588713534194,0.9459588713534194,0.9459588713534194,0.9459588713534194,0.9459588713534194,0.9459588713534194,0.9459588713534194,0.9459588713534194,0.9459588713534194,0.9459588713534194,0.9459588713534194,0.9459588713534194,0.9459588713534194,0.9459588713534194,0.9459588713534194,0.9459588713534194,0.9459588713534194,0.9459588713534194,0.9459588713534194,0.9459588713534194,0.9459588713534194,0.9459588713534194,0.9459588713534194,0.9459588713534194,0.9459588713534194,0.9459588713534194,0.9459588713534194,0.9459588713534194,0.9459588713534194,0.9459588713534194,0.9459588713534194,0.9459588713534194,0.9459588713534194,0.9459588713534194,0.9459588713534194,0.9459588713534194,0.9459588713534194,0.9459588713534194,0.9459588713534194,0.9459588713534194,0.9459588713534194,0.9459588713534194,0.9459588713534194,0.9459588713534194,0.9459588713534194,0.9459588713534194,0.9459588713534194,0.9459588713534194,0.9459588713534194,0.9459588713534194,0.9459588713534194,0.9459588713534194,0.9459588713534194,0.9459588713534194,0.9459588713534194,0.9459588713534194,0.9459588713534194,0.9459588713534194,0.9459588713534194,0.9459588713534194,0.9459588713534194,0.9459588713534194,0.9459588713534194,0.9459588713534194,0.9459588713534194,0.9459588713534194,0.9459588713534194,0.9459588713534194,0.9459588713534194,0.9459588713534194,0.9459588713534194,0.9459588713534194,0.9459588713534194,0.9459588713534194,0.9459588713534194,0.9459588713534194,0.9459588713534194,0.9459588713534194,0.9459588713534194,0.9459588713534194,0.9459588713534194,0.9459588713534194,0.9459588713534194,0.9459588713534194,0.9459588713534194,0.9459588713534194,0.9459588713534194,0.9459588713534194,0.9459588713534194,0.9459588713534194,0.9459588713534194,0.9459588713534194,0.9459588713534194,0.9459588713534194,0.9459588713534194,0.9459588713534194,0.9459588713534194,0.9459588713534194,0.9459588713534194,0.9459588713534194,0.9459588713534194,0.9459588713534194,0.9459588713534194,0.9459588713534194,0.9459588713534194,0.9459588713534194,0.9459588713534194,0.9459588713534194,0.9459588713534194,0.9459588713534194,0.9459588713534194,0.9459588713534194,0.9459588713534194,0.9459588713534194,0.9459588713534194,0.9459588713534194,0.9459588713534194,0.9459588713534194,0.9459588713534194,0.9459588713534194,0.9459588713534194,0.9459588713534194,0.9459588713534194,0.9459588713534194,0.9459588713534194,0.9459588713534194,0.9459588713534194,0.9459588713534194,0.9459588713534194,0.9459588713534194,0.9459588713534194,0.9459588713534194,0.9459588713534194,0.9459588713534194,0.9459588713534194,0.9459588713534194,0.9459588713534194,0.9459588713534194,0.9459588713534194,0.9459588713534194,0.9459588713534194,0.9459588713534194,0.9459588713534194,0.9459588713534194,0.9459588713534194,0.9459588713534194,0.9459588713534194,0.9459588713534194,0.9459588713534194,0.9459588713534194,0.9459588713534194,0.9459588713534194,0.9459588713534194,0.9459588713534194,0.9459588713534194,0.9459588713534194,0.9459588713534194,0.9459588713534194,0.9459588713534194,0.9459588713534194,0.9459588713534194,0.9459588713534194,0.9459588713534194,0.9459588713534194,0.9459588713534194,0.9459588713534194,0.9459588713534194,0.9459588713534194,0.9459588713534194,0.9459588713534194,0.9459588713534194,0.9459588713534194,0.9459588713534194,0.9459588713534194,0.9459588713534194,0.9459588713534194,0.9459588713534194,0.9459588713534194,0.9459588713534194,0.9459588713534194,0.9459588713534194,0.9459588713534194,0.9459588713534194,0.9459588713534194,0.9459588713534194,0.9459588713534194,0.9459588713534194,0.9459588713534194,0.9459588713534194,0.9459588713534194,0.9459588713534194,0.9459588713534194,0.9459588713534194,0.9459588713534194,0.9459588713534194,0.9459588713534194,0.9459588713534194,0.9459588713534194,0.9459588713534194,0.9459588713534194,0.9459588713534194,0.9459588713534194,0.9459588713534194,0.9459588713534194,0.9459588713534194,0.9459588713534194,0.9459588713534194,0.9459588713534194,0.9459588713534194,0.9459588713534194,0.9459588713534194,0.9459588713534194,0.9459588713534194,0.9459588713534194,0.9459588713534194,0.9459588713534194,0.9459588713534194,0.9459588713534194,0.9459588713534194,0.9459588713534194,0.9459588713534194,0.9459588713534194,0.9459588713534194,0.9459588713534194,0.9459588713534194,0.9459588713534194,0.9459588713534194,0.9459588713534194,0.9459588713534194,0.9459588713534194,0.9459588713534194,0.9459588713534194,0.9459588713534194,0.9459588713534194,0.9459588713534194,0.9459588713534194,0.9459588713534194,0.9459588713534194,0.9459588713534194,0.9459588713534194,0.9459588713534194,0.9459588713534194,0.9459588713534194,0.9459588713534194,0.9459588713534194,0.9459588713534194,0.9459588713534194,0.9459588713534194,0.9459588713534194,0.9459588713534194,0.9459588713534194,0.9459588713534194,0.9459588713534194,0.9459588713534194,0.9459588713534194,0.9459588713534194,0.9459588713534194,0.9459588713534194,0.9459588713534194,0.9459588713534194,0.9459588713534194,0.9459588713534194,0.9459588713534194,0.9459588713534194,0.9459588713534194,0.9459588713534194,0.9459588713534194,0.9459588713534194,0.9459588713534194,0.9459588713534194,0.9459588713534194,0.9459588713534194,0.9459588713534194,0.9459588713534194,0.9459588713534194,0.9459588713534194,0.9459588713534194,0.9459588713534194,0.9459588713534194,0.9459588713534194,0.9459588713534194,0.9459588713534194],\"type\":\"scatter\"}],                        {\"template\":{\"data\":{\"histogram2dcontour\":[{\"type\":\"histogram2dcontour\",\"colorbar\":{\"outlinewidth\":0,\"ticks\":\"\"},\"colorscale\":[[0.0,\"#0d0887\"],[0.1111111111111111,\"#46039f\"],[0.2222222222222222,\"#7201a8\"],[0.3333333333333333,\"#9c179e\"],[0.4444444444444444,\"#bd3786\"],[0.5555555555555556,\"#d8576b\"],[0.6666666666666666,\"#ed7953\"],[0.7777777777777778,\"#fb9f3a\"],[0.8888888888888888,\"#fdca26\"],[1.0,\"#f0f921\"]]}],\"choropleth\":[{\"type\":\"choropleth\",\"colorbar\":{\"outlinewidth\":0,\"ticks\":\"\"}}],\"histogram2d\":[{\"type\":\"histogram2d\",\"colorbar\":{\"outlinewidth\":0,\"ticks\":\"\"},\"colorscale\":[[0.0,\"#0d0887\"],[0.1111111111111111,\"#46039f\"],[0.2222222222222222,\"#7201a8\"],[0.3333333333333333,\"#9c179e\"],[0.4444444444444444,\"#bd3786\"],[0.5555555555555556,\"#d8576b\"],[0.6666666666666666,\"#ed7953\"],[0.7777777777777778,\"#fb9f3a\"],[0.8888888888888888,\"#fdca26\"],[1.0,\"#f0f921\"]]}],\"heatmap\":[{\"type\":\"heatmap\",\"colorbar\":{\"outlinewidth\":0,\"ticks\":\"\"},\"colorscale\":[[0.0,\"#0d0887\"],[0.1111111111111111,\"#46039f\"],[0.2222222222222222,\"#7201a8\"],[0.3333333333333333,\"#9c179e\"],[0.4444444444444444,\"#bd3786\"],[0.5555555555555556,\"#d8576b\"],[0.6666666666666666,\"#ed7953\"],[0.7777777777777778,\"#fb9f3a\"],[0.8888888888888888,\"#fdca26\"],[1.0,\"#f0f921\"]]}],\"heatmapgl\":[{\"type\":\"heatmapgl\",\"colorbar\":{\"outlinewidth\":0,\"ticks\":\"\"},\"colorscale\":[[0.0,\"#0d0887\"],[0.1111111111111111,\"#46039f\"],[0.2222222222222222,\"#7201a8\"],[0.3333333333333333,\"#9c179e\"],[0.4444444444444444,\"#bd3786\"],[0.5555555555555556,\"#d8576b\"],[0.6666666666666666,\"#ed7953\"],[0.7777777777777778,\"#fb9f3a\"],[0.8888888888888888,\"#fdca26\"],[1.0,\"#f0f921\"]]}],\"contourcarpet\":[{\"type\":\"contourcarpet\",\"colorbar\":{\"outlinewidth\":0,\"ticks\":\"\"}}],\"contour\":[{\"type\":\"contour\",\"colorbar\":{\"outlinewidth\":0,\"ticks\":\"\"},\"colorscale\":[[0.0,\"#0d0887\"],[0.1111111111111111,\"#46039f\"],[0.2222222222222222,\"#7201a8\"],[0.3333333333333333,\"#9c179e\"],[0.4444444444444444,\"#bd3786\"],[0.5555555555555556,\"#d8576b\"],[0.6666666666666666,\"#ed7953\"],[0.7777777777777778,\"#fb9f3a\"],[0.8888888888888888,\"#fdca26\"],[1.0,\"#f0f921\"]]}],\"surface\":[{\"type\":\"surface\",\"colorbar\":{\"outlinewidth\":0,\"ticks\":\"\"},\"colorscale\":[[0.0,\"#0d0887\"],[0.1111111111111111,\"#46039f\"],[0.2222222222222222,\"#7201a8\"],[0.3333333333333333,\"#9c179e\"],[0.4444444444444444,\"#bd3786\"],[0.5555555555555556,\"#d8576b\"],[0.6666666666666666,\"#ed7953\"],[0.7777777777777778,\"#fb9f3a\"],[0.8888888888888888,\"#fdca26\"],[1.0,\"#f0f921\"]]}],\"mesh3d\":[{\"type\":\"mesh3d\",\"colorbar\":{\"outlinewidth\":0,\"ticks\":\"\"}}],\"scatter\":[{\"marker\":{\"line\":{\"color\":\"#283442\"}},\"type\":\"scatter\"}],\"parcoords\":[{\"type\":\"parcoords\",\"line\":{\"colorbar\":{\"outlinewidth\":0,\"ticks\":\"\"}}}],\"scatterpolargl\":[{\"type\":\"scatterpolargl\",\"marker\":{\"colorbar\":{\"outlinewidth\":0,\"ticks\":\"\"}}}],\"bar\":[{\"error_x\":{\"color\":\"#f2f5fa\"},\"error_y\":{\"color\":\"#f2f5fa\"},\"marker\":{\"line\":{\"color\":\"rgb(17,17,17)\",\"width\":0.5},\"pattern\":{\"fillmode\":\"overlay\",\"size\":10,\"solidity\":0.2}},\"type\":\"bar\"}],\"scattergeo\":[{\"type\":\"scattergeo\",\"marker\":{\"colorbar\":{\"outlinewidth\":0,\"ticks\":\"\"}}}],\"scatterpolar\":[{\"type\":\"scatterpolar\",\"marker\":{\"colorbar\":{\"outlinewidth\":0,\"ticks\":\"\"}}}],\"histogram\":[{\"marker\":{\"pattern\":{\"fillmode\":\"overlay\",\"size\":10,\"solidity\":0.2}},\"type\":\"histogram\"}],\"scattergl\":[{\"marker\":{\"line\":{\"color\":\"#283442\"}},\"type\":\"scattergl\"}],\"scatter3d\":[{\"type\":\"scatter3d\",\"line\":{\"colorbar\":{\"outlinewidth\":0,\"ticks\":\"\"}},\"marker\":{\"colorbar\":{\"outlinewidth\":0,\"ticks\":\"\"}}}],\"scattermapbox\":[{\"type\":\"scattermapbox\",\"marker\":{\"colorbar\":{\"outlinewidth\":0,\"ticks\":\"\"}}}],\"scatterternary\":[{\"type\":\"scatterternary\",\"marker\":{\"colorbar\":{\"outlinewidth\":0,\"ticks\":\"\"}}}],\"scattercarpet\":[{\"type\":\"scattercarpet\",\"marker\":{\"colorbar\":{\"outlinewidth\":0,\"ticks\":\"\"}}}],\"carpet\":[{\"aaxis\":{\"endlinecolor\":\"#A2B1C6\",\"gridcolor\":\"#506784\",\"linecolor\":\"#506784\",\"minorgridcolor\":\"#506784\",\"startlinecolor\":\"#A2B1C6\"},\"baxis\":{\"endlinecolor\":\"#A2B1C6\",\"gridcolor\":\"#506784\",\"linecolor\":\"#506784\",\"minorgridcolor\":\"#506784\",\"startlinecolor\":\"#A2B1C6\"},\"type\":\"carpet\"}],\"table\":[{\"cells\":{\"fill\":{\"color\":\"#506784\"},\"line\":{\"color\":\"rgb(17,17,17)\"}},\"header\":{\"fill\":{\"color\":\"#2a3f5f\"},\"line\":{\"color\":\"rgb(17,17,17)\"}},\"type\":\"table\"}],\"barpolar\":[{\"marker\":{\"line\":{\"color\":\"rgb(17,17,17)\",\"width\":0.5},\"pattern\":{\"fillmode\":\"overlay\",\"size\":10,\"solidity\":0.2}},\"type\":\"barpolar\"}],\"pie\":[{\"automargin\":true,\"type\":\"pie\"}]},\"layout\":{\"autotypenumbers\":\"strict\",\"colorway\":[\"#636efa\",\"#EF553B\",\"#00cc96\",\"#ab63fa\",\"#FFA15A\",\"#19d3f3\",\"#FF6692\",\"#B6E880\",\"#FF97FF\",\"#FECB52\"],\"font\":{\"color\":\"#f2f5fa\"},\"hovermode\":\"closest\",\"hoverlabel\":{\"align\":\"left\"},\"paper_bgcolor\":\"rgb(17,17,17)\",\"plot_bgcolor\":\"rgb(17,17,17)\",\"polar\":{\"bgcolor\":\"rgb(17,17,17)\",\"angularaxis\":{\"gridcolor\":\"#506784\",\"linecolor\":\"#506784\",\"ticks\":\"\"},\"radialaxis\":{\"gridcolor\":\"#506784\",\"linecolor\":\"#506784\",\"ticks\":\"\"}},\"ternary\":{\"bgcolor\":\"rgb(17,17,17)\",\"aaxis\":{\"gridcolor\":\"#506784\",\"linecolor\":\"#506784\",\"ticks\":\"\"},\"baxis\":{\"gridcolor\":\"#506784\",\"linecolor\":\"#506784\",\"ticks\":\"\"},\"caxis\":{\"gridcolor\":\"#506784\",\"linecolor\":\"#506784\",\"ticks\":\"\"}},\"coloraxis\":{\"colorbar\":{\"outlinewidth\":0,\"ticks\":\"\"}},\"colorscale\":{\"sequential\":[[0.0,\"#0d0887\"],[0.1111111111111111,\"#46039f\"],[0.2222222222222222,\"#7201a8\"],[0.3333333333333333,\"#9c179e\"],[0.4444444444444444,\"#bd3786\"],[0.5555555555555556,\"#d8576b\"],[0.6666666666666666,\"#ed7953\"],[0.7777777777777778,\"#fb9f3a\"],[0.8888888888888888,\"#fdca26\"],[1.0,\"#f0f921\"]],\"sequentialminus\":[[0.0,\"#0d0887\"],[0.1111111111111111,\"#46039f\"],[0.2222222222222222,\"#7201a8\"],[0.3333333333333333,\"#9c179e\"],[0.4444444444444444,\"#bd3786\"],[0.5555555555555556,\"#d8576b\"],[0.6666666666666666,\"#ed7953\"],[0.7777777777777778,\"#fb9f3a\"],[0.8888888888888888,\"#fdca26\"],[1.0,\"#f0f921\"]],\"diverging\":[[0,\"#8e0152\"],[0.1,\"#c51b7d\"],[0.2,\"#de77ae\"],[0.3,\"#f1b6da\"],[0.4,\"#fde0ef\"],[0.5,\"#f7f7f7\"],[0.6,\"#e6f5d0\"],[0.7,\"#b8e186\"],[0.8,\"#7fbc41\"],[0.9,\"#4d9221\"],[1,\"#276419\"]]},\"xaxis\":{\"gridcolor\":\"#283442\",\"linecolor\":\"#506784\",\"ticks\":\"\",\"title\":{\"standoff\":15},\"zerolinecolor\":\"#283442\",\"automargin\":true,\"zerolinewidth\":2},\"yaxis\":{\"gridcolor\":\"#283442\",\"linecolor\":\"#506784\",\"ticks\":\"\",\"title\":{\"standoff\":15},\"zerolinecolor\":\"#283442\",\"automargin\":true,\"zerolinewidth\":2},\"scene\":{\"xaxis\":{\"backgroundcolor\":\"rgb(17,17,17)\",\"gridcolor\":\"#506784\",\"linecolor\":\"#506784\",\"showbackground\":true,\"ticks\":\"\",\"zerolinecolor\":\"#C8D4E3\",\"gridwidth\":2},\"yaxis\":{\"backgroundcolor\":\"rgb(17,17,17)\",\"gridcolor\":\"#506784\",\"linecolor\":\"#506784\",\"showbackground\":true,\"ticks\":\"\",\"zerolinecolor\":\"#C8D4E3\",\"gridwidth\":2},\"zaxis\":{\"backgroundcolor\":\"rgb(17,17,17)\",\"gridcolor\":\"#506784\",\"linecolor\":\"#506784\",\"showbackground\":true,\"ticks\":\"\",\"zerolinecolor\":\"#C8D4E3\",\"gridwidth\":2}},\"shapedefaults\":{\"line\":{\"color\":\"#f2f5fa\"}},\"annotationdefaults\":{\"arrowcolor\":\"#f2f5fa\",\"arrowhead\":0,\"arrowwidth\":1},\"geo\":{\"bgcolor\":\"rgb(17,17,17)\",\"landcolor\":\"rgb(17,17,17)\",\"subunitcolor\":\"#506784\",\"showland\":true,\"showlakes\":true,\"lakecolor\":\"rgb(17,17,17)\"},\"title\":{\"x\":0.05},\"updatemenudefaults\":{\"bgcolor\":\"#506784\",\"borderwidth\":0},\"sliderdefaults\":{\"bgcolor\":\"#C8D4E3\",\"borderwidth\":1,\"bordercolor\":\"rgb(17,17,17)\",\"tickwidth\":0},\"mapbox\":{\"style\":\"dark\"}}},\"title\":{\"text\":\"How the result score depends on max_features for TFIDFVectorizer with STOPWORDs\"},\"xaxis\":{\"title\":{\"text\":\"max_features\"}},\"yaxis\":{\"title\":{\"text\":\"Score\"}}},                        {\"responsive\": true}                    ).then(function(){\n                            \nvar gd = document.getElementById('6d05f04d-008a-4d6a-8c51-63b5d782b835');\nvar x = new MutationObserver(function (mutations, observer) {{\n        var display = window.getComputedStyle(gd).display;\n        if (!display || display === 'none') {{\n            console.log([gd, 'removed!']);\n            Plotly.purge(gd);\n            observer.disconnect();\n        }}\n}});\n\n// Listen for the removal of the full notebook cells\nvar notebookContainer = gd.closest('#notebook-container');\nif (notebookContainer) {{\n    x.observe(notebookContainer, {childList: true});\n}}\n\n// Listen for the clearing of the current output cell\nvar outputEl = gd.closest('.output');\nif (outputEl) {{\n    x.observe(outputEl, {childList: true});\n}}\n\n                        })                };                });            </script>        </div>"
     },
     "metadata": {},
     "output_type": "display_data"
    }
   ],
   "source": [
    "fig = go.Figure()\n",
    "fig.add_trace(go.Scatter(x=list(range(min_value,max_value, step_value)), y=score_test_lst2,\n",
    "                    mode='lines',\n",
    "                    name='Test score stopwords'))\n",
    "fig.add_trace(go.Scatter(x=list(range(min_value,max_value, step_value)), y=score_train_lst2,\n",
    "                    mode='lines+markers',\n",
    "                    name='Train score stopwords'))\n",
    "fig.add_trace(go.Scatter(x=list(range(min_value,max_value, step_value)), y=[base_line]*(max_value-min_value),\n",
    "                    mode='lines+markers',\n",
    "                    name='Baseline score'))\n",
    "\n",
    "fig.update_layout(title='How the result score depends on max_features for TFIDFVectorizer with STOPWORDs',\n",
    "                   xaxis_title='max_features',\n",
    "                   yaxis_title='Score')\n",
    "fig.show()"
   ],
   "metadata": {
    "collapsed": false,
    "ExecuteTime": {
     "end_time": "2024-03-04T19:24:16.421392Z",
     "start_time": "2024-03-04T19:24:16.311498Z"
    }
   },
   "id": "7e690faa4a536a31",
   "execution_count": 25
  },
  {
   "cell_type": "code",
   "outputs": [
    {
     "data": {
      "application/vnd.plotly.v1+json": {
       "data": [
        {
         "mode": "lines",
         "name": "Test score without stopwords function",
         "x": [
          1700,
          1750,
          1800,
          1850,
          1900,
          1950,
          2000,
          2050,
          2100,
          2150,
          2200,
          2250,
          2300,
          2350,
          2400,
          2450,
          2500,
          2550,
          2600,
          2650,
          2700,
          2750,
          2800,
          2850
         ],
         "y": [
          0.9076996652319465,
          0.9091343854615017,
          0.9096126255380201,
          0.9143950263032042,
          0.9120038259206121,
          0.9172644667623147,
          0.9172644667623147,
          0.9196556671449068,
          0.9215686274509803,
          0.9215686274509803,
          0.9220468675274988,
          0.921090387374462,
          0.921090387374462,
          0.921090387374462,
          0.9215686274509803,
          0.9191774270683883,
          0.921090387374462,
          0.9225251076040172,
          0.9196556671449068,
          0.9196556671449068,
          0.9191774270683883,
          0.9206121472979436,
          0.9215686274509803,
          0.9206121472979436
         ],
         "type": "scatter"
        },
        {
         "mode": "lines+markers",
         "name": "Test score with stopwords function",
         "x": [
          1700,
          1750,
          1800,
          1850,
          1900,
          1950,
          2000,
          2050,
          2100,
          2150,
          2200,
          2250,
          2300,
          2350,
          2400,
          2450,
          2500,
          2550,
          2600,
          2650,
          2700,
          2750,
          2800,
          2850
         ],
         "y": [
          0.8971783835485414,
          0.8971783835485414,
          0.9005260640841702,
          0.9005260640841702,
          0.9029172644667623,
          0.9024390243902439,
          0.9033955045432808,
          0.9086561453849833,
          0.9062649450023912,
          0.9062649450023912,
          0.9053084648493543,
          0.907221425155428,
          0.9124820659971306,
          0.9115255858440937,
          0.912960306073649,
          0.9110473457675753,
          0.9096126255380201,
          0.9124820659971306,
          0.9110473457675753,
          0.9143950263032042,
          0.9153515064562411,
          0.9139167862266858,
          0.9120038259206121,
          0.9134385461501674
         ],
         "type": "scatter"
        },
        {
         "mode": "lines+markers",
         "name": "Baseline score shape=(4244, 57454)",
         "x": [
          1700,
          1750,
          1800,
          1850,
          1900,
          1950,
          2000,
          2050,
          2100,
          2150,
          2200,
          2250,
          2300,
          2350,
          2400,
          2450,
          2500,
          2550,
          2600,
          2650,
          2700,
          2750,
          2800,
          2850
         ],
         "y": [
          0.9459588713534194,
          0.9459588713534194,
          0.9459588713534194,
          0.9459588713534194,
          0.9459588713534194,
          0.9459588713534194,
          0.9459588713534194,
          0.9459588713534194,
          0.9459588713534194,
          0.9459588713534194,
          0.9459588713534194,
          0.9459588713534194,
          0.9459588713534194,
          0.9459588713534194,
          0.9459588713534194,
          0.9459588713534194,
          0.9459588713534194,
          0.9459588713534194,
          0.9459588713534194,
          0.9459588713534194,
          0.9459588713534194,
          0.9459588713534194,
          0.9459588713534194,
          0.9459588713534194,
          0.9459588713534194,
          0.9459588713534194,
          0.9459588713534194,
          0.9459588713534194,
          0.9459588713534194,
          0.9459588713534194,
          0.9459588713534194,
          0.9459588713534194,
          0.9459588713534194,
          0.9459588713534194,
          0.9459588713534194,
          0.9459588713534194,
          0.9459588713534194,
          0.9459588713534194,
          0.9459588713534194,
          0.9459588713534194,
          0.9459588713534194,
          0.9459588713534194,
          0.9459588713534194,
          0.9459588713534194,
          0.9459588713534194,
          0.9459588713534194,
          0.9459588713534194,
          0.9459588713534194,
          0.9459588713534194,
          0.9459588713534194,
          0.9459588713534194,
          0.9459588713534194,
          0.9459588713534194,
          0.9459588713534194,
          0.9459588713534194,
          0.9459588713534194,
          0.9459588713534194,
          0.9459588713534194,
          0.9459588713534194,
          0.9459588713534194,
          0.9459588713534194,
          0.9459588713534194,
          0.9459588713534194,
          0.9459588713534194,
          0.9459588713534194,
          0.9459588713534194,
          0.9459588713534194,
          0.9459588713534194,
          0.9459588713534194,
          0.9459588713534194,
          0.9459588713534194,
          0.9459588713534194,
          0.9459588713534194,
          0.9459588713534194,
          0.9459588713534194,
          0.9459588713534194,
          0.9459588713534194,
          0.9459588713534194,
          0.9459588713534194,
          0.9459588713534194,
          0.9459588713534194,
          0.9459588713534194,
          0.9459588713534194,
          0.9459588713534194,
          0.9459588713534194,
          0.9459588713534194,
          0.9459588713534194,
          0.9459588713534194,
          0.9459588713534194,
          0.9459588713534194,
          0.9459588713534194,
          0.9459588713534194,
          0.9459588713534194,
          0.9459588713534194,
          0.9459588713534194,
          0.9459588713534194,
          0.9459588713534194,
          0.9459588713534194,
          0.9459588713534194,
          0.9459588713534194,
          0.9459588713534194,
          0.9459588713534194,
          0.9459588713534194,
          0.9459588713534194,
          0.9459588713534194,
          0.9459588713534194,
          0.9459588713534194,
          0.9459588713534194,
          0.9459588713534194,
          0.9459588713534194,
          0.9459588713534194,
          0.9459588713534194,
          0.9459588713534194,
          0.9459588713534194,
          0.9459588713534194,
          0.9459588713534194,
          0.9459588713534194,
          0.9459588713534194,
          0.9459588713534194,
          0.9459588713534194,
          0.9459588713534194,
          0.9459588713534194,
          0.9459588713534194,
          0.9459588713534194,
          0.9459588713534194,
          0.9459588713534194,
          0.9459588713534194,
          0.9459588713534194,
          0.9459588713534194,
          0.9459588713534194,
          0.9459588713534194,
          0.9459588713534194,
          0.9459588713534194,
          0.9459588713534194,
          0.9459588713534194,
          0.9459588713534194,
          0.9459588713534194,
          0.9459588713534194,
          0.9459588713534194,
          0.9459588713534194,
          0.9459588713534194,
          0.9459588713534194,
          0.9459588713534194,
          0.9459588713534194,
          0.9459588713534194,
          0.9459588713534194,
          0.9459588713534194,
          0.9459588713534194,
          0.9459588713534194,
          0.9459588713534194,
          0.9459588713534194,
          0.9459588713534194,
          0.9459588713534194,
          0.9459588713534194,
          0.9459588713534194,
          0.9459588713534194,
          0.9459588713534194,
          0.9459588713534194,
          0.9459588713534194,
          0.9459588713534194,
          0.9459588713534194,
          0.9459588713534194,
          0.9459588713534194,
          0.9459588713534194,
          0.9459588713534194,
          0.9459588713534194,
          0.9459588713534194,
          0.9459588713534194,
          0.9459588713534194,
          0.9459588713534194,
          0.9459588713534194,
          0.9459588713534194,
          0.9459588713534194,
          0.9459588713534194,
          0.9459588713534194,
          0.9459588713534194,
          0.9459588713534194,
          0.9459588713534194,
          0.9459588713534194,
          0.9459588713534194,
          0.9459588713534194,
          0.9459588713534194,
          0.9459588713534194,
          0.9459588713534194,
          0.9459588713534194,
          0.9459588713534194,
          0.9459588713534194,
          0.9459588713534194,
          0.9459588713534194,
          0.9459588713534194,
          0.9459588713534194,
          0.9459588713534194,
          0.9459588713534194,
          0.9459588713534194,
          0.9459588713534194,
          0.9459588713534194,
          0.9459588713534194,
          0.9459588713534194,
          0.9459588713534194,
          0.9459588713534194,
          0.9459588713534194,
          0.9459588713534194,
          0.9459588713534194,
          0.9459588713534194,
          0.9459588713534194,
          0.9459588713534194,
          0.9459588713534194,
          0.9459588713534194,
          0.9459588713534194,
          0.9459588713534194,
          0.9459588713534194,
          0.9459588713534194,
          0.9459588713534194,
          0.9459588713534194,
          0.9459588713534194,
          0.9459588713534194,
          0.9459588713534194,
          0.9459588713534194,
          0.9459588713534194,
          0.9459588713534194,
          0.9459588713534194,
          0.9459588713534194,
          0.9459588713534194,
          0.9459588713534194,
          0.9459588713534194,
          0.9459588713534194,
          0.9459588713534194,
          0.9459588713534194,
          0.9459588713534194,
          0.9459588713534194,
          0.9459588713534194,
          0.9459588713534194,
          0.9459588713534194,
          0.9459588713534194,
          0.9459588713534194,
          0.9459588713534194,
          0.9459588713534194,
          0.9459588713534194,
          0.9459588713534194,
          0.9459588713534194,
          0.9459588713534194,
          0.9459588713534194,
          0.9459588713534194,
          0.9459588713534194,
          0.9459588713534194,
          0.9459588713534194,
          0.9459588713534194,
          0.9459588713534194,
          0.9459588713534194,
          0.9459588713534194,
          0.9459588713534194,
          0.9459588713534194,
          0.9459588713534194,
          0.9459588713534194,
          0.9459588713534194,
          0.9459588713534194,
          0.9459588713534194,
          0.9459588713534194,
          0.9459588713534194,
          0.9459588713534194,
          0.9459588713534194,
          0.9459588713534194,
          0.9459588713534194,
          0.9459588713534194,
          0.9459588713534194,
          0.9459588713534194,
          0.9459588713534194,
          0.9459588713534194,
          0.9459588713534194,
          0.9459588713534194,
          0.9459588713534194,
          0.9459588713534194,
          0.9459588713534194,
          0.9459588713534194,
          0.9459588713534194,
          0.9459588713534194,
          0.9459588713534194,
          0.9459588713534194,
          0.9459588713534194,
          0.9459588713534194,
          0.9459588713534194,
          0.9459588713534194,
          0.9459588713534194,
          0.9459588713534194,
          0.9459588713534194,
          0.9459588713534194,
          0.9459588713534194,
          0.9459588713534194,
          0.9459588713534194,
          0.9459588713534194,
          0.9459588713534194,
          0.9459588713534194,
          0.9459588713534194,
          0.9459588713534194,
          0.9459588713534194,
          0.9459588713534194,
          0.9459588713534194,
          0.9459588713534194,
          0.9459588713534194,
          0.9459588713534194,
          0.9459588713534194,
          0.9459588713534194,
          0.9459588713534194,
          0.9459588713534194,
          0.9459588713534194,
          0.9459588713534194,
          0.9459588713534194,
          0.9459588713534194,
          0.9459588713534194,
          0.9459588713534194,
          0.9459588713534194,
          0.9459588713534194,
          0.9459588713534194,
          0.9459588713534194,
          0.9459588713534194,
          0.9459588713534194,
          0.9459588713534194,
          0.9459588713534194,
          0.9459588713534194,
          0.9459588713534194,
          0.9459588713534194,
          0.9459588713534194,
          0.9459588713534194,
          0.9459588713534194,
          0.9459588713534194,
          0.9459588713534194,
          0.9459588713534194,
          0.9459588713534194,
          0.9459588713534194,
          0.9459588713534194,
          0.9459588713534194,
          0.9459588713534194,
          0.9459588713534194,
          0.9459588713534194,
          0.9459588713534194,
          0.9459588713534194,
          0.9459588713534194,
          0.9459588713534194,
          0.9459588713534194,
          0.9459588713534194,
          0.9459588713534194,
          0.9459588713534194,
          0.9459588713534194,
          0.9459588713534194,
          0.9459588713534194,
          0.9459588713534194,
          0.9459588713534194,
          0.9459588713534194,
          0.9459588713534194,
          0.9459588713534194,
          0.9459588713534194,
          0.9459588713534194,
          0.9459588713534194,
          0.9459588713534194,
          0.9459588713534194,
          0.9459588713534194,
          0.9459588713534194,
          0.9459588713534194,
          0.9459588713534194,
          0.9459588713534194,
          0.9459588713534194,
          0.9459588713534194,
          0.9459588713534194,
          0.9459588713534194,
          0.9459588713534194,
          0.9459588713534194,
          0.9459588713534194,
          0.9459588713534194,
          0.9459588713534194,
          0.9459588713534194,
          0.9459588713534194,
          0.9459588713534194,
          0.9459588713534194,
          0.9459588713534194,
          0.9459588713534194,
          0.9459588713534194,
          0.9459588713534194,
          0.9459588713534194,
          0.9459588713534194,
          0.9459588713534194,
          0.9459588713534194,
          0.9459588713534194,
          0.9459588713534194,
          0.9459588713534194,
          0.9459588713534194,
          0.9459588713534194,
          0.9459588713534194,
          0.9459588713534194,
          0.9459588713534194,
          0.9459588713534194,
          0.9459588713534194,
          0.9459588713534194,
          0.9459588713534194,
          0.9459588713534194,
          0.9459588713534194,
          0.9459588713534194,
          0.9459588713534194,
          0.9459588713534194,
          0.9459588713534194,
          0.9459588713534194,
          0.9459588713534194,
          0.9459588713534194,
          0.9459588713534194,
          0.9459588713534194,
          0.9459588713534194,
          0.9459588713534194,
          0.9459588713534194,
          0.9459588713534194,
          0.9459588713534194,
          0.9459588713534194,
          0.9459588713534194,
          0.9459588713534194,
          0.9459588713534194,
          0.9459588713534194,
          0.9459588713534194,
          0.9459588713534194,
          0.9459588713534194,
          0.9459588713534194,
          0.9459588713534194,
          0.9459588713534194,
          0.9459588713534194,
          0.9459588713534194,
          0.9459588713534194,
          0.9459588713534194,
          0.9459588713534194,
          0.9459588713534194,
          0.9459588713534194,
          0.9459588713534194,
          0.9459588713534194,
          0.9459588713534194,
          0.9459588713534194,
          0.9459588713534194,
          0.9459588713534194,
          0.9459588713534194,
          0.9459588713534194,
          0.9459588713534194,
          0.9459588713534194,
          0.9459588713534194,
          0.9459588713534194,
          0.9459588713534194,
          0.9459588713534194,
          0.9459588713534194,
          0.9459588713534194,
          0.9459588713534194,
          0.9459588713534194,
          0.9459588713534194,
          0.9459588713534194,
          0.9459588713534194,
          0.9459588713534194,
          0.9459588713534194,
          0.9459588713534194,
          0.9459588713534194,
          0.9459588713534194,
          0.9459588713534194,
          0.9459588713534194,
          0.9459588713534194,
          0.9459588713534194,
          0.9459588713534194,
          0.9459588713534194,
          0.9459588713534194,
          0.9459588713534194,
          0.9459588713534194,
          0.9459588713534194,
          0.9459588713534194,
          0.9459588713534194,
          0.9459588713534194,
          0.9459588713534194,
          0.9459588713534194,
          0.9459588713534194,
          0.9459588713534194,
          0.9459588713534194,
          0.9459588713534194,
          0.9459588713534194,
          0.9459588713534194,
          0.9459588713534194,
          0.9459588713534194,
          0.9459588713534194,
          0.9459588713534194,
          0.9459588713534194,
          0.9459588713534194,
          0.9459588713534194,
          0.9459588713534194,
          0.9459588713534194,
          0.9459588713534194,
          0.9459588713534194,
          0.9459588713534194,
          0.9459588713534194,
          0.9459588713534194,
          0.9459588713534194,
          0.9459588713534194,
          0.9459588713534194,
          0.9459588713534194,
          0.9459588713534194,
          0.9459588713534194,
          0.9459588713534194,
          0.9459588713534194,
          0.9459588713534194,
          0.9459588713534194,
          0.9459588713534194,
          0.9459588713534194,
          0.9459588713534194,
          0.9459588713534194,
          0.9459588713534194,
          0.9459588713534194,
          0.9459588713534194,
          0.9459588713534194,
          0.9459588713534194,
          0.9459588713534194,
          0.9459588713534194,
          0.9459588713534194,
          0.9459588713534194,
          0.9459588713534194,
          0.9459588713534194,
          0.9459588713534194,
          0.9459588713534194,
          0.9459588713534194,
          0.9459588713534194,
          0.9459588713534194,
          0.9459588713534194,
          0.9459588713534194,
          0.9459588713534194,
          0.9459588713534194,
          0.9459588713534194,
          0.9459588713534194,
          0.9459588713534194,
          0.9459588713534194,
          0.9459588713534194,
          0.9459588713534194,
          0.9459588713534194,
          0.9459588713534194,
          0.9459588713534194,
          0.9459588713534194,
          0.9459588713534194,
          0.9459588713534194,
          0.9459588713534194,
          0.9459588713534194,
          0.9459588713534194,
          0.9459588713534194,
          0.9459588713534194,
          0.9459588713534194,
          0.9459588713534194,
          0.9459588713534194,
          0.9459588713534194,
          0.9459588713534194,
          0.9459588713534194,
          0.9459588713534194,
          0.9459588713534194,
          0.9459588713534194,
          0.9459588713534194,
          0.9459588713534194,
          0.9459588713534194,
          0.9459588713534194,
          0.9459588713534194,
          0.9459588713534194,
          0.9459588713534194,
          0.9459588713534194,
          0.9459588713534194,
          0.9459588713534194,
          0.9459588713534194,
          0.9459588713534194,
          0.9459588713534194,
          0.9459588713534194,
          0.9459588713534194,
          0.9459588713534194,
          0.9459588713534194,
          0.9459588713534194,
          0.9459588713534194,
          0.9459588713534194,
          0.9459588713534194,
          0.9459588713534194,
          0.9459588713534194,
          0.9459588713534194,
          0.9459588713534194,
          0.9459588713534194,
          0.9459588713534194,
          0.9459588713534194,
          0.9459588713534194,
          0.9459588713534194,
          0.9459588713534194,
          0.9459588713534194,
          0.9459588713534194,
          0.9459588713534194,
          0.9459588713534194,
          0.9459588713534194,
          0.9459588713534194,
          0.9459588713534194,
          0.9459588713534194,
          0.9459588713534194,
          0.9459588713534194,
          0.9459588713534194,
          0.9459588713534194,
          0.9459588713534194,
          0.9459588713534194,
          0.9459588713534194,
          0.9459588713534194,
          0.9459588713534194,
          0.9459588713534194,
          0.9459588713534194,
          0.9459588713534194,
          0.9459588713534194,
          0.9459588713534194,
          0.9459588713534194,
          0.9459588713534194,
          0.9459588713534194,
          0.9459588713534194,
          0.9459588713534194,
          0.9459588713534194,
          0.9459588713534194,
          0.9459588713534194,
          0.9459588713534194,
          0.9459588713534194,
          0.9459588713534194,
          0.9459588713534194,
          0.9459588713534194,
          0.9459588713534194,
          0.9459588713534194,
          0.9459588713534194,
          0.9459588713534194,
          0.9459588713534194,
          0.9459588713534194,
          0.9459588713534194,
          0.9459588713534194,
          0.9459588713534194,
          0.9459588713534194,
          0.9459588713534194,
          0.9459588713534194,
          0.9459588713534194,
          0.9459588713534194,
          0.9459588713534194,
          0.9459588713534194,
          0.9459588713534194,
          0.9459588713534194,
          0.9459588713534194,
          0.9459588713534194,
          0.9459588713534194,
          0.9459588713534194,
          0.9459588713534194,
          0.9459588713534194,
          0.9459588713534194,
          0.9459588713534194,
          0.9459588713534194,
          0.9459588713534194,
          0.9459588713534194,
          0.9459588713534194,
          0.9459588713534194,
          0.9459588713534194,
          0.9459588713534194,
          0.9459588713534194,
          0.9459588713534194,
          0.9459588713534194,
          0.9459588713534194,
          0.9459588713534194,
          0.9459588713534194,
          0.9459588713534194,
          0.9459588713534194,
          0.9459588713534194,
          0.9459588713534194,
          0.9459588713534194,
          0.9459588713534194,
          0.9459588713534194,
          0.9459588713534194,
          0.9459588713534194,
          0.9459588713534194,
          0.9459588713534194,
          0.9459588713534194,
          0.9459588713534194,
          0.9459588713534194,
          0.9459588713534194,
          0.9459588713534194,
          0.9459588713534194,
          0.9459588713534194,
          0.9459588713534194,
          0.9459588713534194,
          0.9459588713534194,
          0.9459588713534194,
          0.9459588713534194,
          0.9459588713534194,
          0.9459588713534194,
          0.9459588713534194,
          0.9459588713534194,
          0.9459588713534194,
          0.9459588713534194,
          0.9459588713534194,
          0.9459588713534194,
          0.9459588713534194,
          0.9459588713534194,
          0.9459588713534194,
          0.9459588713534194,
          0.9459588713534194,
          0.9459588713534194,
          0.9459588713534194,
          0.9459588713534194,
          0.9459588713534194,
          0.9459588713534194,
          0.9459588713534194,
          0.9459588713534194,
          0.9459588713534194,
          0.9459588713534194,
          0.9459588713534194,
          0.9459588713534194,
          0.9459588713534194,
          0.9459588713534194,
          0.9459588713534194,
          0.9459588713534194,
          0.9459588713534194,
          0.9459588713534194,
          0.9459588713534194,
          0.9459588713534194,
          0.9459588713534194,
          0.9459588713534194,
          0.9459588713534194,
          0.9459588713534194,
          0.9459588713534194,
          0.9459588713534194,
          0.9459588713534194,
          0.9459588713534194,
          0.9459588713534194,
          0.9459588713534194,
          0.9459588713534194,
          0.9459588713534194,
          0.9459588713534194,
          0.9459588713534194,
          0.9459588713534194,
          0.9459588713534194,
          0.9459588713534194,
          0.9459588713534194,
          0.9459588713534194,
          0.9459588713534194,
          0.9459588713534194,
          0.9459588713534194,
          0.9459588713534194,
          0.9459588713534194,
          0.9459588713534194,
          0.9459588713534194,
          0.9459588713534194,
          0.9459588713534194,
          0.9459588713534194,
          0.9459588713534194,
          0.9459588713534194,
          0.9459588713534194,
          0.9459588713534194,
          0.9459588713534194,
          0.9459588713534194,
          0.9459588713534194,
          0.9459588713534194,
          0.9459588713534194,
          0.9459588713534194,
          0.9459588713534194,
          0.9459588713534194,
          0.9459588713534194,
          0.9459588713534194,
          0.9459588713534194,
          0.9459588713534194,
          0.9459588713534194,
          0.9459588713534194,
          0.9459588713534194,
          0.9459588713534194,
          0.9459588713534194,
          0.9459588713534194,
          0.9459588713534194,
          0.9459588713534194,
          0.9459588713534194,
          0.9459588713534194,
          0.9459588713534194,
          0.9459588713534194,
          0.9459588713534194,
          0.9459588713534194,
          0.9459588713534194,
          0.9459588713534194,
          0.9459588713534194,
          0.9459588713534194,
          0.9459588713534194,
          0.9459588713534194,
          0.9459588713534194,
          0.9459588713534194,
          0.9459588713534194,
          0.9459588713534194,
          0.9459588713534194,
          0.9459588713534194,
          0.9459588713534194,
          0.9459588713534194,
          0.9459588713534194,
          0.9459588713534194,
          0.9459588713534194,
          0.9459588713534194,
          0.9459588713534194,
          0.9459588713534194,
          0.9459588713534194,
          0.9459588713534194,
          0.9459588713534194,
          0.9459588713534194,
          0.9459588713534194,
          0.9459588713534194,
          0.9459588713534194,
          0.9459588713534194,
          0.9459588713534194,
          0.9459588713534194,
          0.9459588713534194,
          0.9459588713534194,
          0.9459588713534194,
          0.9459588713534194,
          0.9459588713534194,
          0.9459588713534194,
          0.9459588713534194,
          0.9459588713534194,
          0.9459588713534194,
          0.9459588713534194,
          0.9459588713534194,
          0.9459588713534194,
          0.9459588713534194,
          0.9459588713534194,
          0.9459588713534194,
          0.9459588713534194,
          0.9459588713534194,
          0.9459588713534194,
          0.9459588713534194,
          0.9459588713534194,
          0.9459588713534194,
          0.9459588713534194,
          0.9459588713534194,
          0.9459588713534194,
          0.9459588713534194,
          0.9459588713534194,
          0.9459588713534194,
          0.9459588713534194,
          0.9459588713534194,
          0.9459588713534194,
          0.9459588713534194,
          0.9459588713534194,
          0.9459588713534194,
          0.9459588713534194,
          0.9459588713534194,
          0.9459588713534194,
          0.9459588713534194,
          0.9459588713534194,
          0.9459588713534194,
          0.9459588713534194,
          0.9459588713534194,
          0.9459588713534194,
          0.9459588713534194,
          0.9459588713534194,
          0.9459588713534194,
          0.9459588713534194,
          0.9459588713534194,
          0.9459588713534194,
          0.9459588713534194,
          0.9459588713534194,
          0.9459588713534194,
          0.9459588713534194,
          0.9459588713534194,
          0.9459588713534194,
          0.9459588713534194,
          0.9459588713534194,
          0.9459588713534194,
          0.9459588713534194,
          0.9459588713534194,
          0.9459588713534194,
          0.9459588713534194,
          0.9459588713534194,
          0.9459588713534194,
          0.9459588713534194,
          0.9459588713534194,
          0.9459588713534194,
          0.9459588713534194,
          0.9459588713534194,
          0.9459588713534194,
          0.9459588713534194,
          0.9459588713534194,
          0.9459588713534194,
          0.9459588713534194,
          0.9459588713534194,
          0.9459588713534194,
          0.9459588713534194,
          0.9459588713534194,
          0.9459588713534194,
          0.9459588713534194,
          0.9459588713534194,
          0.9459588713534194,
          0.9459588713534194,
          0.9459588713534194,
          0.9459588713534194,
          0.9459588713534194,
          0.9459588713534194,
          0.9459588713534194,
          0.9459588713534194,
          0.9459588713534194,
          0.9459588713534194,
          0.9459588713534194,
          0.9459588713534194,
          0.9459588713534194,
          0.9459588713534194,
          0.9459588713534194,
          0.9459588713534194,
          0.9459588713534194,
          0.9459588713534194,
          0.9459588713534194,
          0.9459588713534194,
          0.9459588713534194,
          0.9459588713534194,
          0.9459588713534194,
          0.9459588713534194,
          0.9459588713534194,
          0.9459588713534194,
          0.9459588713534194,
          0.9459588713534194,
          0.9459588713534194,
          0.9459588713534194,
          0.9459588713534194,
          0.9459588713534194,
          0.9459588713534194,
          0.9459588713534194,
          0.9459588713534194,
          0.9459588713534194,
          0.9459588713534194,
          0.9459588713534194,
          0.9459588713534194,
          0.9459588713534194,
          0.9459588713534194,
          0.9459588713534194,
          0.9459588713534194,
          0.9459588713534194,
          0.9459588713534194,
          0.9459588713534194,
          0.9459588713534194,
          0.9459588713534194,
          0.9459588713534194,
          0.9459588713534194,
          0.9459588713534194,
          0.9459588713534194,
          0.9459588713534194,
          0.9459588713534194,
          0.9459588713534194,
          0.9459588713534194,
          0.9459588713534194,
          0.9459588713534194,
          0.9459588713534194,
          0.9459588713534194,
          0.9459588713534194,
          0.9459588713534194,
          0.9459588713534194,
          0.9459588713534194,
          0.9459588713534194,
          0.9459588713534194,
          0.9459588713534194,
          0.9459588713534194,
          0.9459588713534194,
          0.9459588713534194,
          0.9459588713534194,
          0.9459588713534194,
          0.9459588713534194,
          0.9459588713534194,
          0.9459588713534194,
          0.9459588713534194,
          0.9459588713534194,
          0.9459588713534194,
          0.9459588713534194,
          0.9459588713534194,
          0.9459588713534194,
          0.9459588713534194,
          0.9459588713534194,
          0.9459588713534194,
          0.9459588713534194,
          0.9459588713534194,
          0.9459588713534194,
          0.9459588713534194,
          0.9459588713534194,
          0.9459588713534194,
          0.9459588713534194,
          0.9459588713534194,
          0.9459588713534194,
          0.9459588713534194,
          0.9459588713534194,
          0.9459588713534194,
          0.9459588713534194,
          0.9459588713534194,
          0.9459588713534194,
          0.9459588713534194,
          0.9459588713534194,
          0.9459588713534194,
          0.9459588713534194,
          0.9459588713534194,
          0.9459588713534194,
          0.9459588713534194,
          0.9459588713534194,
          0.9459588713534194,
          0.9459588713534194,
          0.9459588713534194,
          0.9459588713534194,
          0.9459588713534194,
          0.9459588713534194,
          0.9459588713534194,
          0.9459588713534194,
          0.9459588713534194,
          0.9459588713534194,
          0.9459588713534194,
          0.9459588713534194,
          0.9459588713534194,
          0.9459588713534194,
          0.9459588713534194,
          0.9459588713534194,
          0.9459588713534194,
          0.9459588713534194,
          0.9459588713534194,
          0.9459588713534194,
          0.9459588713534194,
          0.9459588713534194,
          0.9459588713534194,
          0.9459588713534194,
          0.9459588713534194,
          0.9459588713534194,
          0.9459588713534194,
          0.9459588713534194,
          0.9459588713534194,
          0.9459588713534194,
          0.9459588713534194,
          0.9459588713534194,
          0.9459588713534194,
          0.9459588713534194,
          0.9459588713534194,
          0.9459588713534194,
          0.9459588713534194,
          0.9459588713534194,
          0.9459588713534194,
          0.9459588713534194,
          0.9459588713534194,
          0.9459588713534194,
          0.9459588713534194,
          0.9459588713534194,
          0.9459588713534194,
          0.9459588713534194,
          0.9459588713534194,
          0.9459588713534194,
          0.9459588713534194,
          0.9459588713534194,
          0.9459588713534194,
          0.9459588713534194,
          0.9459588713534194,
          0.9459588713534194,
          0.9459588713534194,
          0.9459588713534194,
          0.9459588713534194,
          0.9459588713534194,
          0.9459588713534194,
          0.9459588713534194,
          0.9459588713534194,
          0.9459588713534194,
          0.9459588713534194,
          0.9459588713534194,
          0.9459588713534194,
          0.9459588713534194,
          0.9459588713534194,
          0.9459588713534194,
          0.9459588713534194,
          0.9459588713534194,
          0.9459588713534194,
          0.9459588713534194,
          0.9459588713534194,
          0.9459588713534194,
          0.9459588713534194,
          0.9459588713534194,
          0.9459588713534194,
          0.9459588713534194,
          0.9459588713534194,
          0.9459588713534194,
          0.9459588713534194,
          0.9459588713534194,
          0.9459588713534194,
          0.9459588713534194,
          0.9459588713534194,
          0.9459588713534194,
          0.9459588713534194,
          0.9459588713534194,
          0.9459588713534194,
          0.9459588713534194,
          0.9459588713534194,
          0.9459588713534194,
          0.9459588713534194,
          0.9459588713534194,
          0.9459588713534194,
          0.9459588713534194,
          0.9459588713534194,
          0.9459588713534194,
          0.9459588713534194,
          0.9459588713534194,
          0.9459588713534194,
          0.9459588713534194,
          0.9459588713534194,
          0.9459588713534194,
          0.9459588713534194,
          0.9459588713534194,
          0.9459588713534194,
          0.9459588713534194,
          0.9459588713534194,
          0.9459588713534194,
          0.9459588713534194,
          0.9459588713534194,
          0.9459588713534194,
          0.9459588713534194,
          0.9459588713534194,
          0.9459588713534194,
          0.9459588713534194,
          0.9459588713534194,
          0.9459588713534194,
          0.9459588713534194,
          0.9459588713534194,
          0.9459588713534194,
          0.9459588713534194,
          0.9459588713534194,
          0.9459588713534194,
          0.9459588713534194,
          0.9459588713534194,
          0.9459588713534194,
          0.9459588713534194,
          0.9459588713534194,
          0.9459588713534194,
          0.9459588713534194,
          0.9459588713534194,
          0.9459588713534194,
          0.9459588713534194,
          0.9459588713534194,
          0.9459588713534194,
          0.9459588713534194,
          0.9459588713534194,
          0.9459588713534194,
          0.9459588713534194,
          0.9459588713534194,
          0.9459588713534194,
          0.9459588713534194,
          0.9459588713534194,
          0.9459588713534194,
          0.9459588713534194,
          0.9459588713534194,
          0.9459588713534194,
          0.9459588713534194,
          0.9459588713534194,
          0.9459588713534194,
          0.9459588713534194,
          0.9459588713534194,
          0.9459588713534194,
          0.9459588713534194,
          0.9459588713534194,
          0.9459588713534194,
          0.9459588713534194,
          0.9459588713534194,
          0.9459588713534194,
          0.9459588713534194,
          0.9459588713534194,
          0.9459588713534194,
          0.9459588713534194,
          0.9459588713534194,
          0.9459588713534194,
          0.9459588713534194,
          0.9459588713534194,
          0.9459588713534194,
          0.9459588713534194,
          0.9459588713534194,
          0.9459588713534194,
          0.9459588713534194,
          0.9459588713534194,
          0.9459588713534194,
          0.9459588713534194,
          0.9459588713534194,
          0.9459588713534194,
          0.9459588713534194,
          0.9459588713534194,
          0.9459588713534194,
          0.9459588713534194,
          0.9459588713534194,
          0.9459588713534194,
          0.9459588713534194,
          0.9459588713534194,
          0.9459588713534194,
          0.9459588713534194,
          0.9459588713534194,
          0.9459588713534194,
          0.9459588713534194,
          0.9459588713534194,
          0.9459588713534194,
          0.9459588713534194,
          0.9459588713534194,
          0.9459588713534194,
          0.9459588713534194,
          0.9459588713534194,
          0.9459588713534194,
          0.9459588713534194,
          0.9459588713534194,
          0.9459588713534194,
          0.9459588713534194,
          0.9459588713534194,
          0.9459588713534194,
          0.9459588713534194,
          0.9459588713534194,
          0.9459588713534194,
          0.9459588713534194,
          0.9459588713534194,
          0.9459588713534194,
          0.9459588713534194,
          0.9459588713534194,
          0.9459588713534194,
          0.9459588713534194
         ],
         "type": "scatter"
        }
       ],
       "layout": {
        "template": {
         "data": {
          "histogram2dcontour": [
           {
            "type": "histogram2dcontour",
            "colorbar": {
             "outlinewidth": 0,
             "ticks": ""
            },
            "colorscale": [
             [
              0.0,
              "#0d0887"
             ],
             [
              0.1111111111111111,
              "#46039f"
             ],
             [
              0.2222222222222222,
              "#7201a8"
             ],
             [
              0.3333333333333333,
              "#9c179e"
             ],
             [
              0.4444444444444444,
              "#bd3786"
             ],
             [
              0.5555555555555556,
              "#d8576b"
             ],
             [
              0.6666666666666666,
              "#ed7953"
             ],
             [
              0.7777777777777778,
              "#fb9f3a"
             ],
             [
              0.8888888888888888,
              "#fdca26"
             ],
             [
              1.0,
              "#f0f921"
             ]
            ]
           }
          ],
          "choropleth": [
           {
            "type": "choropleth",
            "colorbar": {
             "outlinewidth": 0,
             "ticks": ""
            }
           }
          ],
          "histogram2d": [
           {
            "type": "histogram2d",
            "colorbar": {
             "outlinewidth": 0,
             "ticks": ""
            },
            "colorscale": [
             [
              0.0,
              "#0d0887"
             ],
             [
              0.1111111111111111,
              "#46039f"
             ],
             [
              0.2222222222222222,
              "#7201a8"
             ],
             [
              0.3333333333333333,
              "#9c179e"
             ],
             [
              0.4444444444444444,
              "#bd3786"
             ],
             [
              0.5555555555555556,
              "#d8576b"
             ],
             [
              0.6666666666666666,
              "#ed7953"
             ],
             [
              0.7777777777777778,
              "#fb9f3a"
             ],
             [
              0.8888888888888888,
              "#fdca26"
             ],
             [
              1.0,
              "#f0f921"
             ]
            ]
           }
          ],
          "heatmap": [
           {
            "type": "heatmap",
            "colorbar": {
             "outlinewidth": 0,
             "ticks": ""
            },
            "colorscale": [
             [
              0.0,
              "#0d0887"
             ],
             [
              0.1111111111111111,
              "#46039f"
             ],
             [
              0.2222222222222222,
              "#7201a8"
             ],
             [
              0.3333333333333333,
              "#9c179e"
             ],
             [
              0.4444444444444444,
              "#bd3786"
             ],
             [
              0.5555555555555556,
              "#d8576b"
             ],
             [
              0.6666666666666666,
              "#ed7953"
             ],
             [
              0.7777777777777778,
              "#fb9f3a"
             ],
             [
              0.8888888888888888,
              "#fdca26"
             ],
             [
              1.0,
              "#f0f921"
             ]
            ]
           }
          ],
          "heatmapgl": [
           {
            "type": "heatmapgl",
            "colorbar": {
             "outlinewidth": 0,
             "ticks": ""
            },
            "colorscale": [
             [
              0.0,
              "#0d0887"
             ],
             [
              0.1111111111111111,
              "#46039f"
             ],
             [
              0.2222222222222222,
              "#7201a8"
             ],
             [
              0.3333333333333333,
              "#9c179e"
             ],
             [
              0.4444444444444444,
              "#bd3786"
             ],
             [
              0.5555555555555556,
              "#d8576b"
             ],
             [
              0.6666666666666666,
              "#ed7953"
             ],
             [
              0.7777777777777778,
              "#fb9f3a"
             ],
             [
              0.8888888888888888,
              "#fdca26"
             ],
             [
              1.0,
              "#f0f921"
             ]
            ]
           }
          ],
          "contourcarpet": [
           {
            "type": "contourcarpet",
            "colorbar": {
             "outlinewidth": 0,
             "ticks": ""
            }
           }
          ],
          "contour": [
           {
            "type": "contour",
            "colorbar": {
             "outlinewidth": 0,
             "ticks": ""
            },
            "colorscale": [
             [
              0.0,
              "#0d0887"
             ],
             [
              0.1111111111111111,
              "#46039f"
             ],
             [
              0.2222222222222222,
              "#7201a8"
             ],
             [
              0.3333333333333333,
              "#9c179e"
             ],
             [
              0.4444444444444444,
              "#bd3786"
             ],
             [
              0.5555555555555556,
              "#d8576b"
             ],
             [
              0.6666666666666666,
              "#ed7953"
             ],
             [
              0.7777777777777778,
              "#fb9f3a"
             ],
             [
              0.8888888888888888,
              "#fdca26"
             ],
             [
              1.0,
              "#f0f921"
             ]
            ]
           }
          ],
          "surface": [
           {
            "type": "surface",
            "colorbar": {
             "outlinewidth": 0,
             "ticks": ""
            },
            "colorscale": [
             [
              0.0,
              "#0d0887"
             ],
             [
              0.1111111111111111,
              "#46039f"
             ],
             [
              0.2222222222222222,
              "#7201a8"
             ],
             [
              0.3333333333333333,
              "#9c179e"
             ],
             [
              0.4444444444444444,
              "#bd3786"
             ],
             [
              0.5555555555555556,
              "#d8576b"
             ],
             [
              0.6666666666666666,
              "#ed7953"
             ],
             [
              0.7777777777777778,
              "#fb9f3a"
             ],
             [
              0.8888888888888888,
              "#fdca26"
             ],
             [
              1.0,
              "#f0f921"
             ]
            ]
           }
          ],
          "mesh3d": [
           {
            "type": "mesh3d",
            "colorbar": {
             "outlinewidth": 0,
             "ticks": ""
            }
           }
          ],
          "scatter": [
           {
            "marker": {
             "line": {
              "color": "#283442"
             }
            },
            "type": "scatter"
           }
          ],
          "parcoords": [
           {
            "type": "parcoords",
            "line": {
             "colorbar": {
              "outlinewidth": 0,
              "ticks": ""
             }
            }
           }
          ],
          "scatterpolargl": [
           {
            "type": "scatterpolargl",
            "marker": {
             "colorbar": {
              "outlinewidth": 0,
              "ticks": ""
             }
            }
           }
          ],
          "bar": [
           {
            "error_x": {
             "color": "#f2f5fa"
            },
            "error_y": {
             "color": "#f2f5fa"
            },
            "marker": {
             "line": {
              "color": "rgb(17,17,17)",
              "width": 0.5
             },
             "pattern": {
              "fillmode": "overlay",
              "size": 10,
              "solidity": 0.2
             }
            },
            "type": "bar"
           }
          ],
          "scattergeo": [
           {
            "type": "scattergeo",
            "marker": {
             "colorbar": {
              "outlinewidth": 0,
              "ticks": ""
             }
            }
           }
          ],
          "scatterpolar": [
           {
            "type": "scatterpolar",
            "marker": {
             "colorbar": {
              "outlinewidth": 0,
              "ticks": ""
             }
            }
           }
          ],
          "histogram": [
           {
            "marker": {
             "pattern": {
              "fillmode": "overlay",
              "size": 10,
              "solidity": 0.2
             }
            },
            "type": "histogram"
           }
          ],
          "scattergl": [
           {
            "marker": {
             "line": {
              "color": "#283442"
             }
            },
            "type": "scattergl"
           }
          ],
          "scatter3d": [
           {
            "type": "scatter3d",
            "line": {
             "colorbar": {
              "outlinewidth": 0,
              "ticks": ""
             }
            },
            "marker": {
             "colorbar": {
              "outlinewidth": 0,
              "ticks": ""
             }
            }
           }
          ],
          "scattermapbox": [
           {
            "type": "scattermapbox",
            "marker": {
             "colorbar": {
              "outlinewidth": 0,
              "ticks": ""
             }
            }
           }
          ],
          "scatterternary": [
           {
            "type": "scatterternary",
            "marker": {
             "colorbar": {
              "outlinewidth": 0,
              "ticks": ""
             }
            }
           }
          ],
          "scattercarpet": [
           {
            "type": "scattercarpet",
            "marker": {
             "colorbar": {
              "outlinewidth": 0,
              "ticks": ""
             }
            }
           }
          ],
          "carpet": [
           {
            "aaxis": {
             "endlinecolor": "#A2B1C6",
             "gridcolor": "#506784",
             "linecolor": "#506784",
             "minorgridcolor": "#506784",
             "startlinecolor": "#A2B1C6"
            },
            "baxis": {
             "endlinecolor": "#A2B1C6",
             "gridcolor": "#506784",
             "linecolor": "#506784",
             "minorgridcolor": "#506784",
             "startlinecolor": "#A2B1C6"
            },
            "type": "carpet"
           }
          ],
          "table": [
           {
            "cells": {
             "fill": {
              "color": "#506784"
             },
             "line": {
              "color": "rgb(17,17,17)"
             }
            },
            "header": {
             "fill": {
              "color": "#2a3f5f"
             },
             "line": {
              "color": "rgb(17,17,17)"
             }
            },
            "type": "table"
           }
          ],
          "barpolar": [
           {
            "marker": {
             "line": {
              "color": "rgb(17,17,17)",
              "width": 0.5
             },
             "pattern": {
              "fillmode": "overlay",
              "size": 10,
              "solidity": 0.2
             }
            },
            "type": "barpolar"
           }
          ],
          "pie": [
           {
            "automargin": true,
            "type": "pie"
           }
          ]
         },
         "layout": {
          "autotypenumbers": "strict",
          "colorway": [
           "#636efa",
           "#EF553B",
           "#00cc96",
           "#ab63fa",
           "#FFA15A",
           "#19d3f3",
           "#FF6692",
           "#B6E880",
           "#FF97FF",
           "#FECB52"
          ],
          "font": {
           "color": "#f2f5fa"
          },
          "hovermode": "closest",
          "hoverlabel": {
           "align": "left"
          },
          "paper_bgcolor": "rgb(17,17,17)",
          "plot_bgcolor": "rgb(17,17,17)",
          "polar": {
           "bgcolor": "rgb(17,17,17)",
           "angularaxis": {
            "gridcolor": "#506784",
            "linecolor": "#506784",
            "ticks": ""
           },
           "radialaxis": {
            "gridcolor": "#506784",
            "linecolor": "#506784",
            "ticks": ""
           }
          },
          "ternary": {
           "bgcolor": "rgb(17,17,17)",
           "aaxis": {
            "gridcolor": "#506784",
            "linecolor": "#506784",
            "ticks": ""
           },
           "baxis": {
            "gridcolor": "#506784",
            "linecolor": "#506784",
            "ticks": ""
           },
           "caxis": {
            "gridcolor": "#506784",
            "linecolor": "#506784",
            "ticks": ""
           }
          },
          "coloraxis": {
           "colorbar": {
            "outlinewidth": 0,
            "ticks": ""
           }
          },
          "colorscale": {
           "sequential": [
            [
             0.0,
             "#0d0887"
            ],
            [
             0.1111111111111111,
             "#46039f"
            ],
            [
             0.2222222222222222,
             "#7201a8"
            ],
            [
             0.3333333333333333,
             "#9c179e"
            ],
            [
             0.4444444444444444,
             "#bd3786"
            ],
            [
             0.5555555555555556,
             "#d8576b"
            ],
            [
             0.6666666666666666,
             "#ed7953"
            ],
            [
             0.7777777777777778,
             "#fb9f3a"
            ],
            [
             0.8888888888888888,
             "#fdca26"
            ],
            [
             1.0,
             "#f0f921"
            ]
           ],
           "sequentialminus": [
            [
             0.0,
             "#0d0887"
            ],
            [
             0.1111111111111111,
             "#46039f"
            ],
            [
             0.2222222222222222,
             "#7201a8"
            ],
            [
             0.3333333333333333,
             "#9c179e"
            ],
            [
             0.4444444444444444,
             "#bd3786"
            ],
            [
             0.5555555555555556,
             "#d8576b"
            ],
            [
             0.6666666666666666,
             "#ed7953"
            ],
            [
             0.7777777777777778,
             "#fb9f3a"
            ],
            [
             0.8888888888888888,
             "#fdca26"
            ],
            [
             1.0,
             "#f0f921"
            ]
           ],
           "diverging": [
            [
             0,
             "#8e0152"
            ],
            [
             0.1,
             "#c51b7d"
            ],
            [
             0.2,
             "#de77ae"
            ],
            [
             0.3,
             "#f1b6da"
            ],
            [
             0.4,
             "#fde0ef"
            ],
            [
             0.5,
             "#f7f7f7"
            ],
            [
             0.6,
             "#e6f5d0"
            ],
            [
             0.7,
             "#b8e186"
            ],
            [
             0.8,
             "#7fbc41"
            ],
            [
             0.9,
             "#4d9221"
            ],
            [
             1,
             "#276419"
            ]
           ]
          },
          "xaxis": {
           "gridcolor": "#283442",
           "linecolor": "#506784",
           "ticks": "",
           "title": {
            "standoff": 15
           },
           "zerolinecolor": "#283442",
           "automargin": true,
           "zerolinewidth": 2
          },
          "yaxis": {
           "gridcolor": "#283442",
           "linecolor": "#506784",
           "ticks": "",
           "title": {
            "standoff": 15
           },
           "zerolinecolor": "#283442",
           "automargin": true,
           "zerolinewidth": 2
          },
          "scene": {
           "xaxis": {
            "backgroundcolor": "rgb(17,17,17)",
            "gridcolor": "#506784",
            "linecolor": "#506784",
            "showbackground": true,
            "ticks": "",
            "zerolinecolor": "#C8D4E3",
            "gridwidth": 2
           },
           "yaxis": {
            "backgroundcolor": "rgb(17,17,17)",
            "gridcolor": "#506784",
            "linecolor": "#506784",
            "showbackground": true,
            "ticks": "",
            "zerolinecolor": "#C8D4E3",
            "gridwidth": 2
           },
           "zaxis": {
            "backgroundcolor": "rgb(17,17,17)",
            "gridcolor": "#506784",
            "linecolor": "#506784",
            "showbackground": true,
            "ticks": "",
            "zerolinecolor": "#C8D4E3",
            "gridwidth": 2
           }
          },
          "shapedefaults": {
           "line": {
            "color": "#f2f5fa"
           }
          },
          "annotationdefaults": {
           "arrowcolor": "#f2f5fa",
           "arrowhead": 0,
           "arrowwidth": 1
          },
          "geo": {
           "bgcolor": "rgb(17,17,17)",
           "landcolor": "rgb(17,17,17)",
           "subunitcolor": "#506784",
           "showland": true,
           "showlakes": true,
           "lakecolor": "rgb(17,17,17)"
          },
          "title": {
           "x": 0.05
          },
          "updatemenudefaults": {
           "bgcolor": "#506784",
           "borderwidth": 0
          },
          "sliderdefaults": {
           "bgcolor": "#C8D4E3",
           "borderwidth": 1,
           "bordercolor": "rgb(17,17,17)",
           "tickwidth": 0
          },
          "mapbox": {
           "style": "dark"
          }
         }
        },
        "title": {
         "text": "Comparison of two models."
        },
        "xaxis": {
         "title": {
          "text": "max_features"
         }
        },
        "yaxis": {
         "title": {
          "text": "Score"
         }
        }
       },
       "config": {
        "plotlyServerURL": "https://plot.ly"
       }
      },
      "text/html": "<div>                            <div id=\"733d97e9-b0f0-440d-a5e1-a4ec8f407344\" class=\"plotly-graph-div\" style=\"height:525px; width:100%;\"></div>            <script type=\"text/javascript\">                require([\"plotly\"], function(Plotly) {                    window.PLOTLYENV=window.PLOTLYENV || {};                                    if (document.getElementById(\"733d97e9-b0f0-440d-a5e1-a4ec8f407344\")) {                    Plotly.newPlot(                        \"733d97e9-b0f0-440d-a5e1-a4ec8f407344\",                        [{\"mode\":\"lines\",\"name\":\"Test score without stopwords function\",\"x\":[1700,1750,1800,1850,1900,1950,2000,2050,2100,2150,2200,2250,2300,2350,2400,2450,2500,2550,2600,2650,2700,2750,2800,2850],\"y\":[0.9076996652319465,0.9091343854615017,0.9096126255380201,0.9143950263032042,0.9120038259206121,0.9172644667623147,0.9172644667623147,0.9196556671449068,0.9215686274509803,0.9215686274509803,0.9220468675274988,0.921090387374462,0.921090387374462,0.921090387374462,0.9215686274509803,0.9191774270683883,0.921090387374462,0.9225251076040172,0.9196556671449068,0.9196556671449068,0.9191774270683883,0.9206121472979436,0.9215686274509803,0.9206121472979436],\"type\":\"scatter\"},{\"mode\":\"lines+markers\",\"name\":\"Test score with stopwords function\",\"x\":[1700,1750,1800,1850,1900,1950,2000,2050,2100,2150,2200,2250,2300,2350,2400,2450,2500,2550,2600,2650,2700,2750,2800,2850],\"y\":[0.8971783835485414,0.8971783835485414,0.9005260640841702,0.9005260640841702,0.9029172644667623,0.9024390243902439,0.9033955045432808,0.9086561453849833,0.9062649450023912,0.9062649450023912,0.9053084648493543,0.907221425155428,0.9124820659971306,0.9115255858440937,0.912960306073649,0.9110473457675753,0.9096126255380201,0.9124820659971306,0.9110473457675753,0.9143950263032042,0.9153515064562411,0.9139167862266858,0.9120038259206121,0.9134385461501674],\"type\":\"scatter\"},{\"mode\":\"lines+markers\",\"name\":\"Baseline score shape=(4244, 57454)\",\"x\":[1700,1750,1800,1850,1900,1950,2000,2050,2100,2150,2200,2250,2300,2350,2400,2450,2500,2550,2600,2650,2700,2750,2800,2850],\"y\":[0.9459588713534194,0.9459588713534194,0.9459588713534194,0.9459588713534194,0.9459588713534194,0.9459588713534194,0.9459588713534194,0.9459588713534194,0.9459588713534194,0.9459588713534194,0.9459588713534194,0.9459588713534194,0.9459588713534194,0.9459588713534194,0.9459588713534194,0.9459588713534194,0.9459588713534194,0.9459588713534194,0.9459588713534194,0.9459588713534194,0.9459588713534194,0.9459588713534194,0.9459588713534194,0.9459588713534194,0.9459588713534194,0.9459588713534194,0.9459588713534194,0.9459588713534194,0.9459588713534194,0.9459588713534194,0.9459588713534194,0.9459588713534194,0.9459588713534194,0.9459588713534194,0.9459588713534194,0.9459588713534194,0.9459588713534194,0.9459588713534194,0.9459588713534194,0.9459588713534194,0.9459588713534194,0.9459588713534194,0.9459588713534194,0.9459588713534194,0.9459588713534194,0.9459588713534194,0.9459588713534194,0.9459588713534194,0.9459588713534194,0.9459588713534194,0.9459588713534194,0.9459588713534194,0.9459588713534194,0.9459588713534194,0.9459588713534194,0.9459588713534194,0.9459588713534194,0.9459588713534194,0.9459588713534194,0.9459588713534194,0.9459588713534194,0.9459588713534194,0.9459588713534194,0.9459588713534194,0.9459588713534194,0.9459588713534194,0.9459588713534194,0.9459588713534194,0.9459588713534194,0.9459588713534194,0.9459588713534194,0.9459588713534194,0.9459588713534194,0.9459588713534194,0.9459588713534194,0.9459588713534194,0.9459588713534194,0.9459588713534194,0.9459588713534194,0.9459588713534194,0.9459588713534194,0.9459588713534194,0.9459588713534194,0.9459588713534194,0.9459588713534194,0.9459588713534194,0.9459588713534194,0.9459588713534194,0.9459588713534194,0.9459588713534194,0.9459588713534194,0.9459588713534194,0.9459588713534194,0.9459588713534194,0.9459588713534194,0.9459588713534194,0.9459588713534194,0.9459588713534194,0.9459588713534194,0.9459588713534194,0.9459588713534194,0.9459588713534194,0.9459588713534194,0.9459588713534194,0.9459588713534194,0.9459588713534194,0.9459588713534194,0.9459588713534194,0.9459588713534194,0.9459588713534194,0.9459588713534194,0.9459588713534194,0.9459588713534194,0.9459588713534194,0.9459588713534194,0.9459588713534194,0.9459588713534194,0.9459588713534194,0.9459588713534194,0.9459588713534194,0.9459588713534194,0.9459588713534194,0.9459588713534194,0.9459588713534194,0.9459588713534194,0.9459588713534194,0.9459588713534194,0.9459588713534194,0.9459588713534194,0.9459588713534194,0.9459588713534194,0.9459588713534194,0.9459588713534194,0.9459588713534194,0.9459588713534194,0.9459588713534194,0.9459588713534194,0.9459588713534194,0.9459588713534194,0.9459588713534194,0.9459588713534194,0.9459588713534194,0.9459588713534194,0.9459588713534194,0.9459588713534194,0.9459588713534194,0.9459588713534194,0.9459588713534194,0.9459588713534194,0.9459588713534194,0.9459588713534194,0.9459588713534194,0.9459588713534194,0.9459588713534194,0.9459588713534194,0.9459588713534194,0.9459588713534194,0.9459588713534194,0.9459588713534194,0.9459588713534194,0.9459588713534194,0.9459588713534194,0.9459588713534194,0.9459588713534194,0.9459588713534194,0.9459588713534194,0.9459588713534194,0.9459588713534194,0.9459588713534194,0.9459588713534194,0.9459588713534194,0.9459588713534194,0.9459588713534194,0.9459588713534194,0.9459588713534194,0.9459588713534194,0.9459588713534194,0.9459588713534194,0.9459588713534194,0.9459588713534194,0.9459588713534194,0.9459588713534194,0.9459588713534194,0.9459588713534194,0.9459588713534194,0.9459588713534194,0.9459588713534194,0.9459588713534194,0.9459588713534194,0.9459588713534194,0.9459588713534194,0.9459588713534194,0.9459588713534194,0.9459588713534194,0.9459588713534194,0.9459588713534194,0.9459588713534194,0.9459588713534194,0.9459588713534194,0.9459588713534194,0.9459588713534194,0.9459588713534194,0.9459588713534194,0.9459588713534194,0.9459588713534194,0.9459588713534194,0.9459588713534194,0.9459588713534194,0.9459588713534194,0.9459588713534194,0.9459588713534194,0.9459588713534194,0.9459588713534194,0.9459588713534194,0.9459588713534194,0.9459588713534194,0.9459588713534194,0.9459588713534194,0.9459588713534194,0.9459588713534194,0.9459588713534194,0.9459588713534194,0.9459588713534194,0.9459588713534194,0.9459588713534194,0.9459588713534194,0.9459588713534194,0.9459588713534194,0.9459588713534194,0.9459588713534194,0.9459588713534194,0.9459588713534194,0.9459588713534194,0.9459588713534194,0.9459588713534194,0.9459588713534194,0.9459588713534194,0.9459588713534194,0.9459588713534194,0.9459588713534194,0.9459588713534194,0.9459588713534194,0.9459588713534194,0.9459588713534194,0.9459588713534194,0.9459588713534194,0.9459588713534194,0.9459588713534194,0.9459588713534194,0.9459588713534194,0.9459588713534194,0.9459588713534194,0.9459588713534194,0.9459588713534194,0.9459588713534194,0.9459588713534194,0.9459588713534194,0.9459588713534194,0.9459588713534194,0.9459588713534194,0.9459588713534194,0.9459588713534194,0.9459588713534194,0.9459588713534194,0.9459588713534194,0.9459588713534194,0.9459588713534194,0.9459588713534194,0.9459588713534194,0.9459588713534194,0.9459588713534194,0.9459588713534194,0.9459588713534194,0.9459588713534194,0.9459588713534194,0.9459588713534194,0.9459588713534194,0.9459588713534194,0.9459588713534194,0.9459588713534194,0.9459588713534194,0.9459588713534194,0.9459588713534194,0.9459588713534194,0.9459588713534194,0.9459588713534194,0.9459588713534194,0.9459588713534194,0.9459588713534194,0.9459588713534194,0.9459588713534194,0.9459588713534194,0.9459588713534194,0.9459588713534194,0.9459588713534194,0.9459588713534194,0.9459588713534194,0.9459588713534194,0.9459588713534194,0.9459588713534194,0.9459588713534194,0.9459588713534194,0.9459588713534194,0.9459588713534194,0.9459588713534194,0.9459588713534194,0.9459588713534194,0.9459588713534194,0.9459588713534194,0.9459588713534194,0.9459588713534194,0.9459588713534194,0.9459588713534194,0.9459588713534194,0.9459588713534194,0.9459588713534194,0.9459588713534194,0.9459588713534194,0.9459588713534194,0.9459588713534194,0.9459588713534194,0.9459588713534194,0.9459588713534194,0.9459588713534194,0.9459588713534194,0.9459588713534194,0.9459588713534194,0.9459588713534194,0.9459588713534194,0.9459588713534194,0.9459588713534194,0.9459588713534194,0.9459588713534194,0.9459588713534194,0.9459588713534194,0.9459588713534194,0.9459588713534194,0.9459588713534194,0.9459588713534194,0.9459588713534194,0.9459588713534194,0.9459588713534194,0.9459588713534194,0.9459588713534194,0.9459588713534194,0.9459588713534194,0.9459588713534194,0.9459588713534194,0.9459588713534194,0.9459588713534194,0.9459588713534194,0.9459588713534194,0.9459588713534194,0.9459588713534194,0.9459588713534194,0.9459588713534194,0.9459588713534194,0.9459588713534194,0.9459588713534194,0.9459588713534194,0.9459588713534194,0.9459588713534194,0.9459588713534194,0.9459588713534194,0.9459588713534194,0.9459588713534194,0.9459588713534194,0.9459588713534194,0.9459588713534194,0.9459588713534194,0.9459588713534194,0.9459588713534194,0.9459588713534194,0.9459588713534194,0.9459588713534194,0.9459588713534194,0.9459588713534194,0.9459588713534194,0.9459588713534194,0.9459588713534194,0.9459588713534194,0.9459588713534194,0.9459588713534194,0.9459588713534194,0.9459588713534194,0.9459588713534194,0.9459588713534194,0.9459588713534194,0.9459588713534194,0.9459588713534194,0.9459588713534194,0.9459588713534194,0.9459588713534194,0.9459588713534194,0.9459588713534194,0.9459588713534194,0.9459588713534194,0.9459588713534194,0.9459588713534194,0.9459588713534194,0.9459588713534194,0.9459588713534194,0.9459588713534194,0.9459588713534194,0.9459588713534194,0.9459588713534194,0.9459588713534194,0.9459588713534194,0.9459588713534194,0.9459588713534194,0.9459588713534194,0.9459588713534194,0.9459588713534194,0.9459588713534194,0.9459588713534194,0.9459588713534194,0.9459588713534194,0.9459588713534194,0.9459588713534194,0.9459588713534194,0.9459588713534194,0.9459588713534194,0.9459588713534194,0.9459588713534194,0.9459588713534194,0.9459588713534194,0.9459588713534194,0.9459588713534194,0.9459588713534194,0.9459588713534194,0.9459588713534194,0.9459588713534194,0.9459588713534194,0.9459588713534194,0.9459588713534194,0.9459588713534194,0.9459588713534194,0.9459588713534194,0.9459588713534194,0.9459588713534194,0.9459588713534194,0.9459588713534194,0.9459588713534194,0.9459588713534194,0.9459588713534194,0.9459588713534194,0.9459588713534194,0.9459588713534194,0.9459588713534194,0.9459588713534194,0.9459588713534194,0.9459588713534194,0.9459588713534194,0.9459588713534194,0.9459588713534194,0.9459588713534194,0.9459588713534194,0.9459588713534194,0.9459588713534194,0.9459588713534194,0.9459588713534194,0.9459588713534194,0.9459588713534194,0.9459588713534194,0.9459588713534194,0.9459588713534194,0.9459588713534194,0.9459588713534194,0.9459588713534194,0.9459588713534194,0.9459588713534194,0.9459588713534194,0.9459588713534194,0.9459588713534194,0.9459588713534194,0.9459588713534194,0.9459588713534194,0.9459588713534194,0.9459588713534194,0.9459588713534194,0.9459588713534194,0.9459588713534194,0.9459588713534194,0.9459588713534194,0.9459588713534194,0.9459588713534194,0.9459588713534194,0.9459588713534194,0.9459588713534194,0.9459588713534194,0.9459588713534194,0.9459588713534194,0.9459588713534194,0.9459588713534194,0.9459588713534194,0.9459588713534194,0.9459588713534194,0.9459588713534194,0.9459588713534194,0.9459588713534194,0.9459588713534194,0.9459588713534194,0.9459588713534194,0.9459588713534194,0.9459588713534194,0.9459588713534194,0.9459588713534194,0.9459588713534194,0.9459588713534194,0.9459588713534194,0.9459588713534194,0.9459588713534194,0.9459588713534194,0.9459588713534194,0.9459588713534194,0.9459588713534194,0.9459588713534194,0.9459588713534194,0.9459588713534194,0.9459588713534194,0.9459588713534194,0.9459588713534194,0.9459588713534194,0.9459588713534194,0.9459588713534194,0.9459588713534194,0.9459588713534194,0.9459588713534194,0.9459588713534194,0.9459588713534194,0.9459588713534194,0.9459588713534194,0.9459588713534194,0.9459588713534194,0.9459588713534194,0.9459588713534194,0.9459588713534194,0.9459588713534194,0.9459588713534194,0.9459588713534194,0.9459588713534194,0.9459588713534194,0.9459588713534194,0.9459588713534194,0.9459588713534194,0.9459588713534194,0.9459588713534194,0.9459588713534194,0.9459588713534194,0.9459588713534194,0.9459588713534194,0.9459588713534194,0.9459588713534194,0.9459588713534194,0.9459588713534194,0.9459588713534194,0.9459588713534194,0.9459588713534194,0.9459588713534194,0.9459588713534194,0.9459588713534194,0.9459588713534194,0.9459588713534194,0.9459588713534194,0.9459588713534194,0.9459588713534194,0.9459588713534194,0.9459588713534194,0.9459588713534194,0.9459588713534194,0.9459588713534194,0.9459588713534194,0.9459588713534194,0.9459588713534194,0.9459588713534194,0.9459588713534194,0.9459588713534194,0.9459588713534194,0.9459588713534194,0.9459588713534194,0.9459588713534194,0.9459588713534194,0.9459588713534194,0.9459588713534194,0.9459588713534194,0.9459588713534194,0.9459588713534194,0.9459588713534194,0.9459588713534194,0.9459588713534194,0.9459588713534194,0.9459588713534194,0.9459588713534194,0.9459588713534194,0.9459588713534194,0.9459588713534194,0.9459588713534194,0.9459588713534194,0.9459588713534194,0.9459588713534194,0.9459588713534194,0.9459588713534194,0.9459588713534194,0.9459588713534194,0.9459588713534194,0.9459588713534194,0.9459588713534194,0.9459588713534194,0.9459588713534194,0.9459588713534194,0.9459588713534194,0.9459588713534194,0.9459588713534194,0.9459588713534194,0.9459588713534194,0.9459588713534194,0.9459588713534194,0.9459588713534194,0.9459588713534194,0.9459588713534194,0.9459588713534194,0.9459588713534194,0.9459588713534194,0.9459588713534194,0.9459588713534194,0.9459588713534194,0.9459588713534194,0.9459588713534194,0.9459588713534194,0.9459588713534194,0.9459588713534194,0.9459588713534194,0.9459588713534194,0.9459588713534194,0.9459588713534194,0.9459588713534194,0.9459588713534194,0.9459588713534194,0.9459588713534194,0.9459588713534194,0.9459588713534194,0.9459588713534194,0.9459588713534194,0.9459588713534194,0.9459588713534194,0.9459588713534194,0.9459588713534194,0.9459588713534194,0.9459588713534194,0.9459588713534194,0.9459588713534194,0.9459588713534194,0.9459588713534194,0.9459588713534194,0.9459588713534194,0.9459588713534194,0.9459588713534194,0.9459588713534194,0.9459588713534194,0.9459588713534194,0.9459588713534194,0.9459588713534194,0.9459588713534194,0.9459588713534194,0.9459588713534194,0.9459588713534194,0.9459588713534194,0.9459588713534194,0.9459588713534194,0.9459588713534194,0.9459588713534194,0.9459588713534194,0.9459588713534194,0.9459588713534194,0.9459588713534194,0.9459588713534194,0.9459588713534194,0.9459588713534194,0.9459588713534194,0.9459588713534194,0.9459588713534194,0.9459588713534194,0.9459588713534194,0.9459588713534194,0.9459588713534194,0.9459588713534194,0.9459588713534194,0.9459588713534194,0.9459588713534194,0.9459588713534194,0.9459588713534194,0.9459588713534194,0.9459588713534194,0.9459588713534194,0.9459588713534194,0.9459588713534194,0.9459588713534194,0.9459588713534194,0.9459588713534194,0.9459588713534194,0.9459588713534194,0.9459588713534194,0.9459588713534194,0.9459588713534194,0.9459588713534194,0.9459588713534194,0.9459588713534194,0.9459588713534194,0.9459588713534194,0.9459588713534194,0.9459588713534194,0.9459588713534194,0.9459588713534194,0.9459588713534194,0.9459588713534194,0.9459588713534194,0.9459588713534194,0.9459588713534194,0.9459588713534194,0.9459588713534194,0.9459588713534194,0.9459588713534194,0.9459588713534194,0.9459588713534194,0.9459588713534194,0.9459588713534194,0.9459588713534194,0.9459588713534194,0.9459588713534194,0.9459588713534194,0.9459588713534194,0.9459588713534194,0.9459588713534194,0.9459588713534194,0.9459588713534194,0.9459588713534194,0.9459588713534194,0.9459588713534194,0.9459588713534194,0.9459588713534194,0.9459588713534194,0.9459588713534194,0.9459588713534194,0.9459588713534194,0.9459588713534194,0.9459588713534194,0.9459588713534194,0.9459588713534194,0.9459588713534194,0.9459588713534194,0.9459588713534194,0.9459588713534194,0.9459588713534194,0.9459588713534194,0.9459588713534194,0.9459588713534194,0.9459588713534194,0.9459588713534194,0.9459588713534194,0.9459588713534194,0.9459588713534194,0.9459588713534194,0.9459588713534194,0.9459588713534194,0.9459588713534194,0.9459588713534194,0.9459588713534194,0.9459588713534194,0.9459588713534194,0.9459588713534194,0.9459588713534194,0.9459588713534194,0.9459588713534194,0.9459588713534194,0.9459588713534194,0.9459588713534194,0.9459588713534194,0.9459588713534194,0.9459588713534194,0.9459588713534194,0.9459588713534194,0.9459588713534194,0.9459588713534194,0.9459588713534194,0.9459588713534194,0.9459588713534194,0.9459588713534194,0.9459588713534194,0.9459588713534194,0.9459588713534194,0.9459588713534194,0.9459588713534194,0.9459588713534194,0.9459588713534194,0.9459588713534194,0.9459588713534194,0.9459588713534194,0.9459588713534194,0.9459588713534194,0.9459588713534194,0.9459588713534194,0.9459588713534194,0.9459588713534194,0.9459588713534194,0.9459588713534194,0.9459588713534194,0.9459588713534194,0.9459588713534194,0.9459588713534194,0.9459588713534194,0.9459588713534194,0.9459588713534194,0.9459588713534194,0.9459588713534194,0.9459588713534194,0.9459588713534194,0.9459588713534194,0.9459588713534194,0.9459588713534194,0.9459588713534194,0.9459588713534194,0.9459588713534194,0.9459588713534194,0.9459588713534194,0.9459588713534194,0.9459588713534194,0.9459588713534194,0.9459588713534194,0.9459588713534194,0.9459588713534194,0.9459588713534194,0.9459588713534194,0.9459588713534194,0.9459588713534194,0.9459588713534194,0.9459588713534194,0.9459588713534194,0.9459588713534194,0.9459588713534194,0.9459588713534194,0.9459588713534194,0.9459588713534194,0.9459588713534194,0.9459588713534194,0.9459588713534194,0.9459588713534194,0.9459588713534194,0.9459588713534194,0.9459588713534194,0.9459588713534194,0.9459588713534194,0.9459588713534194,0.9459588713534194,0.9459588713534194,0.9459588713534194,0.9459588713534194,0.9459588713534194,0.9459588713534194,0.9459588713534194,0.9459588713534194,0.9459588713534194,0.9459588713534194,0.9459588713534194,0.9459588713534194,0.9459588713534194,0.9459588713534194,0.9459588713534194,0.9459588713534194,0.9459588713534194,0.9459588713534194,0.9459588713534194,0.9459588713534194,0.9459588713534194,0.9459588713534194,0.9459588713534194,0.9459588713534194,0.9459588713534194,0.9459588713534194,0.9459588713534194,0.9459588713534194,0.9459588713534194,0.9459588713534194,0.9459588713534194,0.9459588713534194,0.9459588713534194,0.9459588713534194,0.9459588713534194,0.9459588713534194,0.9459588713534194,0.9459588713534194,0.9459588713534194,0.9459588713534194,0.9459588713534194,0.9459588713534194,0.9459588713534194,0.9459588713534194,0.9459588713534194,0.9459588713534194,0.9459588713534194,0.9459588713534194,0.9459588713534194,0.9459588713534194,0.9459588713534194,0.9459588713534194,0.9459588713534194,0.9459588713534194,0.9459588713534194,0.9459588713534194,0.9459588713534194,0.9459588713534194,0.9459588713534194,0.9459588713534194,0.9459588713534194,0.9459588713534194,0.9459588713534194,0.9459588713534194,0.9459588713534194,0.9459588713534194,0.9459588713534194,0.9459588713534194,0.9459588713534194,0.9459588713534194,0.9459588713534194,0.9459588713534194,0.9459588713534194,0.9459588713534194,0.9459588713534194,0.9459588713534194,0.9459588713534194,0.9459588713534194,0.9459588713534194,0.9459588713534194,0.9459588713534194,0.9459588713534194,0.9459588713534194,0.9459588713534194,0.9459588713534194,0.9459588713534194,0.9459588713534194,0.9459588713534194,0.9459588713534194,0.9459588713534194,0.9459588713534194,0.9459588713534194,0.9459588713534194,0.9459588713534194,0.9459588713534194,0.9459588713534194,0.9459588713534194,0.9459588713534194,0.9459588713534194,0.9459588713534194,0.9459588713534194,0.9459588713534194,0.9459588713534194,0.9459588713534194,0.9459588713534194,0.9459588713534194,0.9459588713534194,0.9459588713534194,0.9459588713534194,0.9459588713534194,0.9459588713534194,0.9459588713534194,0.9459588713534194,0.9459588713534194,0.9459588713534194,0.9459588713534194,0.9459588713534194,0.9459588713534194,0.9459588713534194,0.9459588713534194,0.9459588713534194,0.9459588713534194,0.9459588713534194,0.9459588713534194,0.9459588713534194,0.9459588713534194,0.9459588713534194,0.9459588713534194,0.9459588713534194,0.9459588713534194,0.9459588713534194,0.9459588713534194,0.9459588713534194,0.9459588713534194,0.9459588713534194,0.9459588713534194,0.9459588713534194,0.9459588713534194,0.9459588713534194,0.9459588713534194,0.9459588713534194,0.9459588713534194,0.9459588713534194,0.9459588713534194,0.9459588713534194,0.9459588713534194,0.9459588713534194,0.9459588713534194,0.9459588713534194,0.9459588713534194,0.9459588713534194,0.9459588713534194,0.9459588713534194,0.9459588713534194,0.9459588713534194,0.9459588713534194,0.9459588713534194,0.9459588713534194,0.9459588713534194,0.9459588713534194,0.9459588713534194,0.9459588713534194,0.9459588713534194,0.9459588713534194,0.9459588713534194,0.9459588713534194,0.9459588713534194,0.9459588713534194,0.9459588713534194,0.9459588713534194,0.9459588713534194,0.9459588713534194,0.9459588713534194,0.9459588713534194,0.9459588713534194,0.9459588713534194,0.9459588713534194,0.9459588713534194,0.9459588713534194,0.9459588713534194,0.9459588713534194,0.9459588713534194,0.9459588713534194,0.9459588713534194,0.9459588713534194,0.9459588713534194,0.9459588713534194,0.9459588713534194,0.9459588713534194,0.9459588713534194,0.9459588713534194,0.9459588713534194,0.9459588713534194,0.9459588713534194,0.9459588713534194,0.9459588713534194,0.9459588713534194,0.9459588713534194,0.9459588713534194,0.9459588713534194,0.9459588713534194,0.9459588713534194,0.9459588713534194,0.9459588713534194,0.9459588713534194,0.9459588713534194,0.9459588713534194,0.9459588713534194,0.9459588713534194,0.9459588713534194,0.9459588713534194,0.9459588713534194,0.9459588713534194,0.9459588713534194,0.9459588713534194,0.9459588713534194,0.9459588713534194,0.9459588713534194,0.9459588713534194,0.9459588713534194,0.9459588713534194,0.9459588713534194,0.9459588713534194,0.9459588713534194,0.9459588713534194,0.9459588713534194,0.9459588713534194,0.9459588713534194,0.9459588713534194,0.9459588713534194,0.9459588713534194,0.9459588713534194,0.9459588713534194,0.9459588713534194,0.9459588713534194,0.9459588713534194,0.9459588713534194,0.9459588713534194,0.9459588713534194,0.9459588713534194,0.9459588713534194,0.9459588713534194,0.9459588713534194,0.9459588713534194,0.9459588713534194,0.9459588713534194,0.9459588713534194,0.9459588713534194,0.9459588713534194,0.9459588713534194,0.9459588713534194,0.9459588713534194,0.9459588713534194,0.9459588713534194,0.9459588713534194,0.9459588713534194,0.9459588713534194,0.9459588713534194,0.9459588713534194,0.9459588713534194,0.9459588713534194,0.9459588713534194,0.9459588713534194,0.9459588713534194,0.9459588713534194,0.9459588713534194,0.9459588713534194,0.9459588713534194,0.9459588713534194,0.9459588713534194,0.9459588713534194,0.9459588713534194,0.9459588713534194,0.9459588713534194,0.9459588713534194,0.9459588713534194,0.9459588713534194,0.9459588713534194,0.9459588713534194,0.9459588713534194,0.9459588713534194,0.9459588713534194,0.9459588713534194,0.9459588713534194,0.9459588713534194,0.9459588713534194,0.9459588713534194,0.9459588713534194,0.9459588713534194,0.9459588713534194,0.9459588713534194,0.9459588713534194,0.9459588713534194,0.9459588713534194,0.9459588713534194,0.9459588713534194,0.9459588713534194,0.9459588713534194,0.9459588713534194,0.9459588713534194,0.9459588713534194,0.9459588713534194,0.9459588713534194,0.9459588713534194,0.9459588713534194,0.9459588713534194,0.9459588713534194,0.9459588713534194,0.9459588713534194,0.9459588713534194,0.9459588713534194,0.9459588713534194,0.9459588713534194,0.9459588713534194,0.9459588713534194,0.9459588713534194,0.9459588713534194,0.9459588713534194,0.9459588713534194,0.9459588713534194,0.9459588713534194,0.9459588713534194,0.9459588713534194,0.9459588713534194,0.9459588713534194,0.9459588713534194,0.9459588713534194,0.9459588713534194,0.9459588713534194,0.9459588713534194,0.9459588713534194,0.9459588713534194,0.9459588713534194,0.9459588713534194,0.9459588713534194,0.9459588713534194,0.9459588713534194,0.9459588713534194,0.9459588713534194,0.9459588713534194,0.9459588713534194,0.9459588713534194,0.9459588713534194,0.9459588713534194,0.9459588713534194,0.9459588713534194,0.9459588713534194,0.9459588713534194],\"type\":\"scatter\"}],                        {\"template\":{\"data\":{\"histogram2dcontour\":[{\"type\":\"histogram2dcontour\",\"colorbar\":{\"outlinewidth\":0,\"ticks\":\"\"},\"colorscale\":[[0.0,\"#0d0887\"],[0.1111111111111111,\"#46039f\"],[0.2222222222222222,\"#7201a8\"],[0.3333333333333333,\"#9c179e\"],[0.4444444444444444,\"#bd3786\"],[0.5555555555555556,\"#d8576b\"],[0.6666666666666666,\"#ed7953\"],[0.7777777777777778,\"#fb9f3a\"],[0.8888888888888888,\"#fdca26\"],[1.0,\"#f0f921\"]]}],\"choropleth\":[{\"type\":\"choropleth\",\"colorbar\":{\"outlinewidth\":0,\"ticks\":\"\"}}],\"histogram2d\":[{\"type\":\"histogram2d\",\"colorbar\":{\"outlinewidth\":0,\"ticks\":\"\"},\"colorscale\":[[0.0,\"#0d0887\"],[0.1111111111111111,\"#46039f\"],[0.2222222222222222,\"#7201a8\"],[0.3333333333333333,\"#9c179e\"],[0.4444444444444444,\"#bd3786\"],[0.5555555555555556,\"#d8576b\"],[0.6666666666666666,\"#ed7953\"],[0.7777777777777778,\"#fb9f3a\"],[0.8888888888888888,\"#fdca26\"],[1.0,\"#f0f921\"]]}],\"heatmap\":[{\"type\":\"heatmap\",\"colorbar\":{\"outlinewidth\":0,\"ticks\":\"\"},\"colorscale\":[[0.0,\"#0d0887\"],[0.1111111111111111,\"#46039f\"],[0.2222222222222222,\"#7201a8\"],[0.3333333333333333,\"#9c179e\"],[0.4444444444444444,\"#bd3786\"],[0.5555555555555556,\"#d8576b\"],[0.6666666666666666,\"#ed7953\"],[0.7777777777777778,\"#fb9f3a\"],[0.8888888888888888,\"#fdca26\"],[1.0,\"#f0f921\"]]}],\"heatmapgl\":[{\"type\":\"heatmapgl\",\"colorbar\":{\"outlinewidth\":0,\"ticks\":\"\"},\"colorscale\":[[0.0,\"#0d0887\"],[0.1111111111111111,\"#46039f\"],[0.2222222222222222,\"#7201a8\"],[0.3333333333333333,\"#9c179e\"],[0.4444444444444444,\"#bd3786\"],[0.5555555555555556,\"#d8576b\"],[0.6666666666666666,\"#ed7953\"],[0.7777777777777778,\"#fb9f3a\"],[0.8888888888888888,\"#fdca26\"],[1.0,\"#f0f921\"]]}],\"contourcarpet\":[{\"type\":\"contourcarpet\",\"colorbar\":{\"outlinewidth\":0,\"ticks\":\"\"}}],\"contour\":[{\"type\":\"contour\",\"colorbar\":{\"outlinewidth\":0,\"ticks\":\"\"},\"colorscale\":[[0.0,\"#0d0887\"],[0.1111111111111111,\"#46039f\"],[0.2222222222222222,\"#7201a8\"],[0.3333333333333333,\"#9c179e\"],[0.4444444444444444,\"#bd3786\"],[0.5555555555555556,\"#d8576b\"],[0.6666666666666666,\"#ed7953\"],[0.7777777777777778,\"#fb9f3a\"],[0.8888888888888888,\"#fdca26\"],[1.0,\"#f0f921\"]]}],\"surface\":[{\"type\":\"surface\",\"colorbar\":{\"outlinewidth\":0,\"ticks\":\"\"},\"colorscale\":[[0.0,\"#0d0887\"],[0.1111111111111111,\"#46039f\"],[0.2222222222222222,\"#7201a8\"],[0.3333333333333333,\"#9c179e\"],[0.4444444444444444,\"#bd3786\"],[0.5555555555555556,\"#d8576b\"],[0.6666666666666666,\"#ed7953\"],[0.7777777777777778,\"#fb9f3a\"],[0.8888888888888888,\"#fdca26\"],[1.0,\"#f0f921\"]]}],\"mesh3d\":[{\"type\":\"mesh3d\",\"colorbar\":{\"outlinewidth\":0,\"ticks\":\"\"}}],\"scatter\":[{\"marker\":{\"line\":{\"color\":\"#283442\"}},\"type\":\"scatter\"}],\"parcoords\":[{\"type\":\"parcoords\",\"line\":{\"colorbar\":{\"outlinewidth\":0,\"ticks\":\"\"}}}],\"scatterpolargl\":[{\"type\":\"scatterpolargl\",\"marker\":{\"colorbar\":{\"outlinewidth\":0,\"ticks\":\"\"}}}],\"bar\":[{\"error_x\":{\"color\":\"#f2f5fa\"},\"error_y\":{\"color\":\"#f2f5fa\"},\"marker\":{\"line\":{\"color\":\"rgb(17,17,17)\",\"width\":0.5},\"pattern\":{\"fillmode\":\"overlay\",\"size\":10,\"solidity\":0.2}},\"type\":\"bar\"}],\"scattergeo\":[{\"type\":\"scattergeo\",\"marker\":{\"colorbar\":{\"outlinewidth\":0,\"ticks\":\"\"}}}],\"scatterpolar\":[{\"type\":\"scatterpolar\",\"marker\":{\"colorbar\":{\"outlinewidth\":0,\"ticks\":\"\"}}}],\"histogram\":[{\"marker\":{\"pattern\":{\"fillmode\":\"overlay\",\"size\":10,\"solidity\":0.2}},\"type\":\"histogram\"}],\"scattergl\":[{\"marker\":{\"line\":{\"color\":\"#283442\"}},\"type\":\"scattergl\"}],\"scatter3d\":[{\"type\":\"scatter3d\",\"line\":{\"colorbar\":{\"outlinewidth\":0,\"ticks\":\"\"}},\"marker\":{\"colorbar\":{\"outlinewidth\":0,\"ticks\":\"\"}}}],\"scattermapbox\":[{\"type\":\"scattermapbox\",\"marker\":{\"colorbar\":{\"outlinewidth\":0,\"ticks\":\"\"}}}],\"scatterternary\":[{\"type\":\"scatterternary\",\"marker\":{\"colorbar\":{\"outlinewidth\":0,\"ticks\":\"\"}}}],\"scattercarpet\":[{\"type\":\"scattercarpet\",\"marker\":{\"colorbar\":{\"outlinewidth\":0,\"ticks\":\"\"}}}],\"carpet\":[{\"aaxis\":{\"endlinecolor\":\"#A2B1C6\",\"gridcolor\":\"#506784\",\"linecolor\":\"#506784\",\"minorgridcolor\":\"#506784\",\"startlinecolor\":\"#A2B1C6\"},\"baxis\":{\"endlinecolor\":\"#A2B1C6\",\"gridcolor\":\"#506784\",\"linecolor\":\"#506784\",\"minorgridcolor\":\"#506784\",\"startlinecolor\":\"#A2B1C6\"},\"type\":\"carpet\"}],\"table\":[{\"cells\":{\"fill\":{\"color\":\"#506784\"},\"line\":{\"color\":\"rgb(17,17,17)\"}},\"header\":{\"fill\":{\"color\":\"#2a3f5f\"},\"line\":{\"color\":\"rgb(17,17,17)\"}},\"type\":\"table\"}],\"barpolar\":[{\"marker\":{\"line\":{\"color\":\"rgb(17,17,17)\",\"width\":0.5},\"pattern\":{\"fillmode\":\"overlay\",\"size\":10,\"solidity\":0.2}},\"type\":\"barpolar\"}],\"pie\":[{\"automargin\":true,\"type\":\"pie\"}]},\"layout\":{\"autotypenumbers\":\"strict\",\"colorway\":[\"#636efa\",\"#EF553B\",\"#00cc96\",\"#ab63fa\",\"#FFA15A\",\"#19d3f3\",\"#FF6692\",\"#B6E880\",\"#FF97FF\",\"#FECB52\"],\"font\":{\"color\":\"#f2f5fa\"},\"hovermode\":\"closest\",\"hoverlabel\":{\"align\":\"left\"},\"paper_bgcolor\":\"rgb(17,17,17)\",\"plot_bgcolor\":\"rgb(17,17,17)\",\"polar\":{\"bgcolor\":\"rgb(17,17,17)\",\"angularaxis\":{\"gridcolor\":\"#506784\",\"linecolor\":\"#506784\",\"ticks\":\"\"},\"radialaxis\":{\"gridcolor\":\"#506784\",\"linecolor\":\"#506784\",\"ticks\":\"\"}},\"ternary\":{\"bgcolor\":\"rgb(17,17,17)\",\"aaxis\":{\"gridcolor\":\"#506784\",\"linecolor\":\"#506784\",\"ticks\":\"\"},\"baxis\":{\"gridcolor\":\"#506784\",\"linecolor\":\"#506784\",\"ticks\":\"\"},\"caxis\":{\"gridcolor\":\"#506784\",\"linecolor\":\"#506784\",\"ticks\":\"\"}},\"coloraxis\":{\"colorbar\":{\"outlinewidth\":0,\"ticks\":\"\"}},\"colorscale\":{\"sequential\":[[0.0,\"#0d0887\"],[0.1111111111111111,\"#46039f\"],[0.2222222222222222,\"#7201a8\"],[0.3333333333333333,\"#9c179e\"],[0.4444444444444444,\"#bd3786\"],[0.5555555555555556,\"#d8576b\"],[0.6666666666666666,\"#ed7953\"],[0.7777777777777778,\"#fb9f3a\"],[0.8888888888888888,\"#fdca26\"],[1.0,\"#f0f921\"]],\"sequentialminus\":[[0.0,\"#0d0887\"],[0.1111111111111111,\"#46039f\"],[0.2222222222222222,\"#7201a8\"],[0.3333333333333333,\"#9c179e\"],[0.4444444444444444,\"#bd3786\"],[0.5555555555555556,\"#d8576b\"],[0.6666666666666666,\"#ed7953\"],[0.7777777777777778,\"#fb9f3a\"],[0.8888888888888888,\"#fdca26\"],[1.0,\"#f0f921\"]],\"diverging\":[[0,\"#8e0152\"],[0.1,\"#c51b7d\"],[0.2,\"#de77ae\"],[0.3,\"#f1b6da\"],[0.4,\"#fde0ef\"],[0.5,\"#f7f7f7\"],[0.6,\"#e6f5d0\"],[0.7,\"#b8e186\"],[0.8,\"#7fbc41\"],[0.9,\"#4d9221\"],[1,\"#276419\"]]},\"xaxis\":{\"gridcolor\":\"#283442\",\"linecolor\":\"#506784\",\"ticks\":\"\",\"title\":{\"standoff\":15},\"zerolinecolor\":\"#283442\",\"automargin\":true,\"zerolinewidth\":2},\"yaxis\":{\"gridcolor\":\"#283442\",\"linecolor\":\"#506784\",\"ticks\":\"\",\"title\":{\"standoff\":15},\"zerolinecolor\":\"#283442\",\"automargin\":true,\"zerolinewidth\":2},\"scene\":{\"xaxis\":{\"backgroundcolor\":\"rgb(17,17,17)\",\"gridcolor\":\"#506784\",\"linecolor\":\"#506784\",\"showbackground\":true,\"ticks\":\"\",\"zerolinecolor\":\"#C8D4E3\",\"gridwidth\":2},\"yaxis\":{\"backgroundcolor\":\"rgb(17,17,17)\",\"gridcolor\":\"#506784\",\"linecolor\":\"#506784\",\"showbackground\":true,\"ticks\":\"\",\"zerolinecolor\":\"#C8D4E3\",\"gridwidth\":2},\"zaxis\":{\"backgroundcolor\":\"rgb(17,17,17)\",\"gridcolor\":\"#506784\",\"linecolor\":\"#506784\",\"showbackground\":true,\"ticks\":\"\",\"zerolinecolor\":\"#C8D4E3\",\"gridwidth\":2}},\"shapedefaults\":{\"line\":{\"color\":\"#f2f5fa\"}},\"annotationdefaults\":{\"arrowcolor\":\"#f2f5fa\",\"arrowhead\":0,\"arrowwidth\":1},\"geo\":{\"bgcolor\":\"rgb(17,17,17)\",\"landcolor\":\"rgb(17,17,17)\",\"subunitcolor\":\"#506784\",\"showland\":true,\"showlakes\":true,\"lakecolor\":\"rgb(17,17,17)\"},\"title\":{\"x\":0.05},\"updatemenudefaults\":{\"bgcolor\":\"#506784\",\"borderwidth\":0},\"sliderdefaults\":{\"bgcolor\":\"#C8D4E3\",\"borderwidth\":1,\"bordercolor\":\"rgb(17,17,17)\",\"tickwidth\":0},\"mapbox\":{\"style\":\"dark\"}}},\"title\":{\"text\":\"Comparison of two models.\"},\"xaxis\":{\"title\":{\"text\":\"max_features\"}},\"yaxis\":{\"title\":{\"text\":\"Score\"}}},                        {\"responsive\": true}                    ).then(function(){\n                            \nvar gd = document.getElementById('733d97e9-b0f0-440d-a5e1-a4ec8f407344');\nvar x = new MutationObserver(function (mutations, observer) {{\n        var display = window.getComputedStyle(gd).display;\n        if (!display || display === 'none') {{\n            console.log([gd, 'removed!']);\n            Plotly.purge(gd);\n            observer.disconnect();\n        }}\n}});\n\n// Listen for the removal of the full notebook cells\nvar notebookContainer = gd.closest('#notebook-container');\nif (notebookContainer) {{\n    x.observe(notebookContainer, {childList: true});\n}}\n\n// Listen for the clearing of the current output cell\nvar outputEl = gd.closest('.output');\nif (outputEl) {{\n    x.observe(outputEl, {childList: true});\n}}\n\n                        })                };                });            </script>        </div>"
     },
     "metadata": {},
     "output_type": "display_data"
    }
   ],
   "source": [
    "fig = go.Figure()\n",
    "fig.add_trace(go.Scatter(x=list(range(min_value,max_value, step_value)), y=score_test_lst,\n",
    "                    mode='lines',\n",
    "                    name='Test score without stopwords function'))\n",
    "fig.add_trace(go.Scatter(x=list(range(min_value,max_value, step_value)), y=score_test_lst2,\n",
    "                    mode='lines+markers',\n",
    "                    name='Test score with stopwords function'))\n",
    "fig.add_trace(go.Scatter(x=list(range(min_value,max_value, step_value)), y=[base_line]*(max_value-min_value),\n",
    "                    mode='lines+markers',\n",
    "                    name=f'Baseline score shape={t_shape}'))\n",
    "\n",
    "fig.update_layout(title='Comparison of two models.',\n",
    "                   xaxis_title='max_features',\n",
    "                   yaxis_title='Score')\n",
    "fig.show()"
   ],
   "metadata": {
    "collapsed": false,
    "ExecuteTime": {
     "end_time": "2024-03-04T19:37:42.665049Z",
     "start_time": "2024-03-04T19:37:42.583221Z"
    }
   },
   "id": "654c49591a6734fc",
   "execution_count": 39
  },
  {
   "cell_type": "code",
   "outputs": [],
   "source": [],
   "metadata": {
    "collapsed": false
   },
   "id": "f5240a738b471d61"
  }
 ],
 "metadata": {
  "kernelspec": {
   "display_name": "Python 3",
   "language": "python",
   "name": "python3"
  },
  "language_info": {
   "codemirror_mode": {
    "name": "ipython",
    "version": 2
   },
   "file_extension": ".py",
   "mimetype": "text/x-python",
   "name": "python",
   "nbconvert_exporter": "python",
   "pygments_lexer": "ipython2",
   "version": "2.7.6"
  }
 },
 "nbformat": 4,
 "nbformat_minor": 5
}
