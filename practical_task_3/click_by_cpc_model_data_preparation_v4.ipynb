{
 "cells": [
  {
   "cell_type": "code",
   "execution_count": 1,
   "id": "fee50597",
   "metadata": {},
   "outputs": [],
   "source": [
    "import os\n",
    "import pandas as pd\n",
    "pd.set_option('display.max_columns', None)\n",
    "from sklearn.model_selection import train_test_split\n",
    "\n",
    "import importlib\n",
    "import sys\n",
    "\n",
    "\n",
    "from core.ml.utils.v4.ml_utils import *\n",
    "from core.ml.utils.v4.click_for_day_data_processor import *\n",
    "importlib.reload(sys.modules['core.ml.utils.v4.click_for_day_data_processor'])\n",
    "importlib.reload(sys.modules['core.ml.utils.v4.ml_utils'])\n",
    "from core.ml.utils.v4.ml_utils import *\n",
    "from core.ml.utils.v4.click_for_day_data_processor import *\n",
    "from core.ml.utils.v4.click_data_processor import *\n",
    "\n",
    "importlib.reload(sys.modules['core.ml.utils.v4.click_data_processor'])\n",
    "from core.ml.utils.v4.click_data_processor import *"
   ]
  },
  {
   "cell_type": "code",
   "execution_count": 2,
   "id": "f3d53913",
   "metadata": {},
   "outputs": [
    {
     "data": {
      "text/plain": [
       "'/Users/vyacheslav/PycharmProjects/adhome_ml/notebooks/clicks_by_cpc'"
      ]
     },
     "execution_count": 2,
     "metadata": {},
     "output_type": "execute_result"
    }
   ],
   "source": [
    "cwd = os.getcwd()\n",
    "cwd"
   ]
  },
  {
   "cell_type": "code",
   "execution_count": 3,
   "id": "6f3b954e",
   "metadata": {},
   "outputs": [
    {
     "name": "stdout",
     "output_type": "stream",
     "text": [
      "/Users/vyacheslav/PycharmProjects/adhome_ml/data_tmp\n"
     ]
    }
   ],
   "source": [
    "cwd = os.getcwd()\n",
    "data_store_path_dir = os.path.abspath(os.path.join(cwd, \"../../data_tmp/\"))\n",
    "print(data_store_path_dir)"
   ]
  },
  {
   "cell_type": "code",
   "execution_count": 4,
   "id": "424ac6f3",
   "metadata": {},
   "outputs": [],
   "source": [
    "gads_keyword_cost_df = pd.read_csv(os.path.join(data_store_path_dir, \"gads_keyword_cost.csv\"))"
   ]
  },
  {
   "cell_type": "code",
   "execution_count": 5,
   "id": "da805178",
   "metadata": {},
   "outputs": [],
   "source": [
    "client_profile_id = \"1\""
   ]
  },
  {
   "cell_type": "code",
   "execution_count": 6,
   "id": "d69465d1",
   "metadata": {},
   "outputs": [],
   "source": [
    "df = gads_keyword_cost_df[gads_keyword_cost_df[\"client_profile_id\"] == client_profile_id ]"
   ]
  },
  {
   "cell_type": "code",
   "execution_count": 7,
   "id": "ffdd8388",
   "metadata": {},
   "outputs": [
    {
     "data": {
      "text/plain": [
       "(1051348, 23)"
      ]
     },
     "execution_count": 7,
     "metadata": {},
     "output_type": "execute_result"
    }
   ],
   "source": [
    "df.shape"
   ]
  },
  {
   "cell_type": "code",
   "execution_count": 8,
   "id": "f0498fe3",
   "metadata": {},
   "outputs": [
    {
     "name": "stderr",
     "output_type": "stream",
     "text": [
      "/Users/vyacheslav/PycharmProjects/adhome_ml/core/ml/utils/v4/click_data_processor.py:168: SettingWithCopyWarning: \n",
      "A value is trying to be set on a copy of a slice from a DataFrame.\n",
      "Try using .loc[row_indexer,col_indexer] = value instead\n",
      "\n",
      "See the caveats in the documentation: https://pandas.pydata.org/pandas-docs/stable/user_guide/indexing.html#returning-a-view-versus-a-copy\n",
      "  df.loc[:, 'cpc'] = df.loc[:, 'cpc'].astype(float)\n",
      "/Users/vyacheslav/PycharmProjects/adhome_ml/core/ml/utils/v4/click_data_processor.py:169: SettingWithCopyWarning: \n",
      "A value is trying to be set on a copy of a slice from a DataFrame.\n",
      "Try using .loc[row_indexer,col_indexer] = value instead\n",
      "\n",
      "See the caveats in the documentation: https://pandas.pydata.org/pandas-docs/stable/user_guide/indexing.html#returning-a-view-versus-a-copy\n",
      "  df.loc[:, 'clicks'] = df.loc[:, 'clicks'].astype(int)\n",
      "/Users/vyacheslav/PycharmProjects/adhome_ml/core/ml/utils/v4/click_data_processor.py:18: SettingWithCopyWarning: \n",
      "A value is trying to be set on a copy of a slice from a DataFrame.\n",
      "Try using .loc[row_indexer,col_indexer] = value instead\n",
      "\n",
      "See the caveats in the documentation: https://pandas.pydata.org/pandas-docs/stable/user_guide/indexing.html#returning-a-view-versus-a-copy\n",
      "  df[col] = df[col].apply(lambda x: string_process(x))\n"
     ]
    },
    {
     "name": "stdout",
     "output_type": "stream",
     "text": [
      "{'campaign_name': 11, 'keyword': 6, 'ad_group': 5, 'keyword_match_type': 1}\n",
      " len encoder_dict = 331\n",
      " len decoder_dict = 331\n",
      "['campaign_name_0_category', 'campaign_name_1_category', 'campaign_name_2_category', 'campaign_name_3_category', 'campaign_name_4_category', 'campaign_name_5_category', 'campaign_name_6_category', 'campaign_name_7_category', 'campaign_name_8_category', 'campaign_name_9_category', 'campaign_name_10_category']\n",
      "Index(['campaign_name_0_category', 'campaign_name_1_category',\n",
      "       'campaign_name_2_category', 'campaign_name_3_category',\n",
      "       'campaign_name_4_category', 'campaign_name_5_category',\n",
      "       'campaign_name_6_category', 'campaign_name_7_category',\n",
      "       'campaign_name_8_category', 'campaign_name_9_category',\n",
      "       'campaign_name_10_category'],\n",
      "      dtype='object')\n",
      "['keyword_0_category', 'keyword_1_category', 'keyword_2_category', 'keyword_3_category', 'keyword_4_category', 'keyword_5_category']\n",
      "Index(['keyword_0_category', 'keyword_1_category', 'keyword_2_category',\n",
      "       'keyword_3_category', 'keyword_4_category', 'keyword_5_category'],\n",
      "      dtype='object')\n",
      "['ad_group_0_category', 'ad_group_1_category', 'ad_group_2_category', 'ad_group_3_category', 'ad_group_4_category']\n",
      "Index(['ad_group_0_category', 'ad_group_1_category', 'ad_group_2_category',\n",
      "       'ad_group_3_category', 'ad_group_4_category'],\n",
      "      dtype='object')\n",
      "['keyword_match_type_0_category']\n",
      "Index(['keyword_match_type_0_category'], dtype='object')\n",
      "Process CPC...\n",
      "Augment with zero CPC\n",
      "Clicks with more 0.01 cpc is (211484, 38)\n",
      "DF shape before (1051348, 38)\n",
      "DF shape after (1262832, 38)\n",
      "Add holiday label.\n",
      "val_df.shape = (14582, 41)\n",
      "train_df.shape = (1248250, 41)\n"
     ]
    }
   ],
   "source": [
    "dft = process_click_data(df=df, is_train =True)"
   ]
  },
  {
   "cell_type": "code",
   "execution_count": 46,
   "id": "42b67a5c",
   "metadata": {},
   "outputs": [
    {
     "data": {
      "text/plain": [
       "dict_keys(['X_train', 'X_test', 'X_val', 'encoder_dict', 'decode_dict', 'max_tokens_in_columns'])"
      ]
     },
     "execution_count": 46,
     "metadata": {},
     "output_type": "execute_result"
    }
   ],
   "source": [
    "dft.keys()"
   ]
  },
  {
   "cell_type": "code",
   "execution_count": 69,
   "id": "12d2adcd",
   "metadata": {},
   "outputs": [],
   "source": [
    "X_train = dft.get(\"X_train\")\n",
    "X_test = dft.get(\"X_test\")\n",
    "X_val = dft.get(\"X_val\")\n",
    "\n",
    "encoder_dict = dft.get(\"encoder_dict\")\n",
    "decode_dict = dft.get(\"decode_dict\")\n",
    "max_tokens_in_columns = dft.get(\"max_tokens_in_columns\")"
   ]
  },
  {
   "cell_type": "code",
   "execution_count": 70,
   "id": "da16ef16",
   "metadata": {},
   "outputs": [
    {
     "data": {
      "text/plain": [
       "{'campaign_name': 11, 'keyword': 6, 'ad_group': 5, 'keyword_match_type': 1}"
      ]
     },
     "execution_count": 70,
     "metadata": {},
     "output_type": "execute_result"
    }
   ],
   "source": [
    "max_tokens_in_columns\n"
   ]
  },
  {
   "cell_type": "code",
   "execution_count": 71,
   "id": "a108663c",
   "metadata": {},
   "outputs": [],
   "source": [
    "model_name = \"clicks_by_cpc\"\n",
    "local_store_path = os.path.join(data_store_path_dir,model_name)\n",
    "train_file_name = \"X_train.parquet\"\n",
    "test_file_name = \"X_test.parquet\"\n",
    "val_file_name = \"X_val.parquet\""
   ]
  },
  {
   "cell_type": "code",
   "execution_count": 72,
   "id": "ad61807b",
   "metadata": {},
   "outputs": [
    {
     "data": {
      "text/plain": [
       "'/Users/vyacheslav/PycharmProjects/adhome_ml/data_tmp/clicks_by_cpc/X_train.parquet'"
      ]
     },
     "execution_count": 72,
     "metadata": {},
     "output_type": "execute_result"
    }
   ],
   "source": [
    "os.path.join(local_store_path, train_file_name)"
   ]
  },
  {
   "cell_type": "code",
   "execution_count": 73,
   "id": "7f090055",
   "metadata": {},
   "outputs": [],
   "source": [
    "X_train.to_parquet(os.path.join(local_store_path, train_file_name))\n",
    "X_test.to_parquet(os.path.join(local_store_path, test_file_name))\n",
    "X_val.to_parquet(os.path.join(local_store_path, val_file_name))"
   ]
  },
  {
   "cell_type": "code",
   "execution_count": 74,
   "id": "51690246",
   "metadata": {},
   "outputs": [],
   "source": [
    "import cloudpickle"
   ]
  },
  {
   "cell_type": "code",
   "execution_count": 75,
   "id": "ebde7875",
   "metadata": {},
   "outputs": [],
   "source": [
    "encoder_dict_fname = \"encoder_dict.pkl\"\n",
    "max_tokens_in_columns_fname  = \"max_tokens_in_columns.pkl\"\n",
    "decode_dict_fname  = \"decode_dict.pkl\"\n",
    "\n",
    "with open(os.path.join(local_store_path,encoder_dict_fname), mode='wb') as file:\n",
    "    cloudpickle.dump(encoder_dict, file)\n",
    "    \n",
    "with open(os.path.join(local_store_path, max_tokens_in_columns_fname), mode='wb') as file:\n",
    "    cloudpickle.dump(max_tokens_in_columns, file)\n",
    "    \n",
    "with open(os.path.join(local_store_path, decode_dict_fname), mode='wb') as file:\n",
    "    cloudpickle.dump(decode_dict, file)"
   ]
  },
  {
   "cell_type": "code",
   "execution_count": 76,
   "id": "4f4b6efb",
   "metadata": {},
   "outputs": [],
   "source": [
    "files_lst = []\n",
    "for file_name in [\n",
    "    train_file_name, \n",
    "  test_file_name,\n",
    "  val_file_name,\n",
    "  encoder_dict_fname,\n",
    "  max_tokens_in_columns_fname,\n",
    "  decode_dict_fname\n",
    "  ]:\n",
    "    files_lst.append(\n",
    "        {\n",
    "            \"local_path\": os.path.join(local_store_path, file_name),\n",
    "            \"file_name\":file_name\n",
    "        }\n",
    "    )"
   ]
  },
  {
   "cell_type": "code",
   "execution_count": 77,
   "id": "b93f895a",
   "metadata": {},
   "outputs": [
    {
     "data": {
      "text/plain": [
       "[{'local_path': '/Users/vyacheslav/PycharmProjects/adhome_ml/data_tmp/clicks_by_cpc/X_train.parquet',\n",
       "  'file_name': 'X_train.parquet'},\n",
       " {'local_path': '/Users/vyacheslav/PycharmProjects/adhome_ml/data_tmp/clicks_by_cpc/X_test.parquet',\n",
       "  'file_name': 'X_test.parquet'},\n",
       " {'local_path': '/Users/vyacheslav/PycharmProjects/adhome_ml/data_tmp/clicks_by_cpc/X_val.parquet',\n",
       "  'file_name': 'X_val.parquet'},\n",
       " {'local_path': '/Users/vyacheslav/PycharmProjects/adhome_ml/data_tmp/clicks_by_cpc/encoder_dict.pkl',\n",
       "  'file_name': 'encoder_dict.pkl'},\n",
       " {'local_path': '/Users/vyacheslav/PycharmProjects/adhome_ml/data_tmp/clicks_by_cpc/max_tokens_in_columns.pkl',\n",
       "  'file_name': 'max_tokens_in_columns.pkl'},\n",
       " {'local_path': '/Users/vyacheslav/PycharmProjects/adhome_ml/data_tmp/clicks_by_cpc/decode_dict.pkl',\n",
       "  'file_name': 'decode_dict.pkl'}]"
      ]
     },
     "execution_count": 77,
     "metadata": {},
     "output_type": "execute_result"
    }
   ],
   "source": [
    "files_lst"
   ]
  },
  {
   "cell_type": "code",
   "execution_count": 78,
   "id": "525e430a",
   "metadata": {},
   "outputs": [],
   "source": [
    "import boto3\n",
    "from botocore.exceptions import ClientError\n",
    "import io\n",
    "os.environ[\"AWS_ACCESS_KEY_ID\"]=\"mlflow\"\n",
    "os.environ[\"AWS_SECRET_ACCESS_KEY\"]=\"iasdnasd324fsd23\"\n",
    "os.environ[\"MLFLOW_S3_ENDPOINT_URL\"]=\"http://192.168.28.253:9000\"\n",
    "os.environ[\"BOTO3_ENDPOINT_URL\"]=\"http://192.168.28.253:9000\"\n",
    "s3_client = boto3.client('s3', endpoint_url=\"http://192.168.28.253:9000\")\n",
    "\n",
    "\n",
    "def upload_my_file(bucket, folder, file_as_binary, file_name):\n",
    "        file_as_binary = io.BytesIO(file_as_binary)\n",
    "        key = folder+\"/\"+file_name\n",
    "        try:\n",
    "            s3_client.upload_fileobj(file_as_binary, bucket, key)\n",
    "        except ClientError as e:\n",
    "            print(e)\n",
    "            return False\n",
    "        return True"
   ]
  },
  {
   "cell_type": "code",
   "execution_count": 79,
   "id": "af50fcc1",
   "metadata": {},
   "outputs": [],
   "source": [
    "bucket_name = \"traindata\""
   ]
  },
  {
   "cell_type": "code",
   "execution_count": 80,
   "id": "013d13d3",
   "metadata": {},
   "outputs": [],
   "source": [
    "folder_name=model_name"
   ]
  },
  {
   "cell_type": "code",
   "execution_count": 81,
   "id": "e9e347ee",
   "metadata": {},
   "outputs": [
    {
     "name": "stdout",
     "output_type": "stream",
     "text": [
      "Reading '/Users/vyacheslav/PycharmProjects/adhome_ml/data_tmp/clicks_by_cpc/X_train.parquet'\n",
      "Upload 'X_train.parquet'\n",
      "Reading '/Users/vyacheslav/PycharmProjects/adhome_ml/data_tmp/clicks_by_cpc/X_test.parquet'\n",
      "Upload 'X_test.parquet'\n",
      "Reading '/Users/vyacheslav/PycharmProjects/adhome_ml/data_tmp/clicks_by_cpc/X_val.parquet'\n",
      "Upload 'X_val.parquet'\n",
      "Reading '/Users/vyacheslav/PycharmProjects/adhome_ml/data_tmp/clicks_by_cpc/encoder_dict.pkl'\n",
      "Upload 'encoder_dict.pkl'\n",
      "Reading '/Users/vyacheslav/PycharmProjects/adhome_ml/data_tmp/clicks_by_cpc/max_tokens_in_columns.pkl'\n",
      "Upload 'max_tokens_in_columns.pkl'\n",
      "Reading '/Users/vyacheslav/PycharmProjects/adhome_ml/data_tmp/clicks_by_cpc/decode_dict.pkl'\n",
      "Upload 'decode_dict.pkl'\n"
     ]
    }
   ],
   "source": [
    "for d in files_lst:\n",
    "    \n",
    "    #get file as binary\n",
    "    local_file_name = d.get(\"local_path\")\n",
    "    print(f\"Reading '{local_file_name}'\")\n",
    "    file_binary = open(local_file_name, \"rb\").read()\n",
    "    #uploading file\n",
    "    file_name =  d.get(\"file_name\")\n",
    "    print(f\"Upload '{file_name}'\")\n",
    "    upload_my_file(bucket_name, folder_name, file_binary,file_name)"
   ]
  },
  {
   "cell_type": "code",
   "execution_count": 84,
   "id": "b8f74563",
   "metadata": {},
   "outputs": [],
   "source": [
    "with open(os.path.join(local_store_path,'decode_dict.pkl'), mode='rb') as file:\n",
    "    instance = cloudpickle.load(file)"
   ]
  },
  {
   "cell_type": "code",
   "execution_count": 85,
   "id": "13c4d242",
   "metadata": {},
   "outputs": [
    {
     "data": {
      "text/plain": [
       "{0: 'bkz3',\n",
       " 1: 'efficiency',\n",
       " 2: 'mechanical',\n",
       " 3: 'companies',\n",
       " 4: 'bz5',\n",
       " 5: 'conversions',\n",
       " 6: 'bkz8',\n",
       " 7: 'acadia',\n",
       " 8: 'tune',\n",
       " 9: 'bz8',\n",
       " 10: 'calgary',\n",
       " 11: '4',\n",
       " 12: 'springbank',\n",
       " 13: 'st',\n",
       " 14: 'household',\n",
       " 15: '100',\n",
       " 16: 'furnaceexperiment',\n",
       " 17: 'working',\n",
       " 18: 'paragon',\n",
       " 19: 'services',\n",
       " 20: 'affordable',\n",
       " 21: 'troas',\n",
       " 22: 'meadows',\n",
       " 23: 'tcpa',\n",
       " 24: 'repair',\n",
       " 25: 'units',\n",
       " 26: 'serv',\n",
       " 27: 'jps',\n",
       " 28: 'central',\n",
       " 29: 'prices',\n",
       " 30: 'douglasdalemckenzie',\n",
       " 31: 'area',\n",
       " 32: 'areas',\n",
       " 33: 'riverbendogden',\n",
       " 34: 'purchase',\n",
       " 35: 'burns',\n",
       " 36: 'humidifier',\n",
       " 37: 'strathcona',\n",
       " 38: 'servicing',\n",
       " 39: 'electric',\n",
       " 40: 'luced',\n",
       " 41: 'up',\n",
       " 42: 'romaniuk',\n",
       " 43: 'milo',\n",
       " 44: 'bz3',\n",
       " 45: 'ab',\n",
       " 46: 'true',\n",
       " 47: 'gz3',\n",
       " 48: 'water',\n",
       " 49: 'bridgeland',\n",
       " 50: 'rocky',\n",
       " 51: 'to',\n",
       " 52: 'flostar',\n",
       " 53: 'campaign',\n",
       " 54: 'atlas',\n",
       " 55: 'grove',\n",
       " 56: 'mcmullens',\n",
       " 57: 'a1',\n",
       " 58: 'propane',\n",
       " 59: 'purair',\n",
       " 60: 'rz12',\n",
       " 61: 'in',\n",
       " 62: 'rz4',\n",
       " 63: 'bz6',\n",
       " 64: 'natural',\n",
       " 65: 'systems',\n",
       " 66: 'fort',\n",
       " 67: 'day',\n",
       " 68: 'mr',\n",
       " 69: 'red',\n",
       " 70: 'cornerstone',\n",
       " 71: 'search',\n",
       " 72: 'tech',\n",
       " 73: 'spruce',\n",
       " 74: 'high',\n",
       " 75: 'bz9',\n",
       " 76: 'mckinley',\n",
       " 77: 'heat',\n",
       " 78: 'bz11',\n",
       " 79: 'cost',\n",
       " 80: 'rz6',\n",
       " 81: 'and',\n",
       " 82: 'cleaning',\n",
       " 83: 'is',\n",
       " 84: 'linear',\n",
       " 85: 'saskatchewan',\n",
       " 86: 'contractors',\n",
       " 87: 'action',\n",
       " 88: 'bz7',\n",
       " 89: '2022',\n",
       " 90: 'kingsland',\n",
       " 91: 'maintenance',\n",
       " 92: 'sherwood',\n",
       " 93: 'priority',\n",
       " 94: 'stat',\n",
       " 95: 'seven',\n",
       " 96: 'replacing',\n",
       " 97: 'house',\n",
       " 98: 'rz9',\n",
       " 99: 'intertherm',\n",
       " 100: 'price',\n",
       " 101: 'rz2',\n",
       " 102: 'cooling',\n",
       " 103: 'evaporative',\n",
       " 104: 'bz12',\n",
       " 105: 'targeting',\n",
       " 106: 'duplicate',\n",
       " 107: 'old',\n",
       " 108: 'products',\n",
       " 109: '75',\n",
       " 110: '247',\n",
       " 111: 'max',\n",
       " 112: 'copper',\n",
       " 113: 'me',\n",
       " 114: 'tank',\n",
       " 115: 'revolv',\n",
       " 116: 'knight',\n",
       " 117: 'mobile',\n",
       " 118: 'sales',\n",
       " 119: 'bkz7',\n",
       " 120: 'peak',\n",
       " 121: 'bonavista',\n",
       " 122: 'general',\n",
       " 123: 'rammech',\n",
       " 124: 'best',\n",
       " 125: 'bz14',\n",
       " 126: 'cleaners',\n",
       " 127: 'gas',\n",
       " 128: 'johnson',\n",
       " 129: 'remarketing',\n",
       " 130: 'air',\n",
       " 131: 'reliance',\n",
       " 132: 'reviews',\n",
       " 133: 'hvac',\n",
       " 134: 'mounted',\n",
       " 135: 'rt',\n",
       " 136: 'county',\n",
       " 137: 'always',\n",
       " 138: 'night',\n",
       " 139: 'catch',\n",
       " 140: 'emco',\n",
       " 141: 'family',\n",
       " 142: 'bankview',\n",
       " 143: 'company',\n",
       " 144: 'edmonton',\n",
       " 145: 'instant',\n",
       " 146: 'how',\n",
       " 147: 'vs',\n",
       " 148: 'bkz2',\n",
       " 149: 'forced',\n",
       " 150: 'furnace',\n",
       " 151: 'deer',\n",
       " 152: 'chesney',\n",
       " 153: 'harmony',\n",
       " 154: 'group',\n",
       " 155: 'target',\n",
       " 156: 'rz5',\n",
       " 157: 'able',\n",
       " 158: 'bkz5',\n",
       " 159: 'hot',\n",
       " 160: 'polar',\n",
       " 161: 'acclaimed',\n",
       " 162: 'southwest',\n",
       " 163: 'contractor',\n",
       " 164: 'brands',\n",
       " 165: 'waldensilverado',\n",
       " 166: 'power',\n",
       " 167: 'coleman',\n",
       " 168: 'conditioner',\n",
       " 169: 'rz10',\n",
       " 170: 'rz7',\n",
       " 171: 'ac',\n",
       " 172: 'home',\n",
       " 173: 'inspection',\n",
       " 174: 'much',\n",
       " 175: 'bz13',\n",
       " 176: 'steamdry',\n",
       " 177: 'estimate',\n",
       " 178: 'horizon',\n",
       " 179: 'carrier',\n",
       " 180: 'hydroflo',\n",
       " 181: 'cpa',\n",
       " 182: 'okotoks',\n",
       " 183: 'branding',\n",
       " 184: 'lake',\n",
       " 185: 'plumbing',\n",
       " 186: 'broad',\n",
       " 187: '1',\n",
       " 188: 'condition',\n",
       " 189: 'williams',\n",
       " 190: '3',\n",
       " 191: 'mayfair',\n",
       " 192: 'weiss',\n",
       " 193: 'control',\n",
       " 194: 'four',\n",
       " 195: 'find',\n",
       " 196: 'of',\n",
       " 197: 'trust',\n",
       " 198: 'tankless',\n",
       " 199: 'cpc',\n",
       " 200: 'exact',\n",
       " 201: 'force',\n",
       " 202: 'canyon',\n",
       " 203: 'atco',\n",
       " 204: 'northwest',\n",
       " 205: 'malfunction',\n",
       " 206: 'new',\n",
       " 207: 'conditioning',\n",
       " 208: 'phrase',\n",
       " 209: 'view',\n",
       " 210: 'park',\n",
       " 211: 'lennox',\n",
       " 212: 'quality',\n",
       " 213: 'cool',\n",
       " 214: 'oil',\n",
       " 215: 'improve',\n",
       " 216: 'emergency',\n",
       " 217: 'exchanger',\n",
       " 218: 'modern',\n",
       " 219: '8764',\n",
       " 220: 'conditioners',\n",
       " 221: '2k',\n",
       " 222: 'north',\n",
       " 223: 'replacement',\n",
       " 224: 'gz2',\n",
       " 225: 'bkz6',\n",
       " 226: 'replace',\n",
       " 227: 'experts',\n",
       " 228: 'humidifiers',\n",
       " 229: 'af',\n",
       " 230: 'parkdale',\n",
       " 231: 'comfort',\n",
       " 232: 'ducts',\n",
       " 233: 'rahall',\n",
       " 234: 'rz3',\n",
       " 235: 'bruins',\n",
       " 236: 'iaq',\n",
       " 237: 'brighton',\n",
       " 238: 'arpis',\n",
       " 239: 'leduc',\n",
       " 240: 'not',\n",
       " 241: 'bulldog',\n",
       " 242: 'urgent',\n",
       " 243: 'parts',\n",
       " 244: 'all',\n",
       " 245: 'hydronics',\n",
       " 246: 'whole',\n",
       " 247: 'rz8',\n",
       " 248: 'compete',\n",
       " 249: 'bkz4',\n",
       " 250: 'duct',\n",
       " 251: 'bz15',\n",
       " 252: 'demko',\n",
       " 253: 'heaters',\n",
       " 254: 'tanks',\n",
       " 255: 'service',\n",
       " 256: 'hepa',\n",
       " 257: 'refrigeration',\n",
       " 258: 'springs',\n",
       " 259: 'albert',\n",
       " 260: 'alberta',\n",
       " 261: 'demand',\n",
       " 262: 'airdrie',\n",
       " 263: 'ventilation',\n",
       " 264: 'sale',\n",
       " 265: 'indoor',\n",
       " 266: 'searchexperiment',\n",
       " 267: 'bz16',\n",
       " 268: '2',\n",
       " 269: 'bz2',\n",
       " 270: 'heater',\n",
       " 271: 'west',\n",
       " 272: 'inquiries',\n",
       " 273: 'wildwood',\n",
       " 274: 'ultrasonic',\n",
       " 275: 'cranston',\n",
       " 276: 'ram',\n",
       " 277: 'near',\n",
       " 278: 'flash',\n",
       " 279: 'unit',\n",
       " 280: 'cochrane',\n",
       " 281: 'costs',\n",
       " 282: 'kles',\n",
       " 283: 'tuneup',\n",
       " 284: 'filter',\n",
       " 285: 'system',\n",
       " 286: 'pond',\n",
       " 287: 'prosolutions',\n",
       " 288: 'climate',\n",
       " 289: 'brothers',\n",
       " 290: 'install',\n",
       " 291: 'repairs',\n",
       " 292: 'legacy',\n",
       " 293: 'installers',\n",
       " 294: 'on',\n",
       " 295: 'gateway',\n",
       " 296: 'fix',\n",
       " 297: 'mobility',\n",
       " 298: 'competitors',\n",
       " 299: 'buy',\n",
       " 300: 'small',\n",
       " 301: 'seasons',\n",
       " 302: 'northeast',\n",
       " 303: 'furnaces',\n",
       " 304: 'cj',\n",
       " 305: 'larger',\n",
       " 306: 'willow',\n",
       " 307: 'quote',\n",
       " 308: 'contrfurnacetor',\n",
       " 309: 'soul',\n",
       " 310: 'filtration',\n",
       " 311: 'a',\n",
       " 312: 'nordic',\n",
       " 313: 'filters',\n",
       " 314: 'royal',\n",
       " 315: 'installation',\n",
       " 316: 'problem',\n",
       " 317: 'bz4',\n",
       " 318: 'aire',\n",
       " 319: 'rz11',\n",
       " 320: 'unlimited',\n",
       " 321: 'bz10',\n",
       " 322: 'quarry',\n",
       " 323: 'solutions',\n",
       " 324: 'heating',\n",
       " 325: 'pump',\n",
       " 326: 'for',\n",
       " 327: 'cleaner',\n",
       " 328: 'aires',\n",
       " 329: 'roas',\n",
       " 330: 'unknown'}"
      ]
     },
     "execution_count": 85,
     "metadata": {},
     "output_type": "execute_result"
    }
   ],
   "source": [
    "instance"
   ]
  },
  {
   "cell_type": "code",
   "execution_count": null,
   "id": "59232060",
   "metadata": {},
   "outputs": [],
   "source": []
  }
 ],
 "metadata": {
  "kernelspec": {
   "display_name": "Python 3 (ipykernel)",
   "language": "python",
   "name": "python3"
  },
  "language_info": {
   "codemirror_mode": {
    "name": "ipython",
    "version": 3
   },
   "file_extension": ".py",
   "mimetype": "text/x-python",
   "name": "python",
   "nbconvert_exporter": "python",
   "pygments_lexer": "ipython3",
   "version": "3.9.12"
  }
 },
 "nbformat": 4,
 "nbformat_minor": 5
}
